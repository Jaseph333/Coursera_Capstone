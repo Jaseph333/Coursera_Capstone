{
 "cells": [
  {
   "cell_type": "markdown",
   "metadata": {},
   "source": [
    "# Coursera Applied Data Science Capstone / Week 3 / PART I"
   ]
  },
  {
   "cell_type": "markdown",
   "metadata": {},
   "source": [
    "Importing Libraries"
   ]
  },
  {
   "cell_type": "code",
   "execution_count": 54,
   "metadata": {},
   "outputs": [],
   "source": [
    "# import libraries\n",
    "\n",
    "import requests\n",
    "import pandas as pd\n",
    "import numpy as np\n",
    "from bs4 import BeautifulSoup\n",
    "from geopy.geocoders import Nominatim\n",
    "import folium\n",
    "import matplotlib.cm as cm\n",
    "import matplotlib.colors as colors"
   ]
  },
  {
   "cell_type": "markdown",
   "metadata": {},
   "source": [
    "Now for the scraping"
   ]
  },
  {
   "cell_type": "code",
   "execution_count": 19,
   "metadata": {},
   "outputs": [
    {
     "data": {
      "text/html": [
       "<div>\n",
       "<style scoped>\n",
       "    .dataframe tbody tr th:only-of-type {\n",
       "        vertical-align: middle;\n",
       "    }\n",
       "\n",
       "    .dataframe tbody tr th {\n",
       "        vertical-align: top;\n",
       "    }\n",
       "\n",
       "    .dataframe thead th {\n",
       "        text-align: right;\n",
       "    }\n",
       "</style>\n",
       "<table border=\"1\" class=\"dataframe\">\n",
       "  <thead>\n",
       "    <tr style=\"text-align: right;\">\n",
       "      <th></th>\n",
       "      <th>Postal code</th>\n",
       "      <th>Borough</th>\n",
       "      <th>Neighborhood</th>\n",
       "    </tr>\n",
       "  </thead>\n",
       "  <tbody>\n",
       "    <tr>\n",
       "      <th>0</th>\n",
       "      <td>M1A</td>\n",
       "      <td>Not assigned</td>\n",
       "      <td>NaN</td>\n",
       "    </tr>\n",
       "    <tr>\n",
       "      <th>1</th>\n",
       "      <td>M2A</td>\n",
       "      <td>Not assigned</td>\n",
       "      <td>NaN</td>\n",
       "    </tr>\n",
       "    <tr>\n",
       "      <th>2</th>\n",
       "      <td>M3A</td>\n",
       "      <td>North York</td>\n",
       "      <td>Parkwoods</td>\n",
       "    </tr>\n",
       "    <tr>\n",
       "      <th>3</th>\n",
       "      <td>M4A</td>\n",
       "      <td>North York</td>\n",
       "      <td>Victoria Village</td>\n",
       "    </tr>\n",
       "    <tr>\n",
       "      <th>4</th>\n",
       "      <td>M5A</td>\n",
       "      <td>Downtown Toronto</td>\n",
       "      <td>Regent Park / Harbourfront</td>\n",
       "    </tr>\n",
       "  </tbody>\n",
       "</table>\n",
       "</div>"
      ],
      "text/plain": [
       "  Postal code           Borough                Neighborhood\n",
       "0         M1A      Not assigned                         NaN\n",
       "1         M2A      Not assigned                         NaN\n",
       "2         M3A        North York                   Parkwoods\n",
       "3         M4A        North York            Victoria Village\n",
       "4         M5A  Downtown Toronto  Regent Park / Harbourfront"
      ]
     },
     "execution_count": 19,
     "metadata": {},
     "output_type": "execute_result"
    }
   ],
   "source": [
    "# reading the webpage data\n",
    "httpurl='https://en.wikipedia.org/w/index.php?title=List_of_postal_codes_of_Canada:_M&oldid=954731857'\n",
    "downloadeddata = requests.get(httpurl)\n",
    "\n",
    "dataset = downloadeddata.text\n",
    "hotsoup = BeautifulSoup(dataset,'html.parser')\n",
    "boroughtable=hotsoup.find('table')\n",
    "#develop dataframe\n",
    "downloaded_table = pd.read_html(str(boroughtable))[0]\n",
    "downloaded_table.head()"
   ]
  },
  {
   "cell_type": "markdown",
   "metadata": {},
   "source": [
    "Processing and preparing dataframe"
   ]
  },
  {
   "cell_type": "code",
   "execution_count": 20,
   "metadata": {},
   "outputs": [
    {
     "data": {
      "text/html": [
       "<div>\n",
       "<style scoped>\n",
       "    .dataframe tbody tr th:only-of-type {\n",
       "        vertical-align: middle;\n",
       "    }\n",
       "\n",
       "    .dataframe tbody tr th {\n",
       "        vertical-align: top;\n",
       "    }\n",
       "\n",
       "    .dataframe thead th {\n",
       "        text-align: right;\n",
       "    }\n",
       "</style>\n",
       "<table border=\"1\" class=\"dataframe\">\n",
       "  <thead>\n",
       "    <tr style=\"text-align: right;\">\n",
       "      <th></th>\n",
       "      <th>PostalCode</th>\n",
       "      <th>Borough</th>\n",
       "      <th>Neighborhood</th>\n",
       "    </tr>\n",
       "  </thead>\n",
       "  <tbody>\n",
       "    <tr>\n",
       "      <th>1</th>\n",
       "      <td>M2A</td>\n",
       "      <td>Not assigned</td>\n",
       "      <td>NaN</td>\n",
       "    </tr>\n",
       "    <tr>\n",
       "      <th>2</th>\n",
       "      <td>M3A</td>\n",
       "      <td>North York</td>\n",
       "      <td>Parkwoods</td>\n",
       "    </tr>\n",
       "    <tr>\n",
       "      <th>3</th>\n",
       "      <td>M4A</td>\n",
       "      <td>North York</td>\n",
       "      <td>Victoria Village</td>\n",
       "    </tr>\n",
       "    <tr>\n",
       "      <th>4</th>\n",
       "      <td>M5A</td>\n",
       "      <td>Downtown Toronto</td>\n",
       "      <td>Regent Park / Harbourfront</td>\n",
       "    </tr>\n",
       "    <tr>\n",
       "      <th>5</th>\n",
       "      <td>M6A</td>\n",
       "      <td>North York</td>\n",
       "      <td>Lawrence Manor / Lawrence Heights</td>\n",
       "    </tr>\n",
       "  </tbody>\n",
       "</table>\n",
       "</div>"
      ],
      "text/plain": [
       "  PostalCode           Borough                       Neighborhood\n",
       "1        M2A      Not assigned                                NaN\n",
       "2        M3A        North York                          Parkwoods\n",
       "3        M4A        North York                   Victoria Village\n",
       "4        M5A  Downtown Toronto         Regent Park / Harbourfront\n",
       "5        M6A        North York  Lawrence Manor / Lawrence Heights"
      ]
     },
     "execution_count": 20,
     "metadata": {},
     "output_type": "execute_result"
    }
   ],
   "source": [
    "#Drop first column\n",
    "downloaded_table.drop(0,inplace=True)\n",
    "#Rename those columns\n",
    "downloaded_table.columns = ['PostalCode','Borough','Neighborhood']\n",
    "downloaded_table.head()"
   ]
  },
  {
   "cell_type": "markdown",
   "metadata": {},
   "source": [
    "Getting rid of \"not assigned\" boroughs (cleanin' up)"
   ]
  },
  {
   "cell_type": "code",
   "execution_count": 21,
   "metadata": {},
   "outputs": [
    {
     "data": {
      "text/html": [
       "<div>\n",
       "<style scoped>\n",
       "    .dataframe tbody tr th:only-of-type {\n",
       "        vertical-align: middle;\n",
       "    }\n",
       "\n",
       "    .dataframe tbody tr th {\n",
       "        vertical-align: top;\n",
       "    }\n",
       "\n",
       "    .dataframe thead th {\n",
       "        text-align: right;\n",
       "    }\n",
       "</style>\n",
       "<table border=\"1\" class=\"dataframe\">\n",
       "  <thead>\n",
       "    <tr style=\"text-align: right;\">\n",
       "      <th></th>\n",
       "      <th>index</th>\n",
       "      <th>PostalCode</th>\n",
       "      <th>Borough</th>\n",
       "      <th>Neighborhood</th>\n",
       "    </tr>\n",
       "  </thead>\n",
       "  <tbody>\n",
       "    <tr>\n",
       "      <th>0</th>\n",
       "      <td>2</td>\n",
       "      <td>M3A</td>\n",
       "      <td>North York</td>\n",
       "      <td>Parkwoods</td>\n",
       "    </tr>\n",
       "    <tr>\n",
       "      <th>1</th>\n",
       "      <td>3</td>\n",
       "      <td>M4A</td>\n",
       "      <td>North York</td>\n",
       "      <td>Victoria Village</td>\n",
       "    </tr>\n",
       "    <tr>\n",
       "      <th>2</th>\n",
       "      <td>4</td>\n",
       "      <td>M5A</td>\n",
       "      <td>Downtown Toronto</td>\n",
       "      <td>Regent Park / Harbourfront</td>\n",
       "    </tr>\n",
       "    <tr>\n",
       "      <th>3</th>\n",
       "      <td>5</td>\n",
       "      <td>M6A</td>\n",
       "      <td>North York</td>\n",
       "      <td>Lawrence Manor / Lawrence Heights</td>\n",
       "    </tr>\n",
       "    <tr>\n",
       "      <th>4</th>\n",
       "      <td>6</td>\n",
       "      <td>M7A</td>\n",
       "      <td>Downtown Toronto</td>\n",
       "      <td>Queen's Park / Ontario Provincial Government</td>\n",
       "    </tr>\n",
       "  </tbody>\n",
       "</table>\n",
       "</div>"
      ],
      "text/plain": [
       "   index PostalCode           Borough  \\\n",
       "0      2        M3A        North York   \n",
       "1      3        M4A        North York   \n",
       "2      4        M5A  Downtown Toronto   \n",
       "3      5        M6A        North York   \n",
       "4      6        M7A  Downtown Toronto   \n",
       "\n",
       "                                   Neighborhood  \n",
       "0                                     Parkwoods  \n",
       "1                              Victoria Village  \n",
       "2                    Regent Park / Harbourfront  \n",
       "3             Lawrence Manor / Lawrence Heights  \n",
       "4  Queen's Park / Ontario Provincial Government  "
      ]
     },
     "execution_count": 21,
     "metadata": {},
     "output_type": "execute_result"
    }
   ],
   "source": [
    "downloaded_tableII=downloaded_table[downloaded_table['Borough'].str.contains(\"Not assigned\") == False].reset_index()\n",
    "downloaded_tableII.head()"
   ]
  },
  {
   "cell_type": "markdown",
   "metadata": {},
   "source": [
    "If PostalCode and Borough have the same value combine them"
   ]
  },
  {
   "cell_type": "code",
   "execution_count": 28,
   "metadata": {},
   "outputs": [
    {
     "data": {
      "text/html": [
       "<div>\n",
       "<style scoped>\n",
       "    .dataframe tbody tr th:only-of-type {\n",
       "        vertical-align: middle;\n",
       "    }\n",
       "\n",
       "    .dataframe tbody tr th {\n",
       "        vertical-align: top;\n",
       "    }\n",
       "\n",
       "    .dataframe thead th {\n",
       "        text-align: right;\n",
       "    }\n",
       "</style>\n",
       "<table border=\"1\" class=\"dataframe\">\n",
       "  <thead>\n",
       "    <tr style=\"text-align: right;\">\n",
       "      <th></th>\n",
       "      <th>PostalCode</th>\n",
       "      <th>Borough</th>\n",
       "      <th>Neighborhood</th>\n",
       "    </tr>\n",
       "  </thead>\n",
       "  <tbody>\n",
       "    <tr>\n",
       "      <th>0</th>\n",
       "      <td>M1B</td>\n",
       "      <td>Scarborough</td>\n",
       "      <td>Malvern / Rouge</td>\n",
       "    </tr>\n",
       "    <tr>\n",
       "      <th>1</th>\n",
       "      <td>M1C</td>\n",
       "      <td>Scarborough</td>\n",
       "      <td>Rouge Hill / Port Union / Highland Creek</td>\n",
       "    </tr>\n",
       "    <tr>\n",
       "      <th>2</th>\n",
       "      <td>M1E</td>\n",
       "      <td>Scarborough</td>\n",
       "      <td>Guildwood / Morningside / West Hill</td>\n",
       "    </tr>\n",
       "    <tr>\n",
       "      <th>3</th>\n",
       "      <td>M1G</td>\n",
       "      <td>Scarborough</td>\n",
       "      <td>Woburn</td>\n",
       "    </tr>\n",
       "    <tr>\n",
       "      <th>4</th>\n",
       "      <td>M1H</td>\n",
       "      <td>Scarborough</td>\n",
       "      <td>Cedarbrae</td>\n",
       "    </tr>\n",
       "  </tbody>\n",
       "</table>\n",
       "</div>"
      ],
      "text/plain": [
       "  PostalCode      Borough                              Neighborhood\n",
       "0        M1B  Scarborough                           Malvern / Rouge\n",
       "1        M1C  Scarborough  Rouge Hill / Port Union / Highland Creek\n",
       "2        M1E  Scarborough       Guildwood / Morningside / West Hill\n",
       "3        M1G  Scarborough                                    Woburn\n",
       "4        M1H  Scarborough                                 Cedarbrae"
      ]
     },
     "execution_count": 28,
     "metadata": {},
     "output_type": "execute_result"
    }
   ],
   "source": [
    "downloaded_tableIII= downloaded_tableII.groupby(['PostalCode', 'Borough'])['Neighborhood'].apply(', '.join).reset_index()\n",
    "downloaded_tableIII.head()"
   ]
  },
  {
   "cell_type": "markdown",
   "metadata": {},
   "source": [
    "How much data is in here"
   ]
  },
  {
   "cell_type": "code",
   "execution_count": 43,
   "metadata": {},
   "outputs": [
    {
     "data": {
      "text/plain": [
       "(103, 5)"
      ]
     },
     "execution_count": 43,
     "metadata": {},
     "output_type": "execute_result"
    }
   ],
   "source": [
    "downloaded_tableIII.shape"
   ]
  },
  {
   "cell_type": "markdown",
   "metadata": {},
   "source": [
    "#PART II with geospatial coordinates"
   ]
  },
  {
   "cell_type": "markdown",
   "metadata": {},
   "source": [
    "Getting the data from the geospatial csv"
   ]
  },
  {
   "cell_type": "code",
   "execution_count": 37,
   "metadata": {},
   "outputs": [
    {
     "data": {
      "text/html": [
       "<div>\n",
       "<style scoped>\n",
       "    .dataframe tbody tr th:only-of-type {\n",
       "        vertical-align: middle;\n",
       "    }\n",
       "\n",
       "    .dataframe tbody tr th {\n",
       "        vertical-align: top;\n",
       "    }\n",
       "\n",
       "    .dataframe thead th {\n",
       "        text-align: right;\n",
       "    }\n",
       "</style>\n",
       "<table border=\"1\" class=\"dataframe\">\n",
       "  <thead>\n",
       "    <tr style=\"text-align: right;\">\n",
       "      <th></th>\n",
       "      <th>Postal Code</th>\n",
       "      <th>Latitude</th>\n",
       "      <th>Longitude</th>\n",
       "    </tr>\n",
       "  </thead>\n",
       "  <tbody>\n",
       "    <tr>\n",
       "      <th>0</th>\n",
       "      <td>M1B</td>\n",
       "      <td>43.806686</td>\n",
       "      <td>-79.194353</td>\n",
       "    </tr>\n",
       "    <tr>\n",
       "      <th>1</th>\n",
       "      <td>M1C</td>\n",
       "      <td>43.784535</td>\n",
       "      <td>-79.160497</td>\n",
       "    </tr>\n",
       "    <tr>\n",
       "      <th>2</th>\n",
       "      <td>M1E</td>\n",
       "      <td>43.763573</td>\n",
       "      <td>-79.188711</td>\n",
       "    </tr>\n",
       "    <tr>\n",
       "      <th>3</th>\n",
       "      <td>M1G</td>\n",
       "      <td>43.770992</td>\n",
       "      <td>-79.216917</td>\n",
       "    </tr>\n",
       "    <tr>\n",
       "      <th>4</th>\n",
       "      <td>M1H</td>\n",
       "      <td>43.773136</td>\n",
       "      <td>-79.239476</td>\n",
       "    </tr>\n",
       "  </tbody>\n",
       "</table>\n",
       "</div>"
      ],
      "text/plain": [
       "  Postal Code   Latitude  Longitude\n",
       "0         M1B  43.806686 -79.194353\n",
       "1         M1C  43.784535 -79.160497\n",
       "2         M1E  43.763573 -79.188711\n",
       "3         M1G  43.770992 -79.216917\n",
       "4         M1H  43.773136 -79.239476"
      ]
     },
     "execution_count": 37,
     "metadata": {},
     "output_type": "execute_result"
    }
   ],
   "source": [
    "url='https://cocl.us/Geospatial_data/Geospatial_Coordinates.csv'\n",
    "GeoFrame=pd.read_csv(url)\n",
    "GeoFrame.head()"
   ]
  },
  {
   "cell_type": "markdown",
   "metadata": {},
   "source": [
    "Cleaning up and renaming the columns"
   ]
  },
  {
   "cell_type": "code",
   "execution_count": 39,
   "metadata": {},
   "outputs": [
    {
     "data": {
      "text/html": [
       "<div>\n",
       "<style scoped>\n",
       "    .dataframe tbody tr th:only-of-type {\n",
       "        vertical-align: middle;\n",
       "    }\n",
       "\n",
       "    .dataframe tbody tr th {\n",
       "        vertical-align: top;\n",
       "    }\n",
       "\n",
       "    .dataframe thead th {\n",
       "        text-align: right;\n",
       "    }\n",
       "</style>\n",
       "<table border=\"1\" class=\"dataframe\">\n",
       "  <thead>\n",
       "    <tr style=\"text-align: right;\">\n",
       "      <th></th>\n",
       "      <th>PostalCode</th>\n",
       "      <th>Latitude</th>\n",
       "      <th>Longitude</th>\n",
       "    </tr>\n",
       "  </thead>\n",
       "  <tbody>\n",
       "    <tr>\n",
       "      <th>0</th>\n",
       "      <td>M1B</td>\n",
       "      <td>43.806686</td>\n",
       "      <td>-79.194353</td>\n",
       "    </tr>\n",
       "    <tr>\n",
       "      <th>1</th>\n",
       "      <td>M1C</td>\n",
       "      <td>43.784535</td>\n",
       "      <td>-79.160497</td>\n",
       "    </tr>\n",
       "    <tr>\n",
       "      <th>2</th>\n",
       "      <td>M1E</td>\n",
       "      <td>43.763573</td>\n",
       "      <td>-79.188711</td>\n",
       "    </tr>\n",
       "    <tr>\n",
       "      <th>3</th>\n",
       "      <td>M1G</td>\n",
       "      <td>43.770992</td>\n",
       "      <td>-79.216917</td>\n",
       "    </tr>\n",
       "    <tr>\n",
       "      <th>4</th>\n",
       "      <td>M1H</td>\n",
       "      <td>43.773136</td>\n",
       "      <td>-79.239476</td>\n",
       "    </tr>\n",
       "  </tbody>\n",
       "</table>\n",
       "</div>"
      ],
      "text/plain": [
       "  PostalCode   Latitude  Longitude\n",
       "0        M1B  43.806686 -79.194353\n",
       "1        M1C  43.784535 -79.160497\n",
       "2        M1E  43.763573 -79.188711\n",
       "3        M1G  43.770992 -79.216917\n",
       "4        M1H  43.773136 -79.239476"
      ]
     },
     "execution_count": 39,
     "metadata": {},
     "output_type": "execute_result"
    }
   ],
   "source": [
    "GeoFrame = GeoFrame.rename(columns = {'Postal Code':'PostalCode'}) \n",
    "GeoFrame.head()"
   ]
  },
  {
   "cell_type": "code",
   "execution_count": null,
   "metadata": {},
   "outputs": [],
   "source": [
    "Going to merge the two sets based on the Postal column"
   ]
  },
  {
   "cell_type": "code",
   "execution_count": 41,
   "metadata": {},
   "outputs": [
    {
     "data": {
      "text/html": [
       "<div>\n",
       "<style scoped>\n",
       "    .dataframe tbody tr th:only-of-type {\n",
       "        vertical-align: middle;\n",
       "    }\n",
       "\n",
       "    .dataframe tbody tr th {\n",
       "        vertical-align: top;\n",
       "    }\n",
       "\n",
       "    .dataframe thead th {\n",
       "        text-align: right;\n",
       "    }\n",
       "</style>\n",
       "<table border=\"1\" class=\"dataframe\">\n",
       "  <thead>\n",
       "    <tr style=\"text-align: right;\">\n",
       "      <th></th>\n",
       "      <th>PostalCode</th>\n",
       "      <th>Borough</th>\n",
       "      <th>Neighborhood</th>\n",
       "      <th>Latitude</th>\n",
       "      <th>Longitude</th>\n",
       "    </tr>\n",
       "  </thead>\n",
       "  <tbody>\n",
       "    <tr>\n",
       "      <th>0</th>\n",
       "      <td>M1B</td>\n",
       "      <td>Scarborough</td>\n",
       "      <td>Malvern / Rouge</td>\n",
       "      <td>43.806686</td>\n",
       "      <td>-79.194353</td>\n",
       "    </tr>\n",
       "    <tr>\n",
       "      <th>1</th>\n",
       "      <td>M1C</td>\n",
       "      <td>Scarborough</td>\n",
       "      <td>Rouge Hill / Port Union / Highland Creek</td>\n",
       "      <td>43.784535</td>\n",
       "      <td>-79.160497</td>\n",
       "    </tr>\n",
       "    <tr>\n",
       "      <th>2</th>\n",
       "      <td>M1E</td>\n",
       "      <td>Scarborough</td>\n",
       "      <td>Guildwood / Morningside / West Hill</td>\n",
       "      <td>43.763573</td>\n",
       "      <td>-79.188711</td>\n",
       "    </tr>\n",
       "    <tr>\n",
       "      <th>3</th>\n",
       "      <td>M1G</td>\n",
       "      <td>Scarborough</td>\n",
       "      <td>Woburn</td>\n",
       "      <td>43.770992</td>\n",
       "      <td>-79.216917</td>\n",
       "    </tr>\n",
       "    <tr>\n",
       "      <th>4</th>\n",
       "      <td>M1H</td>\n",
       "      <td>Scarborough</td>\n",
       "      <td>Cedarbrae</td>\n",
       "      <td>43.773136</td>\n",
       "      <td>-79.239476</td>\n",
       "    </tr>\n",
       "  </tbody>\n",
       "</table>\n",
       "</div>"
      ],
      "text/plain": [
       "  PostalCode      Borough                              Neighborhood  \\\n",
       "0        M1B  Scarborough                           Malvern / Rouge   \n",
       "1        M1C  Scarborough  Rouge Hill / Port Union / Highland Creek   \n",
       "2        M1E  Scarborough       Guildwood / Morningside / West Hill   \n",
       "3        M1G  Scarborough                                    Woburn   \n",
       "4        M1H  Scarborough                                 Cedarbrae   \n",
       "\n",
       "    Latitude  Longitude  \n",
       "0  43.806686 -79.194353  \n",
       "1  43.784535 -79.160497  \n",
       "2  43.763573 -79.188711  \n",
       "3  43.770992 -79.216917  \n",
       "4  43.773136 -79.239476  "
      ]
     },
     "execution_count": 41,
     "metadata": {},
     "output_type": "execute_result"
    }
   ],
   "source": [
    "downloaded_tableIII = pd.merge(downloaded_tableIII, GeoFrame, on = 'PostalCode')\n",
    "downloaded_tableIII.head()"
   ]
  },
  {
   "cell_type": "markdown",
   "metadata": {},
   "source": [
    "How much data is in here?  We have to validate it has the same number of rows to make sure the union went off all right"
   ]
  },
  {
   "cell_type": "code",
   "execution_count": 42,
   "metadata": {},
   "outputs": [
    {
     "data": {
      "text/plain": [
       "(103, 5)"
      ]
     },
     "execution_count": 42,
     "metadata": {},
     "output_type": "execute_result"
    }
   ],
   "source": [
    "downloaded_tableIII.shape"
   ]
  },
  {
   "cell_type": "markdown",
   "metadata": {},
   "source": [
    "Still same number of rows -- still in business"
   ]
  },
  {
   "cell_type": "markdown",
   "metadata": {},
   "source": [
    "<b> This is Part III </b>"
   ]
  },
  {
   "cell_type": "code",
   "execution_count": 50,
   "metadata": {},
   "outputs": [
    {
     "data": {
      "text/html": [
       "<div>\n",
       "<style scoped>\n",
       "    .dataframe tbody tr th:only-of-type {\n",
       "        vertical-align: middle;\n",
       "    }\n",
       "\n",
       "    .dataframe tbody tr th {\n",
       "        vertical-align: top;\n",
       "    }\n",
       "\n",
       "    .dataframe thead th {\n",
       "        text-align: right;\n",
       "    }\n",
       "</style>\n",
       "<table border=\"1\" class=\"dataframe\">\n",
       "  <thead>\n",
       "    <tr style=\"text-align: right;\">\n",
       "      <th></th>\n",
       "      <th>PostalCode</th>\n",
       "      <th>Borough</th>\n",
       "      <th>Neighborhood</th>\n",
       "      <th>Latitude</th>\n",
       "      <th>Longitude</th>\n",
       "    </tr>\n",
       "  </thead>\n",
       "  <tbody>\n",
       "    <tr>\n",
       "      <th>0</th>\n",
       "      <td>M4E</td>\n",
       "      <td>East Toronto</td>\n",
       "      <td>The Beaches</td>\n",
       "      <td>43.676357</td>\n",
       "      <td>-79.293031</td>\n",
       "    </tr>\n",
       "    <tr>\n",
       "      <th>1</th>\n",
       "      <td>M4K</td>\n",
       "      <td>East Toronto</td>\n",
       "      <td>The Danforth West / Riverdale</td>\n",
       "      <td>43.679557</td>\n",
       "      <td>-79.352188</td>\n",
       "    </tr>\n",
       "    <tr>\n",
       "      <th>2</th>\n",
       "      <td>M4L</td>\n",
       "      <td>East Toronto</td>\n",
       "      <td>India Bazaar / The Beaches West</td>\n",
       "      <td>43.668999</td>\n",
       "      <td>-79.315572</td>\n",
       "    </tr>\n",
       "    <tr>\n",
       "      <th>3</th>\n",
       "      <td>M4M</td>\n",
       "      <td>East Toronto</td>\n",
       "      <td>Studio District</td>\n",
       "      <td>43.659526</td>\n",
       "      <td>-79.340923</td>\n",
       "    </tr>\n",
       "    <tr>\n",
       "      <th>4</th>\n",
       "      <td>M4N</td>\n",
       "      <td>Central Toronto</td>\n",
       "      <td>Lawrence Park</td>\n",
       "      <td>43.728020</td>\n",
       "      <td>-79.388790</td>\n",
       "    </tr>\n",
       "  </tbody>\n",
       "</table>\n",
       "</div>"
      ],
      "text/plain": [
       "  PostalCode          Borough                     Neighborhood   Latitude  \\\n",
       "0        M4E     East Toronto                      The Beaches  43.676357   \n",
       "1        M4K     East Toronto    The Danforth West / Riverdale  43.679557   \n",
       "2        M4L     East Toronto  India Bazaar / The Beaches West  43.668999   \n",
       "3        M4M     East Toronto                  Studio District  43.659526   \n",
       "4        M4N  Central Toronto                    Lawrence Park  43.728020   \n",
       "\n",
       "   Longitude  \n",
       "0 -79.293031  \n",
       "1 -79.352188  \n",
       "2 -79.315572  \n",
       "3 -79.340923  \n",
       "4 -79.388790  "
      ]
     },
     "execution_count": 50,
     "metadata": {},
     "output_type": "execute_result"
    }
   ],
   "source": [
    "# Getting rid of any boroughs outside of Toronto!!\n",
    "\n",
    "FinalSetPre=downloaded_tableIII[downloaded_tableIII['Borough'].str.contains('Toronto')]\n",
    "FinalSet=FinalSetPre.reset_index(drop=True)\n",
    "FinalSet.head()"
   ]
  },
  {
   "cell_type": "code",
   "execution_count": 51,
   "metadata": {},
   "outputs": [
    {
     "data": {
      "text/html": [
       "<div>\n",
       "<style scoped>\n",
       "    .dataframe tbody tr th:only-of-type {\n",
       "        vertical-align: middle;\n",
       "    }\n",
       "\n",
       "    .dataframe tbody tr th {\n",
       "        vertical-align: top;\n",
       "    }\n",
       "\n",
       "    .dataframe thead th {\n",
       "        text-align: right;\n",
       "    }\n",
       "</style>\n",
       "<table border=\"1\" class=\"dataframe\">\n",
       "  <thead>\n",
       "    <tr style=\"text-align: right;\">\n",
       "      <th></th>\n",
       "      <th>PostalCode</th>\n",
       "      <th>Borough</th>\n",
       "      <th>Neighborhood</th>\n",
       "      <th>Latitude</th>\n",
       "      <th>Longitude</th>\n",
       "      <th>Label</th>\n",
       "    </tr>\n",
       "  </thead>\n",
       "  <tbody>\n",
       "    <tr>\n",
       "      <th>0</th>\n",
       "      <td>M4E</td>\n",
       "      <td>East Toronto</td>\n",
       "      <td>The Beaches</td>\n",
       "      <td>43.676357</td>\n",
       "      <td>-79.293031</td>\n",
       "      <td>4</td>\n",
       "    </tr>\n",
       "    <tr>\n",
       "      <th>1</th>\n",
       "      <td>M4K</td>\n",
       "      <td>East Toronto</td>\n",
       "      <td>The Danforth West / Riverdale</td>\n",
       "      <td>43.679557</td>\n",
       "      <td>-79.352188</td>\n",
       "      <td>4</td>\n",
       "    </tr>\n",
       "    <tr>\n",
       "      <th>2</th>\n",
       "      <td>M4L</td>\n",
       "      <td>East Toronto</td>\n",
       "      <td>India Bazaar / The Beaches West</td>\n",
       "      <td>43.668999</td>\n",
       "      <td>-79.315572</td>\n",
       "      <td>4</td>\n",
       "    </tr>\n",
       "    <tr>\n",
       "      <th>3</th>\n",
       "      <td>M4M</td>\n",
       "      <td>East Toronto</td>\n",
       "      <td>Studio District</td>\n",
       "      <td>43.659526</td>\n",
       "      <td>-79.340923</td>\n",
       "      <td>4</td>\n",
       "    </tr>\n",
       "    <tr>\n",
       "      <th>4</th>\n",
       "      <td>M4N</td>\n",
       "      <td>Central Toronto</td>\n",
       "      <td>Lawrence Park</td>\n",
       "      <td>43.728020</td>\n",
       "      <td>-79.388790</td>\n",
       "      <td>2</td>\n",
       "    </tr>\n",
       "  </tbody>\n",
       "</table>\n",
       "</div>"
      ],
      "text/plain": [
       "  PostalCode          Borough                     Neighborhood   Latitude  \\\n",
       "0        M4E     East Toronto                      The Beaches  43.676357   \n",
       "1        M4K     East Toronto    The Danforth West / Riverdale  43.679557   \n",
       "2        M4L     East Toronto  India Bazaar / The Beaches West  43.668999   \n",
       "3        M4M     East Toronto                  Studio District  43.659526   \n",
       "4        M4N  Central Toronto                    Lawrence Park  43.728020   \n",
       "\n",
       "   Longitude  Label  \n",
       "0 -79.293031      4  \n",
       "1 -79.352188      4  \n",
       "2 -79.315572      4  \n",
       "3 -79.340923      4  \n",
       "4 -79.388790      2  "
      ]
     },
     "execution_count": 51,
     "metadata": {},
     "output_type": "execute_result"
    }
   ],
   "source": [
    "# Make a label marker for the final map, based on Borough so it will be easily recognizable\n",
    "FinalSet['Label']=FinalSet['Borough'].replace(to_replace=['Downtown Toronto','Central Toronto','West Toronto','East Toronto'],value=[1,2,3,4],inplace=False)\n",
    "FinalSet.head()"
   ]
  },
  {
   "cell_type": "code",
   "execution_count": 52,
   "metadata": {},
   "outputs": [
    {
     "name": "stdout",
     "output_type": "stream",
     "text": [
      "The geograpical coordinate of Toronto are 43.6534817, -79.3839347.\n"
     ]
    }
   ],
   "source": [
    "# Where is Toronto?  We need this to create a base of cluster around toronto\n",
    "address = 'Toronto'\n",
    "geolocator = Nominatim(user_agent=\"toronto_explorer\")\n",
    "location = geolocator.geocode(address)\n",
    "latitude = location.latitude\n",
    "longitude = location.longitude\n",
    "print(f'The geograpical coordinate of Toronto are {latitude}, {longitude}.')"
   ]
  },
  {
   "cell_type": "code",
   "execution_count": 61,
   "metadata": {},
   "outputs": [],
   "source": [
    "# finally we create the visualization\n",
    "Clustering=len(FinalSet.Label.unique())\n",
    "\n",
    "# create map\n",
    "MapOfToronto = folium.Map(location=[latitude, longitude], zoom_start=10)\n",
    "\n",
    "# set color scheme for the clusters\n",
    "x = np.arange(Clustering)\n",
    "RAD = [i + x + (i*x)**2 for i in range(Clustering)]\n",
    "colors_array = cm.rainbow(np.linspace(0, 1, len(RAD)))\n",
    "rainbow = [colors.rgb2hex(i) for i in colors_array]\n",
    "\n",
    "# add markers to the map\n",
    "markers_colors = []\n",
    "for lat, lon, cluster in zip(FinalSet['Latitude'], FinalSet['Longitude'], FinalSet['Label']):\n",
    "    label = folium.Popup(str(FinalSet['Borough']) + ' Cluster ' + str(cluster), parse_html=True)\n",
    "    folium.CircleMarker(\n",
    "        [lat, lon],\n",
    "        radius=4,\n",
    "        popup=label,\n",
    "        color=rainbow[cluster-1],\n",
    "        fill=True,\n",
    "        fill_color=rainbow[cluster-1],\n",
    "        fill_opacity=0.7).add_to(MapOfToronto)"
   ]
  },
  {
   "cell_type": "code",
   "execution_count": 62,
   "metadata": {},
   "outputs": [
    {
     "data": {
      "text/html": [
       "<div style=\"width:100%;\"><div style=\"position:relative;width:100%;height:0;padding-bottom:60%;\"><span style=\"color:#565656\">Make this Notebook Trusted to load map: File -> Trust Notebook</span><iframe src=\"about:blank\" style=\"position:absolute;width:100%;height:100%;left:0;top:0;border:none !important;\" data-html=%3C%21DOCTYPE%20html%3E%0A%3Chead%3E%20%20%20%20%0A%20%20%20%20%3Cmeta%20http-equiv%3D%22content-type%22%20content%3D%22text/html%3B%20charset%3DUTF-8%22%20/%3E%0A%20%20%20%20%0A%20%20%20%20%20%20%20%20%3Cscript%3E%0A%20%20%20%20%20%20%20%20%20%20%20%20L_NO_TOUCH%20%3D%20false%3B%0A%20%20%20%20%20%20%20%20%20%20%20%20L_DISABLE_3D%20%3D%20false%3B%0A%20%20%20%20%20%20%20%20%3C/script%3E%0A%20%20%20%20%0A%20%20%20%20%3Cstyle%3Ehtml%2C%20body%20%7Bwidth%3A%20100%25%3Bheight%3A%20100%25%3Bmargin%3A%200%3Bpadding%3A%200%3B%7D%3C/style%3E%0A%20%20%20%20%3Cstyle%3E%23map%20%7Bposition%3Aabsolute%3Btop%3A0%3Bbottom%3A0%3Bright%3A0%3Bleft%3A0%3B%7D%3C/style%3E%0A%20%20%20%20%3Cscript%20src%3D%22https%3A//cdn.jsdelivr.net/npm/leaflet%401.6.0/dist/leaflet.js%22%3E%3C/script%3E%0A%20%20%20%20%3Cscript%20src%3D%22https%3A//code.jquery.com/jquery-1.12.4.min.js%22%3E%3C/script%3E%0A%20%20%20%20%3Cscript%20src%3D%22https%3A//maxcdn.bootstrapcdn.com/bootstrap/3.2.0/js/bootstrap.min.js%22%3E%3C/script%3E%0A%20%20%20%20%3Cscript%20src%3D%22https%3A//cdnjs.cloudflare.com/ajax/libs/Leaflet.awesome-markers/2.0.2/leaflet.awesome-markers.js%22%3E%3C/script%3E%0A%20%20%20%20%3Clink%20rel%3D%22stylesheet%22%20href%3D%22https%3A//cdn.jsdelivr.net/npm/leaflet%401.6.0/dist/leaflet.css%22/%3E%0A%20%20%20%20%3Clink%20rel%3D%22stylesheet%22%20href%3D%22https%3A//maxcdn.bootstrapcdn.com/bootstrap/3.2.0/css/bootstrap.min.css%22/%3E%0A%20%20%20%20%3Clink%20rel%3D%22stylesheet%22%20href%3D%22https%3A//maxcdn.bootstrapcdn.com/bootstrap/3.2.0/css/bootstrap-theme.min.css%22/%3E%0A%20%20%20%20%3Clink%20rel%3D%22stylesheet%22%20href%3D%22https%3A//maxcdn.bootstrapcdn.com/font-awesome/4.6.3/css/font-awesome.min.css%22/%3E%0A%20%20%20%20%3Clink%20rel%3D%22stylesheet%22%20href%3D%22https%3A//cdnjs.cloudflare.com/ajax/libs/Leaflet.awesome-markers/2.0.2/leaflet.awesome-markers.css%22/%3E%0A%20%20%20%20%3Clink%20rel%3D%22stylesheet%22%20href%3D%22https%3A//cdn.jsdelivr.net/gh/python-visualization/folium/folium/templates/leaflet.awesome.rotate.min.css%22/%3E%0A%20%20%20%20%0A%20%20%20%20%20%20%20%20%20%20%20%20%3Cmeta%20name%3D%22viewport%22%20content%3D%22width%3Ddevice-width%2C%0A%20%20%20%20%20%20%20%20%20%20%20%20%20%20%20%20initial-scale%3D1.0%2C%20maximum-scale%3D1.0%2C%20user-scalable%3Dno%22%20/%3E%0A%20%20%20%20%20%20%20%20%20%20%20%20%3Cstyle%3E%0A%20%20%20%20%20%20%20%20%20%20%20%20%20%20%20%20%23map_4908022add9e4a2bacbd1c81fe60caca%20%7B%0A%20%20%20%20%20%20%20%20%20%20%20%20%20%20%20%20%20%20%20%20position%3A%20relative%3B%0A%20%20%20%20%20%20%20%20%20%20%20%20%20%20%20%20%20%20%20%20width%3A%20100.0%25%3B%0A%20%20%20%20%20%20%20%20%20%20%20%20%20%20%20%20%20%20%20%20height%3A%20100.0%25%3B%0A%20%20%20%20%20%20%20%20%20%20%20%20%20%20%20%20%20%20%20%20left%3A%200.0%25%3B%0A%20%20%20%20%20%20%20%20%20%20%20%20%20%20%20%20%20%20%20%20top%3A%200.0%25%3B%0A%20%20%20%20%20%20%20%20%20%20%20%20%20%20%20%20%7D%0A%20%20%20%20%20%20%20%20%20%20%20%20%3C/style%3E%0A%20%20%20%20%20%20%20%20%0A%3C/head%3E%0A%3Cbody%3E%20%20%20%20%0A%20%20%20%20%0A%20%20%20%20%20%20%20%20%20%20%20%20%3Cdiv%20class%3D%22folium-map%22%20id%3D%22map_4908022add9e4a2bacbd1c81fe60caca%22%20%3E%3C/div%3E%0A%20%20%20%20%20%20%20%20%0A%3C/body%3E%0A%3Cscript%3E%20%20%20%20%0A%20%20%20%20%0A%20%20%20%20%20%20%20%20%20%20%20%20var%20map_4908022add9e4a2bacbd1c81fe60caca%20%3D%20L.map%28%0A%20%20%20%20%20%20%20%20%20%20%20%20%20%20%20%20%22map_4908022add9e4a2bacbd1c81fe60caca%22%2C%0A%20%20%20%20%20%20%20%20%20%20%20%20%20%20%20%20%7B%0A%20%20%20%20%20%20%20%20%20%20%20%20%20%20%20%20%20%20%20%20center%3A%20%5B43.6534817%2C%20-79.3839347%5D%2C%0A%20%20%20%20%20%20%20%20%20%20%20%20%20%20%20%20%20%20%20%20crs%3A%20L.CRS.EPSG3857%2C%0A%20%20%20%20%20%20%20%20%20%20%20%20%20%20%20%20%20%20%20%20zoom%3A%2010%2C%0A%20%20%20%20%20%20%20%20%20%20%20%20%20%20%20%20%20%20%20%20zoomControl%3A%20true%2C%0A%20%20%20%20%20%20%20%20%20%20%20%20%20%20%20%20%20%20%20%20preferCanvas%3A%20false%2C%0A%20%20%20%20%20%20%20%20%20%20%20%20%20%20%20%20%7D%0A%20%20%20%20%20%20%20%20%20%20%20%20%29%3B%0A%0A%20%20%20%20%20%20%20%20%20%20%20%20%0A%0A%20%20%20%20%20%20%20%20%0A%20%20%20%20%0A%20%20%20%20%20%20%20%20%20%20%20%20var%20tile_layer_63944fd75a0746c687f0685d05884e33%20%3D%20L.tileLayer%28%0A%20%20%20%20%20%20%20%20%20%20%20%20%20%20%20%20%22https%3A//%7Bs%7D.tile.openstreetmap.org/%7Bz%7D/%7Bx%7D/%7By%7D.png%22%2C%0A%20%20%20%20%20%20%20%20%20%20%20%20%20%20%20%20%7B%22attribution%22%3A%20%22Data%20by%20%5Cu0026copy%3B%20%5Cu003ca%20href%3D%5C%22http%3A//openstreetmap.org%5C%22%5Cu003eOpenStreetMap%5Cu003c/a%5Cu003e%2C%20under%20%5Cu003ca%20href%3D%5C%22http%3A//www.openstreetmap.org/copyright%5C%22%5Cu003eODbL%5Cu003c/a%5Cu003e.%22%2C%20%22detectRetina%22%3A%20false%2C%20%22maxNativeZoom%22%3A%2018%2C%20%22maxZoom%22%3A%2018%2C%20%22minZoom%22%3A%200%2C%20%22noWrap%22%3A%20false%2C%20%22opacity%22%3A%201%2C%20%22subdomains%22%3A%20%22abc%22%2C%20%22tms%22%3A%20false%7D%0A%20%20%20%20%20%20%20%20%20%20%20%20%29.addTo%28map_4908022add9e4a2bacbd1c81fe60caca%29%3B%0A%20%20%20%20%20%20%20%20%0A%20%20%20%20%0A%20%20%20%20%20%20%20%20%20%20%20%20var%20circle_marker_e0bcd925fa9c48118834cabc2004e481%20%3D%20L.circleMarker%28%0A%20%20%20%20%20%20%20%20%20%20%20%20%20%20%20%20%5B43.67635739999999%2C%20-79.2930312%5D%2C%0A%20%20%20%20%20%20%20%20%20%20%20%20%20%20%20%20%7B%22bubblingMouseEvents%22%3A%20true%2C%20%22color%22%3A%20%22%23ff0000%22%2C%20%22dashArray%22%3A%20null%2C%20%22dashOffset%22%3A%20null%2C%20%22fill%22%3A%20true%2C%20%22fillColor%22%3A%20%22%23ff0000%22%2C%20%22fillOpacity%22%3A%200.7%2C%20%22fillRule%22%3A%20%22evenodd%22%2C%20%22lineCap%22%3A%20%22round%22%2C%20%22lineJoin%22%3A%20%22round%22%2C%20%22opacity%22%3A%201.0%2C%20%22radius%22%3A%204%2C%20%22stroke%22%3A%20true%2C%20%22weight%22%3A%203%7D%0A%20%20%20%20%20%20%20%20%20%20%20%20%29.addTo%28map_4908022add9e4a2bacbd1c81fe60caca%29%3B%0A%20%20%20%20%20%20%20%20%0A%20%20%20%20%0A%20%20%20%20%20%20%20%20var%20popup_abdc74d91ef84578a20ba11d83dff3fa%20%3D%20L.popup%28%7B%22maxWidth%22%3A%20%22100%25%22%7D%29%3B%0A%0A%20%20%20%20%20%20%20%20%0A%20%20%20%20%20%20%20%20%20%20%20%20var%20html_5a505c106b454160a136e2e2d6529a54%20%3D%20%24%28%60%3Cdiv%20id%3D%22html_5a505c106b454160a136e2e2d6529a54%22%20style%3D%22width%3A%20100.0%25%3B%20height%3A%20100.0%25%3B%22%3E0%20%20%20%20%20%20%20%20%20East%20Toronto%201%20%20%20%20%20%20%20%20%20East%20Toronto%202%20%20%20%20%20%20%20%20%20East%20Toronto%203%20%20%20%20%20%20%20%20%20East%20Toronto%204%20%20%20%20%20%20Central%20Toronto%205%20%20%20%20%20%20Central%20Toronto%206%20%20%20%20%20%20Central%20Toronto%207%20%20%20%20%20%20Central%20Toronto%208%20%20%20%20%20%20Central%20Toronto%209%20%20%20%20%20%20Central%20Toronto%2010%20%20%20%20Downtown%20Toronto%2011%20%20%20%20Downtown%20Toronto%2012%20%20%20%20Downtown%20Toronto%2013%20%20%20%20Downtown%20Toronto%2014%20%20%20%20Downtown%20Toronto%2015%20%20%20%20Downtown%20Toronto%2016%20%20%20%20Downtown%20Toronto%2017%20%20%20%20Downtown%20Toronto%2018%20%20%20%20Downtown%20Toronto%2019%20%20%20%20Downtown%20Toronto%2020%20%20%20%20Downtown%20Toronto%2021%20%20%20%20Downtown%20Toronto%2022%20%20%20%20%20Central%20Toronto%2023%20%20%20%20%20Central%20Toronto%2024%20%20%20%20%20Central%20Toronto%2025%20%20%20%20Downtown%20Toronto%2026%20%20%20%20Downtown%20Toronto%2027%20%20%20%20Downtown%20Toronto%2028%20%20%20%20Downtown%20Toronto%2029%20%20%20%20Downtown%20Toronto%2030%20%20%20%20Downtown%20Toronto%2031%20%20%20%20%20%20%20%20West%20Toronto%2032%20%20%20%20%20%20%20%20West%20Toronto%2033%20%20%20%20%20%20%20%20West%20Toronto%2034%20%20%20%20%20%20%20%20West%20Toronto%2035%20%20%20%20%20%20%20%20West%20Toronto%2036%20%20%20%20%20%20%20%20West%20Toronto%2037%20%20%20%20Downtown%20Toronto%2038%20%20%20%20%20%20%20%20East%20Toronto%20Name%3A%20Borough%2C%20dtype%3A%20object%20Cluster%204%3C/div%3E%60%29%5B0%5D%3B%0A%20%20%20%20%20%20%20%20%20%20%20%20popup_abdc74d91ef84578a20ba11d83dff3fa.setContent%28html_5a505c106b454160a136e2e2d6529a54%29%3B%0A%20%20%20%20%20%20%20%20%0A%0A%20%20%20%20%20%20%20%20circle_marker_e0bcd925fa9c48118834cabc2004e481.bindPopup%28popup_abdc74d91ef84578a20ba11d83dff3fa%29%0A%20%20%20%20%20%20%20%20%3B%0A%0A%20%20%20%20%20%20%20%20%0A%20%20%20%20%0A%20%20%20%20%0A%20%20%20%20%20%20%20%20%20%20%20%20var%20circle_marker_d6c8b7437ad24d9199d5ca386cbe38e3%20%3D%20L.circleMarker%28%0A%20%20%20%20%20%20%20%20%20%20%20%20%20%20%20%20%5B43.6795571%2C%20-79.352188%5D%2C%0A%20%20%20%20%20%20%20%20%20%20%20%20%20%20%20%20%7B%22bubblingMouseEvents%22%3A%20true%2C%20%22color%22%3A%20%22%23ff0000%22%2C%20%22dashArray%22%3A%20null%2C%20%22dashOffset%22%3A%20null%2C%20%22fill%22%3A%20true%2C%20%22fillColor%22%3A%20%22%23ff0000%22%2C%20%22fillOpacity%22%3A%200.7%2C%20%22fillRule%22%3A%20%22evenodd%22%2C%20%22lineCap%22%3A%20%22round%22%2C%20%22lineJoin%22%3A%20%22round%22%2C%20%22opacity%22%3A%201.0%2C%20%22radius%22%3A%204%2C%20%22stroke%22%3A%20true%2C%20%22weight%22%3A%203%7D%0A%20%20%20%20%20%20%20%20%20%20%20%20%29.addTo%28map_4908022add9e4a2bacbd1c81fe60caca%29%3B%0A%20%20%20%20%20%20%20%20%0A%20%20%20%20%0A%20%20%20%20%20%20%20%20var%20popup_a99bc522ae084e1ebe7ec89998d50692%20%3D%20L.popup%28%7B%22maxWidth%22%3A%20%22100%25%22%7D%29%3B%0A%0A%20%20%20%20%20%20%20%20%0A%20%20%20%20%20%20%20%20%20%20%20%20var%20html_c2548f0dbe744b768267458e959946fd%20%3D%20%24%28%60%3Cdiv%20id%3D%22html_c2548f0dbe744b768267458e959946fd%22%20style%3D%22width%3A%20100.0%25%3B%20height%3A%20100.0%25%3B%22%3E0%20%20%20%20%20%20%20%20%20East%20Toronto%201%20%20%20%20%20%20%20%20%20East%20Toronto%202%20%20%20%20%20%20%20%20%20East%20Toronto%203%20%20%20%20%20%20%20%20%20East%20Toronto%204%20%20%20%20%20%20Central%20Toronto%205%20%20%20%20%20%20Central%20Toronto%206%20%20%20%20%20%20Central%20Toronto%207%20%20%20%20%20%20Central%20Toronto%208%20%20%20%20%20%20Central%20Toronto%209%20%20%20%20%20%20Central%20Toronto%2010%20%20%20%20Downtown%20Toronto%2011%20%20%20%20Downtown%20Toronto%2012%20%20%20%20Downtown%20Toronto%2013%20%20%20%20Downtown%20Toronto%2014%20%20%20%20Downtown%20Toronto%2015%20%20%20%20Downtown%20Toronto%2016%20%20%20%20Downtown%20Toronto%2017%20%20%20%20Downtown%20Toronto%2018%20%20%20%20Downtown%20Toronto%2019%20%20%20%20Downtown%20Toronto%2020%20%20%20%20Downtown%20Toronto%2021%20%20%20%20Downtown%20Toronto%2022%20%20%20%20%20Central%20Toronto%2023%20%20%20%20%20Central%20Toronto%2024%20%20%20%20%20Central%20Toronto%2025%20%20%20%20Downtown%20Toronto%2026%20%20%20%20Downtown%20Toronto%2027%20%20%20%20Downtown%20Toronto%2028%20%20%20%20Downtown%20Toronto%2029%20%20%20%20Downtown%20Toronto%2030%20%20%20%20Downtown%20Toronto%2031%20%20%20%20%20%20%20%20West%20Toronto%2032%20%20%20%20%20%20%20%20West%20Toronto%2033%20%20%20%20%20%20%20%20West%20Toronto%2034%20%20%20%20%20%20%20%20West%20Toronto%2035%20%20%20%20%20%20%20%20West%20Toronto%2036%20%20%20%20%20%20%20%20West%20Toronto%2037%20%20%20%20Downtown%20Toronto%2038%20%20%20%20%20%20%20%20East%20Toronto%20Name%3A%20Borough%2C%20dtype%3A%20object%20Cluster%204%3C/div%3E%60%29%5B0%5D%3B%0A%20%20%20%20%20%20%20%20%20%20%20%20popup_a99bc522ae084e1ebe7ec89998d50692.setContent%28html_c2548f0dbe744b768267458e959946fd%29%3B%0A%20%20%20%20%20%20%20%20%0A%0A%20%20%20%20%20%20%20%20circle_marker_d6c8b7437ad24d9199d5ca386cbe38e3.bindPopup%28popup_a99bc522ae084e1ebe7ec89998d50692%29%0A%20%20%20%20%20%20%20%20%3B%0A%0A%20%20%20%20%20%20%20%20%0A%20%20%20%20%0A%20%20%20%20%0A%20%20%20%20%20%20%20%20%20%20%20%20var%20circle_marker_6a5c1569f33b4cff921ab4264c8faeb2%20%3D%20L.circleMarker%28%0A%20%20%20%20%20%20%20%20%20%20%20%20%20%20%20%20%5B43.6689985%2C%20-79.31557159999998%5D%2C%0A%20%20%20%20%20%20%20%20%20%20%20%20%20%20%20%20%7B%22bubblingMouseEvents%22%3A%20true%2C%20%22color%22%3A%20%22%23ff0000%22%2C%20%22dashArray%22%3A%20null%2C%20%22dashOffset%22%3A%20null%2C%20%22fill%22%3A%20true%2C%20%22fillColor%22%3A%20%22%23ff0000%22%2C%20%22fillOpacity%22%3A%200.7%2C%20%22fillRule%22%3A%20%22evenodd%22%2C%20%22lineCap%22%3A%20%22round%22%2C%20%22lineJoin%22%3A%20%22round%22%2C%20%22opacity%22%3A%201.0%2C%20%22radius%22%3A%204%2C%20%22stroke%22%3A%20true%2C%20%22weight%22%3A%203%7D%0A%20%20%20%20%20%20%20%20%20%20%20%20%29.addTo%28map_4908022add9e4a2bacbd1c81fe60caca%29%3B%0A%20%20%20%20%20%20%20%20%0A%20%20%20%20%0A%20%20%20%20%20%20%20%20var%20popup_039fd16a06a64e58975e033b75e6febd%20%3D%20L.popup%28%7B%22maxWidth%22%3A%20%22100%25%22%7D%29%3B%0A%0A%20%20%20%20%20%20%20%20%0A%20%20%20%20%20%20%20%20%20%20%20%20var%20html_a5e65503cfce40e4922ca52f1cb1a8af%20%3D%20%24%28%60%3Cdiv%20id%3D%22html_a5e65503cfce40e4922ca52f1cb1a8af%22%20style%3D%22width%3A%20100.0%25%3B%20height%3A%20100.0%25%3B%22%3E0%20%20%20%20%20%20%20%20%20East%20Toronto%201%20%20%20%20%20%20%20%20%20East%20Toronto%202%20%20%20%20%20%20%20%20%20East%20Toronto%203%20%20%20%20%20%20%20%20%20East%20Toronto%204%20%20%20%20%20%20Central%20Toronto%205%20%20%20%20%20%20Central%20Toronto%206%20%20%20%20%20%20Central%20Toronto%207%20%20%20%20%20%20Central%20Toronto%208%20%20%20%20%20%20Central%20Toronto%209%20%20%20%20%20%20Central%20Toronto%2010%20%20%20%20Downtown%20Toronto%2011%20%20%20%20Downtown%20Toronto%2012%20%20%20%20Downtown%20Toronto%2013%20%20%20%20Downtown%20Toronto%2014%20%20%20%20Downtown%20Toronto%2015%20%20%20%20Downtown%20Toronto%2016%20%20%20%20Downtown%20Toronto%2017%20%20%20%20Downtown%20Toronto%2018%20%20%20%20Downtown%20Toronto%2019%20%20%20%20Downtown%20Toronto%2020%20%20%20%20Downtown%20Toronto%2021%20%20%20%20Downtown%20Toronto%2022%20%20%20%20%20Central%20Toronto%2023%20%20%20%20%20Central%20Toronto%2024%20%20%20%20%20Central%20Toronto%2025%20%20%20%20Downtown%20Toronto%2026%20%20%20%20Downtown%20Toronto%2027%20%20%20%20Downtown%20Toronto%2028%20%20%20%20Downtown%20Toronto%2029%20%20%20%20Downtown%20Toronto%2030%20%20%20%20Downtown%20Toronto%2031%20%20%20%20%20%20%20%20West%20Toronto%2032%20%20%20%20%20%20%20%20West%20Toronto%2033%20%20%20%20%20%20%20%20West%20Toronto%2034%20%20%20%20%20%20%20%20West%20Toronto%2035%20%20%20%20%20%20%20%20West%20Toronto%2036%20%20%20%20%20%20%20%20West%20Toronto%2037%20%20%20%20Downtown%20Toronto%2038%20%20%20%20%20%20%20%20East%20Toronto%20Name%3A%20Borough%2C%20dtype%3A%20object%20Cluster%204%3C/div%3E%60%29%5B0%5D%3B%0A%20%20%20%20%20%20%20%20%20%20%20%20popup_039fd16a06a64e58975e033b75e6febd.setContent%28html_a5e65503cfce40e4922ca52f1cb1a8af%29%3B%0A%20%20%20%20%20%20%20%20%0A%0A%20%20%20%20%20%20%20%20circle_marker_6a5c1569f33b4cff921ab4264c8faeb2.bindPopup%28popup_039fd16a06a64e58975e033b75e6febd%29%0A%20%20%20%20%20%20%20%20%3B%0A%0A%20%20%20%20%20%20%20%20%0A%20%20%20%20%0A%20%20%20%20%0A%20%20%20%20%20%20%20%20%20%20%20%20var%20circle_marker_8504276af8984cc2a432e7d0d945b94d%20%3D%20L.circleMarker%28%0A%20%20%20%20%20%20%20%20%20%20%20%20%20%20%20%20%5B43.6595255%2C%20-79.340923%5D%2C%0A%20%20%20%20%20%20%20%20%20%20%20%20%20%20%20%20%7B%22bubblingMouseEvents%22%3A%20true%2C%20%22color%22%3A%20%22%23ff0000%22%2C%20%22dashArray%22%3A%20null%2C%20%22dashOffset%22%3A%20null%2C%20%22fill%22%3A%20true%2C%20%22fillColor%22%3A%20%22%23ff0000%22%2C%20%22fillOpacity%22%3A%200.7%2C%20%22fillRule%22%3A%20%22evenodd%22%2C%20%22lineCap%22%3A%20%22round%22%2C%20%22lineJoin%22%3A%20%22round%22%2C%20%22opacity%22%3A%201.0%2C%20%22radius%22%3A%204%2C%20%22stroke%22%3A%20true%2C%20%22weight%22%3A%203%7D%0A%20%20%20%20%20%20%20%20%20%20%20%20%29.addTo%28map_4908022add9e4a2bacbd1c81fe60caca%29%3B%0A%20%20%20%20%20%20%20%20%0A%20%20%20%20%0A%20%20%20%20%20%20%20%20var%20popup_33336e6b031841ed820250444329caae%20%3D%20L.popup%28%7B%22maxWidth%22%3A%20%22100%25%22%7D%29%3B%0A%0A%20%20%20%20%20%20%20%20%0A%20%20%20%20%20%20%20%20%20%20%20%20var%20html_35e140b52ae04288aaee150285660ca2%20%3D%20%24%28%60%3Cdiv%20id%3D%22html_35e140b52ae04288aaee150285660ca2%22%20style%3D%22width%3A%20100.0%25%3B%20height%3A%20100.0%25%3B%22%3E0%20%20%20%20%20%20%20%20%20East%20Toronto%201%20%20%20%20%20%20%20%20%20East%20Toronto%202%20%20%20%20%20%20%20%20%20East%20Toronto%203%20%20%20%20%20%20%20%20%20East%20Toronto%204%20%20%20%20%20%20Central%20Toronto%205%20%20%20%20%20%20Central%20Toronto%206%20%20%20%20%20%20Central%20Toronto%207%20%20%20%20%20%20Central%20Toronto%208%20%20%20%20%20%20Central%20Toronto%209%20%20%20%20%20%20Central%20Toronto%2010%20%20%20%20Downtown%20Toronto%2011%20%20%20%20Downtown%20Toronto%2012%20%20%20%20Downtown%20Toronto%2013%20%20%20%20Downtown%20Toronto%2014%20%20%20%20Downtown%20Toronto%2015%20%20%20%20Downtown%20Toronto%2016%20%20%20%20Downtown%20Toronto%2017%20%20%20%20Downtown%20Toronto%2018%20%20%20%20Downtown%20Toronto%2019%20%20%20%20Downtown%20Toronto%2020%20%20%20%20Downtown%20Toronto%2021%20%20%20%20Downtown%20Toronto%2022%20%20%20%20%20Central%20Toronto%2023%20%20%20%20%20Central%20Toronto%2024%20%20%20%20%20Central%20Toronto%2025%20%20%20%20Downtown%20Toronto%2026%20%20%20%20Downtown%20Toronto%2027%20%20%20%20Downtown%20Toronto%2028%20%20%20%20Downtown%20Toronto%2029%20%20%20%20Downtown%20Toronto%2030%20%20%20%20Downtown%20Toronto%2031%20%20%20%20%20%20%20%20West%20Toronto%2032%20%20%20%20%20%20%20%20West%20Toronto%2033%20%20%20%20%20%20%20%20West%20Toronto%2034%20%20%20%20%20%20%20%20West%20Toronto%2035%20%20%20%20%20%20%20%20West%20Toronto%2036%20%20%20%20%20%20%20%20West%20Toronto%2037%20%20%20%20Downtown%20Toronto%2038%20%20%20%20%20%20%20%20East%20Toronto%20Name%3A%20Borough%2C%20dtype%3A%20object%20Cluster%204%3C/div%3E%60%29%5B0%5D%3B%0A%20%20%20%20%20%20%20%20%20%20%20%20popup_33336e6b031841ed820250444329caae.setContent%28html_35e140b52ae04288aaee150285660ca2%29%3B%0A%20%20%20%20%20%20%20%20%0A%0A%20%20%20%20%20%20%20%20circle_marker_8504276af8984cc2a432e7d0d945b94d.bindPopup%28popup_33336e6b031841ed820250444329caae%29%0A%20%20%20%20%20%20%20%20%3B%0A%0A%20%20%20%20%20%20%20%20%0A%20%20%20%20%0A%20%20%20%20%0A%20%20%20%20%20%20%20%20%20%20%20%20var%20circle_marker_d34cdec562a345d59d5eee8994c3b2d1%20%3D%20L.circleMarker%28%0A%20%20%20%20%20%20%20%20%20%20%20%20%20%20%20%20%5B43.7280205%2C%20-79.3887901%5D%2C%0A%20%20%20%20%20%20%20%20%20%20%20%20%20%20%20%20%7B%22bubblingMouseEvents%22%3A%20true%2C%20%22color%22%3A%20%22%232adddd%22%2C%20%22dashArray%22%3A%20null%2C%20%22dashOffset%22%3A%20null%2C%20%22fill%22%3A%20true%2C%20%22fillColor%22%3A%20%22%232adddd%22%2C%20%22fillOpacity%22%3A%200.7%2C%20%22fillRule%22%3A%20%22evenodd%22%2C%20%22lineCap%22%3A%20%22round%22%2C%20%22lineJoin%22%3A%20%22round%22%2C%20%22opacity%22%3A%201.0%2C%20%22radius%22%3A%204%2C%20%22stroke%22%3A%20true%2C%20%22weight%22%3A%203%7D%0A%20%20%20%20%20%20%20%20%20%20%20%20%29.addTo%28map_4908022add9e4a2bacbd1c81fe60caca%29%3B%0A%20%20%20%20%20%20%20%20%0A%20%20%20%20%0A%20%20%20%20%20%20%20%20var%20popup_f3b1b655bcc34181ae71fc49f0403265%20%3D%20L.popup%28%7B%22maxWidth%22%3A%20%22100%25%22%7D%29%3B%0A%0A%20%20%20%20%20%20%20%20%0A%20%20%20%20%20%20%20%20%20%20%20%20var%20html_25a01b70ac4a43c9b3d6c426412021ae%20%3D%20%24%28%60%3Cdiv%20id%3D%22html_25a01b70ac4a43c9b3d6c426412021ae%22%20style%3D%22width%3A%20100.0%25%3B%20height%3A%20100.0%25%3B%22%3E0%20%20%20%20%20%20%20%20%20East%20Toronto%201%20%20%20%20%20%20%20%20%20East%20Toronto%202%20%20%20%20%20%20%20%20%20East%20Toronto%203%20%20%20%20%20%20%20%20%20East%20Toronto%204%20%20%20%20%20%20Central%20Toronto%205%20%20%20%20%20%20Central%20Toronto%206%20%20%20%20%20%20Central%20Toronto%207%20%20%20%20%20%20Central%20Toronto%208%20%20%20%20%20%20Central%20Toronto%209%20%20%20%20%20%20Central%20Toronto%2010%20%20%20%20Downtown%20Toronto%2011%20%20%20%20Downtown%20Toronto%2012%20%20%20%20Downtown%20Toronto%2013%20%20%20%20Downtown%20Toronto%2014%20%20%20%20Downtown%20Toronto%2015%20%20%20%20Downtown%20Toronto%2016%20%20%20%20Downtown%20Toronto%2017%20%20%20%20Downtown%20Toronto%2018%20%20%20%20Downtown%20Toronto%2019%20%20%20%20Downtown%20Toronto%2020%20%20%20%20Downtown%20Toronto%2021%20%20%20%20Downtown%20Toronto%2022%20%20%20%20%20Central%20Toronto%2023%20%20%20%20%20Central%20Toronto%2024%20%20%20%20%20Central%20Toronto%2025%20%20%20%20Downtown%20Toronto%2026%20%20%20%20Downtown%20Toronto%2027%20%20%20%20Downtown%20Toronto%2028%20%20%20%20Downtown%20Toronto%2029%20%20%20%20Downtown%20Toronto%2030%20%20%20%20Downtown%20Toronto%2031%20%20%20%20%20%20%20%20West%20Toronto%2032%20%20%20%20%20%20%20%20West%20Toronto%2033%20%20%20%20%20%20%20%20West%20Toronto%2034%20%20%20%20%20%20%20%20West%20Toronto%2035%20%20%20%20%20%20%20%20West%20Toronto%2036%20%20%20%20%20%20%20%20West%20Toronto%2037%20%20%20%20Downtown%20Toronto%2038%20%20%20%20%20%20%20%20East%20Toronto%20Name%3A%20Borough%2C%20dtype%3A%20object%20Cluster%202%3C/div%3E%60%29%5B0%5D%3B%0A%20%20%20%20%20%20%20%20%20%20%20%20popup_f3b1b655bcc34181ae71fc49f0403265.setContent%28html_25a01b70ac4a43c9b3d6c426412021ae%29%3B%0A%20%20%20%20%20%20%20%20%0A%0A%20%20%20%20%20%20%20%20circle_marker_d34cdec562a345d59d5eee8994c3b2d1.bindPopup%28popup_f3b1b655bcc34181ae71fc49f0403265%29%0A%20%20%20%20%20%20%20%20%3B%0A%0A%20%20%20%20%20%20%20%20%0A%20%20%20%20%0A%20%20%20%20%0A%20%20%20%20%20%20%20%20%20%20%20%20var%20circle_marker_df9c9a67af0840d9bb8aa3b899a534fb%20%3D%20L.circleMarker%28%0A%20%20%20%20%20%20%20%20%20%20%20%20%20%20%20%20%5B43.7127511%2C%20-79.3901975%5D%2C%0A%20%20%20%20%20%20%20%20%20%20%20%20%20%20%20%20%7B%22bubblingMouseEvents%22%3A%20true%2C%20%22color%22%3A%20%22%232adddd%22%2C%20%22dashArray%22%3A%20null%2C%20%22dashOffset%22%3A%20null%2C%20%22fill%22%3A%20true%2C%20%22fillColor%22%3A%20%22%232adddd%22%2C%20%22fillOpacity%22%3A%200.7%2C%20%22fillRule%22%3A%20%22evenodd%22%2C%20%22lineCap%22%3A%20%22round%22%2C%20%22lineJoin%22%3A%20%22round%22%2C%20%22opacity%22%3A%201.0%2C%20%22radius%22%3A%204%2C%20%22stroke%22%3A%20true%2C%20%22weight%22%3A%203%7D%0A%20%20%20%20%20%20%20%20%20%20%20%20%29.addTo%28map_4908022add9e4a2bacbd1c81fe60caca%29%3B%0A%20%20%20%20%20%20%20%20%0A%20%20%20%20%0A%20%20%20%20%20%20%20%20var%20popup_2bb55b94257b45df84b97658230307f4%20%3D%20L.popup%28%7B%22maxWidth%22%3A%20%22100%25%22%7D%29%3B%0A%0A%20%20%20%20%20%20%20%20%0A%20%20%20%20%20%20%20%20%20%20%20%20var%20html_f8aa59301ad74ac9b9b7d72dd1e1dfc7%20%3D%20%24%28%60%3Cdiv%20id%3D%22html_f8aa59301ad74ac9b9b7d72dd1e1dfc7%22%20style%3D%22width%3A%20100.0%25%3B%20height%3A%20100.0%25%3B%22%3E0%20%20%20%20%20%20%20%20%20East%20Toronto%201%20%20%20%20%20%20%20%20%20East%20Toronto%202%20%20%20%20%20%20%20%20%20East%20Toronto%203%20%20%20%20%20%20%20%20%20East%20Toronto%204%20%20%20%20%20%20Central%20Toronto%205%20%20%20%20%20%20Central%20Toronto%206%20%20%20%20%20%20Central%20Toronto%207%20%20%20%20%20%20Central%20Toronto%208%20%20%20%20%20%20Central%20Toronto%209%20%20%20%20%20%20Central%20Toronto%2010%20%20%20%20Downtown%20Toronto%2011%20%20%20%20Downtown%20Toronto%2012%20%20%20%20Downtown%20Toronto%2013%20%20%20%20Downtown%20Toronto%2014%20%20%20%20Downtown%20Toronto%2015%20%20%20%20Downtown%20Toronto%2016%20%20%20%20Downtown%20Toronto%2017%20%20%20%20Downtown%20Toronto%2018%20%20%20%20Downtown%20Toronto%2019%20%20%20%20Downtown%20Toronto%2020%20%20%20%20Downtown%20Toronto%2021%20%20%20%20Downtown%20Toronto%2022%20%20%20%20%20Central%20Toronto%2023%20%20%20%20%20Central%20Toronto%2024%20%20%20%20%20Central%20Toronto%2025%20%20%20%20Downtown%20Toronto%2026%20%20%20%20Downtown%20Toronto%2027%20%20%20%20Downtown%20Toronto%2028%20%20%20%20Downtown%20Toronto%2029%20%20%20%20Downtown%20Toronto%2030%20%20%20%20Downtown%20Toronto%2031%20%20%20%20%20%20%20%20West%20Toronto%2032%20%20%20%20%20%20%20%20West%20Toronto%2033%20%20%20%20%20%20%20%20West%20Toronto%2034%20%20%20%20%20%20%20%20West%20Toronto%2035%20%20%20%20%20%20%20%20West%20Toronto%2036%20%20%20%20%20%20%20%20West%20Toronto%2037%20%20%20%20Downtown%20Toronto%2038%20%20%20%20%20%20%20%20East%20Toronto%20Name%3A%20Borough%2C%20dtype%3A%20object%20Cluster%202%3C/div%3E%60%29%5B0%5D%3B%0A%20%20%20%20%20%20%20%20%20%20%20%20popup_2bb55b94257b45df84b97658230307f4.setContent%28html_f8aa59301ad74ac9b9b7d72dd1e1dfc7%29%3B%0A%20%20%20%20%20%20%20%20%0A%0A%20%20%20%20%20%20%20%20circle_marker_df9c9a67af0840d9bb8aa3b899a534fb.bindPopup%28popup_2bb55b94257b45df84b97658230307f4%29%0A%20%20%20%20%20%20%20%20%3B%0A%0A%20%20%20%20%20%20%20%20%0A%20%20%20%20%0A%20%20%20%20%0A%20%20%20%20%20%20%20%20%20%20%20%20var%20circle_marker_1d7fca9f51af46d98c96b847dff808e1%20%3D%20L.circleMarker%28%0A%20%20%20%20%20%20%20%20%20%20%20%20%20%20%20%20%5B43.7153834%2C%20-79.40567840000001%5D%2C%0A%20%20%20%20%20%20%20%20%20%20%20%20%20%20%20%20%7B%22bubblingMouseEvents%22%3A%20true%2C%20%22color%22%3A%20%22%232adddd%22%2C%20%22dashArray%22%3A%20null%2C%20%22dashOffset%22%3A%20null%2C%20%22fill%22%3A%20true%2C%20%22fillColor%22%3A%20%22%232adddd%22%2C%20%22fillOpacity%22%3A%200.7%2C%20%22fillRule%22%3A%20%22evenodd%22%2C%20%22lineCap%22%3A%20%22round%22%2C%20%22lineJoin%22%3A%20%22round%22%2C%20%22opacity%22%3A%201.0%2C%20%22radius%22%3A%204%2C%20%22stroke%22%3A%20true%2C%20%22weight%22%3A%203%7D%0A%20%20%20%20%20%20%20%20%20%20%20%20%29.addTo%28map_4908022add9e4a2bacbd1c81fe60caca%29%3B%0A%20%20%20%20%20%20%20%20%0A%20%20%20%20%0A%20%20%20%20%20%20%20%20var%20popup_9a19790f56a1461eb604bb44a1473797%20%3D%20L.popup%28%7B%22maxWidth%22%3A%20%22100%25%22%7D%29%3B%0A%0A%20%20%20%20%20%20%20%20%0A%20%20%20%20%20%20%20%20%20%20%20%20var%20html_7138eaba9bb345f2b22b4ab57b17958d%20%3D%20%24%28%60%3Cdiv%20id%3D%22html_7138eaba9bb345f2b22b4ab57b17958d%22%20style%3D%22width%3A%20100.0%25%3B%20height%3A%20100.0%25%3B%22%3E0%20%20%20%20%20%20%20%20%20East%20Toronto%201%20%20%20%20%20%20%20%20%20East%20Toronto%202%20%20%20%20%20%20%20%20%20East%20Toronto%203%20%20%20%20%20%20%20%20%20East%20Toronto%204%20%20%20%20%20%20Central%20Toronto%205%20%20%20%20%20%20Central%20Toronto%206%20%20%20%20%20%20Central%20Toronto%207%20%20%20%20%20%20Central%20Toronto%208%20%20%20%20%20%20Central%20Toronto%209%20%20%20%20%20%20Central%20Toronto%2010%20%20%20%20Downtown%20Toronto%2011%20%20%20%20Downtown%20Toronto%2012%20%20%20%20Downtown%20Toronto%2013%20%20%20%20Downtown%20Toronto%2014%20%20%20%20Downtown%20Toronto%2015%20%20%20%20Downtown%20Toronto%2016%20%20%20%20Downtown%20Toronto%2017%20%20%20%20Downtown%20Toronto%2018%20%20%20%20Downtown%20Toronto%2019%20%20%20%20Downtown%20Toronto%2020%20%20%20%20Downtown%20Toronto%2021%20%20%20%20Downtown%20Toronto%2022%20%20%20%20%20Central%20Toronto%2023%20%20%20%20%20Central%20Toronto%2024%20%20%20%20%20Central%20Toronto%2025%20%20%20%20Downtown%20Toronto%2026%20%20%20%20Downtown%20Toronto%2027%20%20%20%20Downtown%20Toronto%2028%20%20%20%20Downtown%20Toronto%2029%20%20%20%20Downtown%20Toronto%2030%20%20%20%20Downtown%20Toronto%2031%20%20%20%20%20%20%20%20West%20Toronto%2032%20%20%20%20%20%20%20%20West%20Toronto%2033%20%20%20%20%20%20%20%20West%20Toronto%2034%20%20%20%20%20%20%20%20West%20Toronto%2035%20%20%20%20%20%20%20%20West%20Toronto%2036%20%20%20%20%20%20%20%20West%20Toronto%2037%20%20%20%20Downtown%20Toronto%2038%20%20%20%20%20%20%20%20East%20Toronto%20Name%3A%20Borough%2C%20dtype%3A%20object%20Cluster%202%3C/div%3E%60%29%5B0%5D%3B%0A%20%20%20%20%20%20%20%20%20%20%20%20popup_9a19790f56a1461eb604bb44a1473797.setContent%28html_7138eaba9bb345f2b22b4ab57b17958d%29%3B%0A%20%20%20%20%20%20%20%20%0A%0A%20%20%20%20%20%20%20%20circle_marker_1d7fca9f51af46d98c96b847dff808e1.bindPopup%28popup_9a19790f56a1461eb604bb44a1473797%29%0A%20%20%20%20%20%20%20%20%3B%0A%0A%20%20%20%20%20%20%20%20%0A%20%20%20%20%0A%20%20%20%20%0A%20%20%20%20%20%20%20%20%20%20%20%20var%20circle_marker_8080cbc590d740d5a291460e9fc07b89%20%3D%20L.circleMarker%28%0A%20%20%20%20%20%20%20%20%20%20%20%20%20%20%20%20%5B43.7043244%2C%20-79.3887901%5D%2C%0A%20%20%20%20%20%20%20%20%20%20%20%20%20%20%20%20%7B%22bubblingMouseEvents%22%3A%20true%2C%20%22color%22%3A%20%22%232adddd%22%2C%20%22dashArray%22%3A%20null%2C%20%22dashOffset%22%3A%20null%2C%20%22fill%22%3A%20true%2C%20%22fillColor%22%3A%20%22%232adddd%22%2C%20%22fillOpacity%22%3A%200.7%2C%20%22fillRule%22%3A%20%22evenodd%22%2C%20%22lineCap%22%3A%20%22round%22%2C%20%22lineJoin%22%3A%20%22round%22%2C%20%22opacity%22%3A%201.0%2C%20%22radius%22%3A%204%2C%20%22stroke%22%3A%20true%2C%20%22weight%22%3A%203%7D%0A%20%20%20%20%20%20%20%20%20%20%20%20%29.addTo%28map_4908022add9e4a2bacbd1c81fe60caca%29%3B%0A%20%20%20%20%20%20%20%20%0A%20%20%20%20%0A%20%20%20%20%20%20%20%20var%20popup_936db0c1927f42a1bbdf6404f0df545f%20%3D%20L.popup%28%7B%22maxWidth%22%3A%20%22100%25%22%7D%29%3B%0A%0A%20%20%20%20%20%20%20%20%0A%20%20%20%20%20%20%20%20%20%20%20%20var%20html_57874ef27f13491d81596eee29e608dc%20%3D%20%24%28%60%3Cdiv%20id%3D%22html_57874ef27f13491d81596eee29e608dc%22%20style%3D%22width%3A%20100.0%25%3B%20height%3A%20100.0%25%3B%22%3E0%20%20%20%20%20%20%20%20%20East%20Toronto%201%20%20%20%20%20%20%20%20%20East%20Toronto%202%20%20%20%20%20%20%20%20%20East%20Toronto%203%20%20%20%20%20%20%20%20%20East%20Toronto%204%20%20%20%20%20%20Central%20Toronto%205%20%20%20%20%20%20Central%20Toronto%206%20%20%20%20%20%20Central%20Toronto%207%20%20%20%20%20%20Central%20Toronto%208%20%20%20%20%20%20Central%20Toronto%209%20%20%20%20%20%20Central%20Toronto%2010%20%20%20%20Downtown%20Toronto%2011%20%20%20%20Downtown%20Toronto%2012%20%20%20%20Downtown%20Toronto%2013%20%20%20%20Downtown%20Toronto%2014%20%20%20%20Downtown%20Toronto%2015%20%20%20%20Downtown%20Toronto%2016%20%20%20%20Downtown%20Toronto%2017%20%20%20%20Downtown%20Toronto%2018%20%20%20%20Downtown%20Toronto%2019%20%20%20%20Downtown%20Toronto%2020%20%20%20%20Downtown%20Toronto%2021%20%20%20%20Downtown%20Toronto%2022%20%20%20%20%20Central%20Toronto%2023%20%20%20%20%20Central%20Toronto%2024%20%20%20%20%20Central%20Toronto%2025%20%20%20%20Downtown%20Toronto%2026%20%20%20%20Downtown%20Toronto%2027%20%20%20%20Downtown%20Toronto%2028%20%20%20%20Downtown%20Toronto%2029%20%20%20%20Downtown%20Toronto%2030%20%20%20%20Downtown%20Toronto%2031%20%20%20%20%20%20%20%20West%20Toronto%2032%20%20%20%20%20%20%20%20West%20Toronto%2033%20%20%20%20%20%20%20%20West%20Toronto%2034%20%20%20%20%20%20%20%20West%20Toronto%2035%20%20%20%20%20%20%20%20West%20Toronto%2036%20%20%20%20%20%20%20%20West%20Toronto%2037%20%20%20%20Downtown%20Toronto%2038%20%20%20%20%20%20%20%20East%20Toronto%20Name%3A%20Borough%2C%20dtype%3A%20object%20Cluster%202%3C/div%3E%60%29%5B0%5D%3B%0A%20%20%20%20%20%20%20%20%20%20%20%20popup_936db0c1927f42a1bbdf6404f0df545f.setContent%28html_57874ef27f13491d81596eee29e608dc%29%3B%0A%20%20%20%20%20%20%20%20%0A%0A%20%20%20%20%20%20%20%20circle_marker_8080cbc590d740d5a291460e9fc07b89.bindPopup%28popup_936db0c1927f42a1bbdf6404f0df545f%29%0A%20%20%20%20%20%20%20%20%3B%0A%0A%20%20%20%20%20%20%20%20%0A%20%20%20%20%0A%20%20%20%20%0A%20%20%20%20%20%20%20%20%20%20%20%20var%20circle_marker_cf827425fe7c4c4a866dedd091529bac%20%3D%20L.circleMarker%28%0A%20%20%20%20%20%20%20%20%20%20%20%20%20%20%20%20%5B43.6895743%2C%20-79.38315990000001%5D%2C%0A%20%20%20%20%20%20%20%20%20%20%20%20%20%20%20%20%7B%22bubblingMouseEvents%22%3A%20true%2C%20%22color%22%3A%20%22%232adddd%22%2C%20%22dashArray%22%3A%20null%2C%20%22dashOffset%22%3A%20null%2C%20%22fill%22%3A%20true%2C%20%22fillColor%22%3A%20%22%232adddd%22%2C%20%22fillOpacity%22%3A%200.7%2C%20%22fillRule%22%3A%20%22evenodd%22%2C%20%22lineCap%22%3A%20%22round%22%2C%20%22lineJoin%22%3A%20%22round%22%2C%20%22opacity%22%3A%201.0%2C%20%22radius%22%3A%204%2C%20%22stroke%22%3A%20true%2C%20%22weight%22%3A%203%7D%0A%20%20%20%20%20%20%20%20%20%20%20%20%29.addTo%28map_4908022add9e4a2bacbd1c81fe60caca%29%3B%0A%20%20%20%20%20%20%20%20%0A%20%20%20%20%0A%20%20%20%20%20%20%20%20var%20popup_d2570a50d94b4d5ba4a8d1cb7ad88fc7%20%3D%20L.popup%28%7B%22maxWidth%22%3A%20%22100%25%22%7D%29%3B%0A%0A%20%20%20%20%20%20%20%20%0A%20%20%20%20%20%20%20%20%20%20%20%20var%20html_f0c09c2e02514a0ab4dfd0227b2eaab3%20%3D%20%24%28%60%3Cdiv%20id%3D%22html_f0c09c2e02514a0ab4dfd0227b2eaab3%22%20style%3D%22width%3A%20100.0%25%3B%20height%3A%20100.0%25%3B%22%3E0%20%20%20%20%20%20%20%20%20East%20Toronto%201%20%20%20%20%20%20%20%20%20East%20Toronto%202%20%20%20%20%20%20%20%20%20East%20Toronto%203%20%20%20%20%20%20%20%20%20East%20Toronto%204%20%20%20%20%20%20Central%20Toronto%205%20%20%20%20%20%20Central%20Toronto%206%20%20%20%20%20%20Central%20Toronto%207%20%20%20%20%20%20Central%20Toronto%208%20%20%20%20%20%20Central%20Toronto%209%20%20%20%20%20%20Central%20Toronto%2010%20%20%20%20Downtown%20Toronto%2011%20%20%20%20Downtown%20Toronto%2012%20%20%20%20Downtown%20Toronto%2013%20%20%20%20Downtown%20Toronto%2014%20%20%20%20Downtown%20Toronto%2015%20%20%20%20Downtown%20Toronto%2016%20%20%20%20Downtown%20Toronto%2017%20%20%20%20Downtown%20Toronto%2018%20%20%20%20Downtown%20Toronto%2019%20%20%20%20Downtown%20Toronto%2020%20%20%20%20Downtown%20Toronto%2021%20%20%20%20Downtown%20Toronto%2022%20%20%20%20%20Central%20Toronto%2023%20%20%20%20%20Central%20Toronto%2024%20%20%20%20%20Central%20Toronto%2025%20%20%20%20Downtown%20Toronto%2026%20%20%20%20Downtown%20Toronto%2027%20%20%20%20Downtown%20Toronto%2028%20%20%20%20Downtown%20Toronto%2029%20%20%20%20Downtown%20Toronto%2030%20%20%20%20Downtown%20Toronto%2031%20%20%20%20%20%20%20%20West%20Toronto%2032%20%20%20%20%20%20%20%20West%20Toronto%2033%20%20%20%20%20%20%20%20West%20Toronto%2034%20%20%20%20%20%20%20%20West%20Toronto%2035%20%20%20%20%20%20%20%20West%20Toronto%2036%20%20%20%20%20%20%20%20West%20Toronto%2037%20%20%20%20Downtown%20Toronto%2038%20%20%20%20%20%20%20%20East%20Toronto%20Name%3A%20Borough%2C%20dtype%3A%20object%20Cluster%202%3C/div%3E%60%29%5B0%5D%3B%0A%20%20%20%20%20%20%20%20%20%20%20%20popup_d2570a50d94b4d5ba4a8d1cb7ad88fc7.setContent%28html_f0c09c2e02514a0ab4dfd0227b2eaab3%29%3B%0A%20%20%20%20%20%20%20%20%0A%0A%20%20%20%20%20%20%20%20circle_marker_cf827425fe7c4c4a866dedd091529bac.bindPopup%28popup_d2570a50d94b4d5ba4a8d1cb7ad88fc7%29%0A%20%20%20%20%20%20%20%20%3B%0A%0A%20%20%20%20%20%20%20%20%0A%20%20%20%20%0A%20%20%20%20%0A%20%20%20%20%20%20%20%20%20%20%20%20var%20circle_marker_5faca3e7f8044b69b8f716705c13d174%20%3D%20L.circleMarker%28%0A%20%20%20%20%20%20%20%20%20%20%20%20%20%20%20%20%5B43.68641229999999%2C%20-79.4000493%5D%2C%0A%20%20%20%20%20%20%20%20%20%20%20%20%20%20%20%20%7B%22bubblingMouseEvents%22%3A%20true%2C%20%22color%22%3A%20%22%232adddd%22%2C%20%22dashArray%22%3A%20null%2C%20%22dashOffset%22%3A%20null%2C%20%22fill%22%3A%20true%2C%20%22fillColor%22%3A%20%22%232adddd%22%2C%20%22fillOpacity%22%3A%200.7%2C%20%22fillRule%22%3A%20%22evenodd%22%2C%20%22lineCap%22%3A%20%22round%22%2C%20%22lineJoin%22%3A%20%22round%22%2C%20%22opacity%22%3A%201.0%2C%20%22radius%22%3A%204%2C%20%22stroke%22%3A%20true%2C%20%22weight%22%3A%203%7D%0A%20%20%20%20%20%20%20%20%20%20%20%20%29.addTo%28map_4908022add9e4a2bacbd1c81fe60caca%29%3B%0A%20%20%20%20%20%20%20%20%0A%20%20%20%20%0A%20%20%20%20%20%20%20%20var%20popup_b1398ee5de2e45ccbd8383ae7dd69cec%20%3D%20L.popup%28%7B%22maxWidth%22%3A%20%22100%25%22%7D%29%3B%0A%0A%20%20%20%20%20%20%20%20%0A%20%20%20%20%20%20%20%20%20%20%20%20var%20html_07bbcb2f5a6d4d0288f5c2f6f99778a5%20%3D%20%24%28%60%3Cdiv%20id%3D%22html_07bbcb2f5a6d4d0288f5c2f6f99778a5%22%20style%3D%22width%3A%20100.0%25%3B%20height%3A%20100.0%25%3B%22%3E0%20%20%20%20%20%20%20%20%20East%20Toronto%201%20%20%20%20%20%20%20%20%20East%20Toronto%202%20%20%20%20%20%20%20%20%20East%20Toronto%203%20%20%20%20%20%20%20%20%20East%20Toronto%204%20%20%20%20%20%20Central%20Toronto%205%20%20%20%20%20%20Central%20Toronto%206%20%20%20%20%20%20Central%20Toronto%207%20%20%20%20%20%20Central%20Toronto%208%20%20%20%20%20%20Central%20Toronto%209%20%20%20%20%20%20Central%20Toronto%2010%20%20%20%20Downtown%20Toronto%2011%20%20%20%20Downtown%20Toronto%2012%20%20%20%20Downtown%20Toronto%2013%20%20%20%20Downtown%20Toronto%2014%20%20%20%20Downtown%20Toronto%2015%20%20%20%20Downtown%20Toronto%2016%20%20%20%20Downtown%20Toronto%2017%20%20%20%20Downtown%20Toronto%2018%20%20%20%20Downtown%20Toronto%2019%20%20%20%20Downtown%20Toronto%2020%20%20%20%20Downtown%20Toronto%2021%20%20%20%20Downtown%20Toronto%2022%20%20%20%20%20Central%20Toronto%2023%20%20%20%20%20Central%20Toronto%2024%20%20%20%20%20Central%20Toronto%2025%20%20%20%20Downtown%20Toronto%2026%20%20%20%20Downtown%20Toronto%2027%20%20%20%20Downtown%20Toronto%2028%20%20%20%20Downtown%20Toronto%2029%20%20%20%20Downtown%20Toronto%2030%20%20%20%20Downtown%20Toronto%2031%20%20%20%20%20%20%20%20West%20Toronto%2032%20%20%20%20%20%20%20%20West%20Toronto%2033%20%20%20%20%20%20%20%20West%20Toronto%2034%20%20%20%20%20%20%20%20West%20Toronto%2035%20%20%20%20%20%20%20%20West%20Toronto%2036%20%20%20%20%20%20%20%20West%20Toronto%2037%20%20%20%20Downtown%20Toronto%2038%20%20%20%20%20%20%20%20East%20Toronto%20Name%3A%20Borough%2C%20dtype%3A%20object%20Cluster%202%3C/div%3E%60%29%5B0%5D%3B%0A%20%20%20%20%20%20%20%20%20%20%20%20popup_b1398ee5de2e45ccbd8383ae7dd69cec.setContent%28html_07bbcb2f5a6d4d0288f5c2f6f99778a5%29%3B%0A%20%20%20%20%20%20%20%20%0A%0A%20%20%20%20%20%20%20%20circle_marker_5faca3e7f8044b69b8f716705c13d174.bindPopup%28popup_b1398ee5de2e45ccbd8383ae7dd69cec%29%0A%20%20%20%20%20%20%20%20%3B%0A%0A%20%20%20%20%20%20%20%20%0A%20%20%20%20%0A%20%20%20%20%0A%20%20%20%20%20%20%20%20%20%20%20%20var%20circle_marker_c395b670844c40b6b3c1baca53745da9%20%3D%20L.circleMarker%28%0A%20%20%20%20%20%20%20%20%20%20%20%20%20%20%20%20%5B43.6795626%2C%20-79.37752940000001%5D%2C%0A%20%20%20%20%20%20%20%20%20%20%20%20%20%20%20%20%7B%22bubblingMouseEvents%22%3A%20true%2C%20%22color%22%3A%20%22%238000ff%22%2C%20%22dashArray%22%3A%20null%2C%20%22dashOffset%22%3A%20null%2C%20%22fill%22%3A%20true%2C%20%22fillColor%22%3A%20%22%238000ff%22%2C%20%22fillOpacity%22%3A%200.7%2C%20%22fillRule%22%3A%20%22evenodd%22%2C%20%22lineCap%22%3A%20%22round%22%2C%20%22lineJoin%22%3A%20%22round%22%2C%20%22opacity%22%3A%201.0%2C%20%22radius%22%3A%204%2C%20%22stroke%22%3A%20true%2C%20%22weight%22%3A%203%7D%0A%20%20%20%20%20%20%20%20%20%20%20%20%29.addTo%28map_4908022add9e4a2bacbd1c81fe60caca%29%3B%0A%20%20%20%20%20%20%20%20%0A%20%20%20%20%0A%20%20%20%20%20%20%20%20var%20popup_352953f3806a4d86a03ca8a5f86b07cc%20%3D%20L.popup%28%7B%22maxWidth%22%3A%20%22100%25%22%7D%29%3B%0A%0A%20%20%20%20%20%20%20%20%0A%20%20%20%20%20%20%20%20%20%20%20%20var%20html_14dee30d1eec4d75935e29b40a964e0f%20%3D%20%24%28%60%3Cdiv%20id%3D%22html_14dee30d1eec4d75935e29b40a964e0f%22%20style%3D%22width%3A%20100.0%25%3B%20height%3A%20100.0%25%3B%22%3E0%20%20%20%20%20%20%20%20%20East%20Toronto%201%20%20%20%20%20%20%20%20%20East%20Toronto%202%20%20%20%20%20%20%20%20%20East%20Toronto%203%20%20%20%20%20%20%20%20%20East%20Toronto%204%20%20%20%20%20%20Central%20Toronto%205%20%20%20%20%20%20Central%20Toronto%206%20%20%20%20%20%20Central%20Toronto%207%20%20%20%20%20%20Central%20Toronto%208%20%20%20%20%20%20Central%20Toronto%209%20%20%20%20%20%20Central%20Toronto%2010%20%20%20%20Downtown%20Toronto%2011%20%20%20%20Downtown%20Toronto%2012%20%20%20%20Downtown%20Toronto%2013%20%20%20%20Downtown%20Toronto%2014%20%20%20%20Downtown%20Toronto%2015%20%20%20%20Downtown%20Toronto%2016%20%20%20%20Downtown%20Toronto%2017%20%20%20%20Downtown%20Toronto%2018%20%20%20%20Downtown%20Toronto%2019%20%20%20%20Downtown%20Toronto%2020%20%20%20%20Downtown%20Toronto%2021%20%20%20%20Downtown%20Toronto%2022%20%20%20%20%20Central%20Toronto%2023%20%20%20%20%20Central%20Toronto%2024%20%20%20%20%20Central%20Toronto%2025%20%20%20%20Downtown%20Toronto%2026%20%20%20%20Downtown%20Toronto%2027%20%20%20%20Downtown%20Toronto%2028%20%20%20%20Downtown%20Toronto%2029%20%20%20%20Downtown%20Toronto%2030%20%20%20%20Downtown%20Toronto%2031%20%20%20%20%20%20%20%20West%20Toronto%2032%20%20%20%20%20%20%20%20West%20Toronto%2033%20%20%20%20%20%20%20%20West%20Toronto%2034%20%20%20%20%20%20%20%20West%20Toronto%2035%20%20%20%20%20%20%20%20West%20Toronto%2036%20%20%20%20%20%20%20%20West%20Toronto%2037%20%20%20%20Downtown%20Toronto%2038%20%20%20%20%20%20%20%20East%20Toronto%20Name%3A%20Borough%2C%20dtype%3A%20object%20Cluster%201%3C/div%3E%60%29%5B0%5D%3B%0A%20%20%20%20%20%20%20%20%20%20%20%20popup_352953f3806a4d86a03ca8a5f86b07cc.setContent%28html_14dee30d1eec4d75935e29b40a964e0f%29%3B%0A%20%20%20%20%20%20%20%20%0A%0A%20%20%20%20%20%20%20%20circle_marker_c395b670844c40b6b3c1baca53745da9.bindPopup%28popup_352953f3806a4d86a03ca8a5f86b07cc%29%0A%20%20%20%20%20%20%20%20%3B%0A%0A%20%20%20%20%20%20%20%20%0A%20%20%20%20%0A%20%20%20%20%0A%20%20%20%20%20%20%20%20%20%20%20%20var%20circle_marker_3fa85724487f424daf586ff28f5e9eeb%20%3D%20L.circleMarker%28%0A%20%20%20%20%20%20%20%20%20%20%20%20%20%20%20%20%5B43.667967%2C%20-79.3676753%5D%2C%0A%20%20%20%20%20%20%20%20%20%20%20%20%20%20%20%20%7B%22bubblingMouseEvents%22%3A%20true%2C%20%22color%22%3A%20%22%238000ff%22%2C%20%22dashArray%22%3A%20null%2C%20%22dashOffset%22%3A%20null%2C%20%22fill%22%3A%20true%2C%20%22fillColor%22%3A%20%22%238000ff%22%2C%20%22fillOpacity%22%3A%200.7%2C%20%22fillRule%22%3A%20%22evenodd%22%2C%20%22lineCap%22%3A%20%22round%22%2C%20%22lineJoin%22%3A%20%22round%22%2C%20%22opacity%22%3A%201.0%2C%20%22radius%22%3A%204%2C%20%22stroke%22%3A%20true%2C%20%22weight%22%3A%203%7D%0A%20%20%20%20%20%20%20%20%20%20%20%20%29.addTo%28map_4908022add9e4a2bacbd1c81fe60caca%29%3B%0A%20%20%20%20%20%20%20%20%0A%20%20%20%20%0A%20%20%20%20%20%20%20%20var%20popup_130624e45e644442a6925cf51b8012eb%20%3D%20L.popup%28%7B%22maxWidth%22%3A%20%22100%25%22%7D%29%3B%0A%0A%20%20%20%20%20%20%20%20%0A%20%20%20%20%20%20%20%20%20%20%20%20var%20html_d9be71823b8e4cd28a99864ae11aeaed%20%3D%20%24%28%60%3Cdiv%20id%3D%22html_d9be71823b8e4cd28a99864ae11aeaed%22%20style%3D%22width%3A%20100.0%25%3B%20height%3A%20100.0%25%3B%22%3E0%20%20%20%20%20%20%20%20%20East%20Toronto%201%20%20%20%20%20%20%20%20%20East%20Toronto%202%20%20%20%20%20%20%20%20%20East%20Toronto%203%20%20%20%20%20%20%20%20%20East%20Toronto%204%20%20%20%20%20%20Central%20Toronto%205%20%20%20%20%20%20Central%20Toronto%206%20%20%20%20%20%20Central%20Toronto%207%20%20%20%20%20%20Central%20Toronto%208%20%20%20%20%20%20Central%20Toronto%209%20%20%20%20%20%20Central%20Toronto%2010%20%20%20%20Downtown%20Toronto%2011%20%20%20%20Downtown%20Toronto%2012%20%20%20%20Downtown%20Toronto%2013%20%20%20%20Downtown%20Toronto%2014%20%20%20%20Downtown%20Toronto%2015%20%20%20%20Downtown%20Toronto%2016%20%20%20%20Downtown%20Toronto%2017%20%20%20%20Downtown%20Toronto%2018%20%20%20%20Downtown%20Toronto%2019%20%20%20%20Downtown%20Toronto%2020%20%20%20%20Downtown%20Toronto%2021%20%20%20%20Downtown%20Toronto%2022%20%20%20%20%20Central%20Toronto%2023%20%20%20%20%20Central%20Toronto%2024%20%20%20%20%20Central%20Toronto%2025%20%20%20%20Downtown%20Toronto%2026%20%20%20%20Downtown%20Toronto%2027%20%20%20%20Downtown%20Toronto%2028%20%20%20%20Downtown%20Toronto%2029%20%20%20%20Downtown%20Toronto%2030%20%20%20%20Downtown%20Toronto%2031%20%20%20%20%20%20%20%20West%20Toronto%2032%20%20%20%20%20%20%20%20West%20Toronto%2033%20%20%20%20%20%20%20%20West%20Toronto%2034%20%20%20%20%20%20%20%20West%20Toronto%2035%20%20%20%20%20%20%20%20West%20Toronto%2036%20%20%20%20%20%20%20%20West%20Toronto%2037%20%20%20%20Downtown%20Toronto%2038%20%20%20%20%20%20%20%20East%20Toronto%20Name%3A%20Borough%2C%20dtype%3A%20object%20Cluster%201%3C/div%3E%60%29%5B0%5D%3B%0A%20%20%20%20%20%20%20%20%20%20%20%20popup_130624e45e644442a6925cf51b8012eb.setContent%28html_d9be71823b8e4cd28a99864ae11aeaed%29%3B%0A%20%20%20%20%20%20%20%20%0A%0A%20%20%20%20%20%20%20%20circle_marker_3fa85724487f424daf586ff28f5e9eeb.bindPopup%28popup_130624e45e644442a6925cf51b8012eb%29%0A%20%20%20%20%20%20%20%20%3B%0A%0A%20%20%20%20%20%20%20%20%0A%20%20%20%20%0A%20%20%20%20%0A%20%20%20%20%20%20%20%20%20%20%20%20var%20circle_marker_7eebee7c54cc4e40b9044c3643805ee1%20%3D%20L.circleMarker%28%0A%20%20%20%20%20%20%20%20%20%20%20%20%20%20%20%20%5B43.6658599%2C%20-79.38315990000001%5D%2C%0A%20%20%20%20%20%20%20%20%20%20%20%20%20%20%20%20%7B%22bubblingMouseEvents%22%3A%20true%2C%20%22color%22%3A%20%22%238000ff%22%2C%20%22dashArray%22%3A%20null%2C%20%22dashOffset%22%3A%20null%2C%20%22fill%22%3A%20true%2C%20%22fillColor%22%3A%20%22%238000ff%22%2C%20%22fillOpacity%22%3A%200.7%2C%20%22fillRule%22%3A%20%22evenodd%22%2C%20%22lineCap%22%3A%20%22round%22%2C%20%22lineJoin%22%3A%20%22round%22%2C%20%22opacity%22%3A%201.0%2C%20%22radius%22%3A%204%2C%20%22stroke%22%3A%20true%2C%20%22weight%22%3A%203%7D%0A%20%20%20%20%20%20%20%20%20%20%20%20%29.addTo%28map_4908022add9e4a2bacbd1c81fe60caca%29%3B%0A%20%20%20%20%20%20%20%20%0A%20%20%20%20%0A%20%20%20%20%20%20%20%20var%20popup_a18f7f1f062e45baa7a3c4b1dbdc99aa%20%3D%20L.popup%28%7B%22maxWidth%22%3A%20%22100%25%22%7D%29%3B%0A%0A%20%20%20%20%20%20%20%20%0A%20%20%20%20%20%20%20%20%20%20%20%20var%20html_af16b655d3914d87a72680c527acd04d%20%3D%20%24%28%60%3Cdiv%20id%3D%22html_af16b655d3914d87a72680c527acd04d%22%20style%3D%22width%3A%20100.0%25%3B%20height%3A%20100.0%25%3B%22%3E0%20%20%20%20%20%20%20%20%20East%20Toronto%201%20%20%20%20%20%20%20%20%20East%20Toronto%202%20%20%20%20%20%20%20%20%20East%20Toronto%203%20%20%20%20%20%20%20%20%20East%20Toronto%204%20%20%20%20%20%20Central%20Toronto%205%20%20%20%20%20%20Central%20Toronto%206%20%20%20%20%20%20Central%20Toronto%207%20%20%20%20%20%20Central%20Toronto%208%20%20%20%20%20%20Central%20Toronto%209%20%20%20%20%20%20Central%20Toronto%2010%20%20%20%20Downtown%20Toronto%2011%20%20%20%20Downtown%20Toronto%2012%20%20%20%20Downtown%20Toronto%2013%20%20%20%20Downtown%20Toronto%2014%20%20%20%20Downtown%20Toronto%2015%20%20%20%20Downtown%20Toronto%2016%20%20%20%20Downtown%20Toronto%2017%20%20%20%20Downtown%20Toronto%2018%20%20%20%20Downtown%20Toronto%2019%20%20%20%20Downtown%20Toronto%2020%20%20%20%20Downtown%20Toronto%2021%20%20%20%20Downtown%20Toronto%2022%20%20%20%20%20Central%20Toronto%2023%20%20%20%20%20Central%20Toronto%2024%20%20%20%20%20Central%20Toronto%2025%20%20%20%20Downtown%20Toronto%2026%20%20%20%20Downtown%20Toronto%2027%20%20%20%20Downtown%20Toronto%2028%20%20%20%20Downtown%20Toronto%2029%20%20%20%20Downtown%20Toronto%2030%20%20%20%20Downtown%20Toronto%2031%20%20%20%20%20%20%20%20West%20Toronto%2032%20%20%20%20%20%20%20%20West%20Toronto%2033%20%20%20%20%20%20%20%20West%20Toronto%2034%20%20%20%20%20%20%20%20West%20Toronto%2035%20%20%20%20%20%20%20%20West%20Toronto%2036%20%20%20%20%20%20%20%20West%20Toronto%2037%20%20%20%20Downtown%20Toronto%2038%20%20%20%20%20%20%20%20East%20Toronto%20Name%3A%20Borough%2C%20dtype%3A%20object%20Cluster%201%3C/div%3E%60%29%5B0%5D%3B%0A%20%20%20%20%20%20%20%20%20%20%20%20popup_a18f7f1f062e45baa7a3c4b1dbdc99aa.setContent%28html_af16b655d3914d87a72680c527acd04d%29%3B%0A%20%20%20%20%20%20%20%20%0A%0A%20%20%20%20%20%20%20%20circle_marker_7eebee7c54cc4e40b9044c3643805ee1.bindPopup%28popup_a18f7f1f062e45baa7a3c4b1dbdc99aa%29%0A%20%20%20%20%20%20%20%20%3B%0A%0A%20%20%20%20%20%20%20%20%0A%20%20%20%20%0A%20%20%20%20%0A%20%20%20%20%20%20%20%20%20%20%20%20var%20circle_marker_93dcc1236cea43eca91a525a680a4f46%20%3D%20L.circleMarker%28%0A%20%20%20%20%20%20%20%20%20%20%20%20%20%20%20%20%5B43.6542599%2C%20-79.3606359%5D%2C%0A%20%20%20%20%20%20%20%20%20%20%20%20%20%20%20%20%7B%22bubblingMouseEvents%22%3A%20true%2C%20%22color%22%3A%20%22%238000ff%22%2C%20%22dashArray%22%3A%20null%2C%20%22dashOffset%22%3A%20null%2C%20%22fill%22%3A%20true%2C%20%22fillColor%22%3A%20%22%238000ff%22%2C%20%22fillOpacity%22%3A%200.7%2C%20%22fillRule%22%3A%20%22evenodd%22%2C%20%22lineCap%22%3A%20%22round%22%2C%20%22lineJoin%22%3A%20%22round%22%2C%20%22opacity%22%3A%201.0%2C%20%22radius%22%3A%204%2C%20%22stroke%22%3A%20true%2C%20%22weight%22%3A%203%7D%0A%20%20%20%20%20%20%20%20%20%20%20%20%29.addTo%28map_4908022add9e4a2bacbd1c81fe60caca%29%3B%0A%20%20%20%20%20%20%20%20%0A%20%20%20%20%0A%20%20%20%20%20%20%20%20var%20popup_a313748697404c728b8f8f3d43f90d2e%20%3D%20L.popup%28%7B%22maxWidth%22%3A%20%22100%25%22%7D%29%3B%0A%0A%20%20%20%20%20%20%20%20%0A%20%20%20%20%20%20%20%20%20%20%20%20var%20html_c2065951f1ad42899eac01b214a55593%20%3D%20%24%28%60%3Cdiv%20id%3D%22html_c2065951f1ad42899eac01b214a55593%22%20style%3D%22width%3A%20100.0%25%3B%20height%3A%20100.0%25%3B%22%3E0%20%20%20%20%20%20%20%20%20East%20Toronto%201%20%20%20%20%20%20%20%20%20East%20Toronto%202%20%20%20%20%20%20%20%20%20East%20Toronto%203%20%20%20%20%20%20%20%20%20East%20Toronto%204%20%20%20%20%20%20Central%20Toronto%205%20%20%20%20%20%20Central%20Toronto%206%20%20%20%20%20%20Central%20Toronto%207%20%20%20%20%20%20Central%20Toronto%208%20%20%20%20%20%20Central%20Toronto%209%20%20%20%20%20%20Central%20Toronto%2010%20%20%20%20Downtown%20Toronto%2011%20%20%20%20Downtown%20Toronto%2012%20%20%20%20Downtown%20Toronto%2013%20%20%20%20Downtown%20Toronto%2014%20%20%20%20Downtown%20Toronto%2015%20%20%20%20Downtown%20Toronto%2016%20%20%20%20Downtown%20Toronto%2017%20%20%20%20Downtown%20Toronto%2018%20%20%20%20Downtown%20Toronto%2019%20%20%20%20Downtown%20Toronto%2020%20%20%20%20Downtown%20Toronto%2021%20%20%20%20Downtown%20Toronto%2022%20%20%20%20%20Central%20Toronto%2023%20%20%20%20%20Central%20Toronto%2024%20%20%20%20%20Central%20Toronto%2025%20%20%20%20Downtown%20Toronto%2026%20%20%20%20Downtown%20Toronto%2027%20%20%20%20Downtown%20Toronto%2028%20%20%20%20Downtown%20Toronto%2029%20%20%20%20Downtown%20Toronto%2030%20%20%20%20Downtown%20Toronto%2031%20%20%20%20%20%20%20%20West%20Toronto%2032%20%20%20%20%20%20%20%20West%20Toronto%2033%20%20%20%20%20%20%20%20West%20Toronto%2034%20%20%20%20%20%20%20%20West%20Toronto%2035%20%20%20%20%20%20%20%20West%20Toronto%2036%20%20%20%20%20%20%20%20West%20Toronto%2037%20%20%20%20Downtown%20Toronto%2038%20%20%20%20%20%20%20%20East%20Toronto%20Name%3A%20Borough%2C%20dtype%3A%20object%20Cluster%201%3C/div%3E%60%29%5B0%5D%3B%0A%20%20%20%20%20%20%20%20%20%20%20%20popup_a313748697404c728b8f8f3d43f90d2e.setContent%28html_c2065951f1ad42899eac01b214a55593%29%3B%0A%20%20%20%20%20%20%20%20%0A%0A%20%20%20%20%20%20%20%20circle_marker_93dcc1236cea43eca91a525a680a4f46.bindPopup%28popup_a313748697404c728b8f8f3d43f90d2e%29%0A%20%20%20%20%20%20%20%20%3B%0A%0A%20%20%20%20%20%20%20%20%0A%20%20%20%20%0A%20%20%20%20%0A%20%20%20%20%20%20%20%20%20%20%20%20var%20circle_marker_1fd7ecf3664b453c88eb3673076c24c1%20%3D%20L.circleMarker%28%0A%20%20%20%20%20%20%20%20%20%20%20%20%20%20%20%20%5B43.6571618%2C%20-79.37893709999999%5D%2C%0A%20%20%20%20%20%20%20%20%20%20%20%20%20%20%20%20%7B%22bubblingMouseEvents%22%3A%20true%2C%20%22color%22%3A%20%22%238000ff%22%2C%20%22dashArray%22%3A%20null%2C%20%22dashOffset%22%3A%20null%2C%20%22fill%22%3A%20true%2C%20%22fillColor%22%3A%20%22%238000ff%22%2C%20%22fillOpacity%22%3A%200.7%2C%20%22fillRule%22%3A%20%22evenodd%22%2C%20%22lineCap%22%3A%20%22round%22%2C%20%22lineJoin%22%3A%20%22round%22%2C%20%22opacity%22%3A%201.0%2C%20%22radius%22%3A%204%2C%20%22stroke%22%3A%20true%2C%20%22weight%22%3A%203%7D%0A%20%20%20%20%20%20%20%20%20%20%20%20%29.addTo%28map_4908022add9e4a2bacbd1c81fe60caca%29%3B%0A%20%20%20%20%20%20%20%20%0A%20%20%20%20%0A%20%20%20%20%20%20%20%20var%20popup_da15e0e6a51a4203bddaab17f3f96f06%20%3D%20L.popup%28%7B%22maxWidth%22%3A%20%22100%25%22%7D%29%3B%0A%0A%20%20%20%20%20%20%20%20%0A%20%20%20%20%20%20%20%20%20%20%20%20var%20html_d579c5a170144c9890a31be1e3327fd1%20%3D%20%24%28%60%3Cdiv%20id%3D%22html_d579c5a170144c9890a31be1e3327fd1%22%20style%3D%22width%3A%20100.0%25%3B%20height%3A%20100.0%25%3B%22%3E0%20%20%20%20%20%20%20%20%20East%20Toronto%201%20%20%20%20%20%20%20%20%20East%20Toronto%202%20%20%20%20%20%20%20%20%20East%20Toronto%203%20%20%20%20%20%20%20%20%20East%20Toronto%204%20%20%20%20%20%20Central%20Toronto%205%20%20%20%20%20%20Central%20Toronto%206%20%20%20%20%20%20Central%20Toronto%207%20%20%20%20%20%20Central%20Toronto%208%20%20%20%20%20%20Central%20Toronto%209%20%20%20%20%20%20Central%20Toronto%2010%20%20%20%20Downtown%20Toronto%2011%20%20%20%20Downtown%20Toronto%2012%20%20%20%20Downtown%20Toronto%2013%20%20%20%20Downtown%20Toronto%2014%20%20%20%20Downtown%20Toronto%2015%20%20%20%20Downtown%20Toronto%2016%20%20%20%20Downtown%20Toronto%2017%20%20%20%20Downtown%20Toronto%2018%20%20%20%20Downtown%20Toronto%2019%20%20%20%20Downtown%20Toronto%2020%20%20%20%20Downtown%20Toronto%2021%20%20%20%20Downtown%20Toronto%2022%20%20%20%20%20Central%20Toronto%2023%20%20%20%20%20Central%20Toronto%2024%20%20%20%20%20Central%20Toronto%2025%20%20%20%20Downtown%20Toronto%2026%20%20%20%20Downtown%20Toronto%2027%20%20%20%20Downtown%20Toronto%2028%20%20%20%20Downtown%20Toronto%2029%20%20%20%20Downtown%20Toronto%2030%20%20%20%20Downtown%20Toronto%2031%20%20%20%20%20%20%20%20West%20Toronto%2032%20%20%20%20%20%20%20%20West%20Toronto%2033%20%20%20%20%20%20%20%20West%20Toronto%2034%20%20%20%20%20%20%20%20West%20Toronto%2035%20%20%20%20%20%20%20%20West%20Toronto%2036%20%20%20%20%20%20%20%20West%20Toronto%2037%20%20%20%20Downtown%20Toronto%2038%20%20%20%20%20%20%20%20East%20Toronto%20Name%3A%20Borough%2C%20dtype%3A%20object%20Cluster%201%3C/div%3E%60%29%5B0%5D%3B%0A%20%20%20%20%20%20%20%20%20%20%20%20popup_da15e0e6a51a4203bddaab17f3f96f06.setContent%28html_d579c5a170144c9890a31be1e3327fd1%29%3B%0A%20%20%20%20%20%20%20%20%0A%0A%20%20%20%20%20%20%20%20circle_marker_1fd7ecf3664b453c88eb3673076c24c1.bindPopup%28popup_da15e0e6a51a4203bddaab17f3f96f06%29%0A%20%20%20%20%20%20%20%20%3B%0A%0A%20%20%20%20%20%20%20%20%0A%20%20%20%20%0A%20%20%20%20%0A%20%20%20%20%20%20%20%20%20%20%20%20var%20circle_marker_b65e5f83de754738a4bdede13e358b9e%20%3D%20L.circleMarker%28%0A%20%20%20%20%20%20%20%20%20%20%20%20%20%20%20%20%5B43.6514939%2C%20-79.3754179%5D%2C%0A%20%20%20%20%20%20%20%20%20%20%20%20%20%20%20%20%7B%22bubblingMouseEvents%22%3A%20true%2C%20%22color%22%3A%20%22%238000ff%22%2C%20%22dashArray%22%3A%20null%2C%20%22dashOffset%22%3A%20null%2C%20%22fill%22%3A%20true%2C%20%22fillColor%22%3A%20%22%238000ff%22%2C%20%22fillOpacity%22%3A%200.7%2C%20%22fillRule%22%3A%20%22evenodd%22%2C%20%22lineCap%22%3A%20%22round%22%2C%20%22lineJoin%22%3A%20%22round%22%2C%20%22opacity%22%3A%201.0%2C%20%22radius%22%3A%204%2C%20%22stroke%22%3A%20true%2C%20%22weight%22%3A%203%7D%0A%20%20%20%20%20%20%20%20%20%20%20%20%29.addTo%28map_4908022add9e4a2bacbd1c81fe60caca%29%3B%0A%20%20%20%20%20%20%20%20%0A%20%20%20%20%0A%20%20%20%20%20%20%20%20var%20popup_1923269ff114474d82c7794b6a669c81%20%3D%20L.popup%28%7B%22maxWidth%22%3A%20%22100%25%22%7D%29%3B%0A%0A%20%20%20%20%20%20%20%20%0A%20%20%20%20%20%20%20%20%20%20%20%20var%20html_83894009679c4897b5e7e4881ba62c54%20%3D%20%24%28%60%3Cdiv%20id%3D%22html_83894009679c4897b5e7e4881ba62c54%22%20style%3D%22width%3A%20100.0%25%3B%20height%3A%20100.0%25%3B%22%3E0%20%20%20%20%20%20%20%20%20East%20Toronto%201%20%20%20%20%20%20%20%20%20East%20Toronto%202%20%20%20%20%20%20%20%20%20East%20Toronto%203%20%20%20%20%20%20%20%20%20East%20Toronto%204%20%20%20%20%20%20Central%20Toronto%205%20%20%20%20%20%20Central%20Toronto%206%20%20%20%20%20%20Central%20Toronto%207%20%20%20%20%20%20Central%20Toronto%208%20%20%20%20%20%20Central%20Toronto%209%20%20%20%20%20%20Central%20Toronto%2010%20%20%20%20Downtown%20Toronto%2011%20%20%20%20Downtown%20Toronto%2012%20%20%20%20Downtown%20Toronto%2013%20%20%20%20Downtown%20Toronto%2014%20%20%20%20Downtown%20Toronto%2015%20%20%20%20Downtown%20Toronto%2016%20%20%20%20Downtown%20Toronto%2017%20%20%20%20Downtown%20Toronto%2018%20%20%20%20Downtown%20Toronto%2019%20%20%20%20Downtown%20Toronto%2020%20%20%20%20Downtown%20Toronto%2021%20%20%20%20Downtown%20Toronto%2022%20%20%20%20%20Central%20Toronto%2023%20%20%20%20%20Central%20Toronto%2024%20%20%20%20%20Central%20Toronto%2025%20%20%20%20Downtown%20Toronto%2026%20%20%20%20Downtown%20Toronto%2027%20%20%20%20Downtown%20Toronto%2028%20%20%20%20Downtown%20Toronto%2029%20%20%20%20Downtown%20Toronto%2030%20%20%20%20Downtown%20Toronto%2031%20%20%20%20%20%20%20%20West%20Toronto%2032%20%20%20%20%20%20%20%20West%20Toronto%2033%20%20%20%20%20%20%20%20West%20Toronto%2034%20%20%20%20%20%20%20%20West%20Toronto%2035%20%20%20%20%20%20%20%20West%20Toronto%2036%20%20%20%20%20%20%20%20West%20Toronto%2037%20%20%20%20Downtown%20Toronto%2038%20%20%20%20%20%20%20%20East%20Toronto%20Name%3A%20Borough%2C%20dtype%3A%20object%20Cluster%201%3C/div%3E%60%29%5B0%5D%3B%0A%20%20%20%20%20%20%20%20%20%20%20%20popup_1923269ff114474d82c7794b6a669c81.setContent%28html_83894009679c4897b5e7e4881ba62c54%29%3B%0A%20%20%20%20%20%20%20%20%0A%0A%20%20%20%20%20%20%20%20circle_marker_b65e5f83de754738a4bdede13e358b9e.bindPopup%28popup_1923269ff114474d82c7794b6a669c81%29%0A%20%20%20%20%20%20%20%20%3B%0A%0A%20%20%20%20%20%20%20%20%0A%20%20%20%20%0A%20%20%20%20%0A%20%20%20%20%20%20%20%20%20%20%20%20var%20circle_marker_8058536dd94342bd81e8dbdb12135793%20%3D%20L.circleMarker%28%0A%20%20%20%20%20%20%20%20%20%20%20%20%20%20%20%20%5B43.644770799999996%2C%20-79.3733064%5D%2C%0A%20%20%20%20%20%20%20%20%20%20%20%20%20%20%20%20%7B%22bubblingMouseEvents%22%3A%20true%2C%20%22color%22%3A%20%22%238000ff%22%2C%20%22dashArray%22%3A%20null%2C%20%22dashOffset%22%3A%20null%2C%20%22fill%22%3A%20true%2C%20%22fillColor%22%3A%20%22%238000ff%22%2C%20%22fillOpacity%22%3A%200.7%2C%20%22fillRule%22%3A%20%22evenodd%22%2C%20%22lineCap%22%3A%20%22round%22%2C%20%22lineJoin%22%3A%20%22round%22%2C%20%22opacity%22%3A%201.0%2C%20%22radius%22%3A%204%2C%20%22stroke%22%3A%20true%2C%20%22weight%22%3A%203%7D%0A%20%20%20%20%20%20%20%20%20%20%20%20%29.addTo%28map_4908022add9e4a2bacbd1c81fe60caca%29%3B%0A%20%20%20%20%20%20%20%20%0A%20%20%20%20%0A%20%20%20%20%20%20%20%20var%20popup_9495ef45eb5d4a57bc26d8fbc12d2e7d%20%3D%20L.popup%28%7B%22maxWidth%22%3A%20%22100%25%22%7D%29%3B%0A%0A%20%20%20%20%20%20%20%20%0A%20%20%20%20%20%20%20%20%20%20%20%20var%20html_f2616b5221bf4315a36584692bf6f326%20%3D%20%24%28%60%3Cdiv%20id%3D%22html_f2616b5221bf4315a36584692bf6f326%22%20style%3D%22width%3A%20100.0%25%3B%20height%3A%20100.0%25%3B%22%3E0%20%20%20%20%20%20%20%20%20East%20Toronto%201%20%20%20%20%20%20%20%20%20East%20Toronto%202%20%20%20%20%20%20%20%20%20East%20Toronto%203%20%20%20%20%20%20%20%20%20East%20Toronto%204%20%20%20%20%20%20Central%20Toronto%205%20%20%20%20%20%20Central%20Toronto%206%20%20%20%20%20%20Central%20Toronto%207%20%20%20%20%20%20Central%20Toronto%208%20%20%20%20%20%20Central%20Toronto%209%20%20%20%20%20%20Central%20Toronto%2010%20%20%20%20Downtown%20Toronto%2011%20%20%20%20Downtown%20Toronto%2012%20%20%20%20Downtown%20Toronto%2013%20%20%20%20Downtown%20Toronto%2014%20%20%20%20Downtown%20Toronto%2015%20%20%20%20Downtown%20Toronto%2016%20%20%20%20Downtown%20Toronto%2017%20%20%20%20Downtown%20Toronto%2018%20%20%20%20Downtown%20Toronto%2019%20%20%20%20Downtown%20Toronto%2020%20%20%20%20Downtown%20Toronto%2021%20%20%20%20Downtown%20Toronto%2022%20%20%20%20%20Central%20Toronto%2023%20%20%20%20%20Central%20Toronto%2024%20%20%20%20%20Central%20Toronto%2025%20%20%20%20Downtown%20Toronto%2026%20%20%20%20Downtown%20Toronto%2027%20%20%20%20Downtown%20Toronto%2028%20%20%20%20Downtown%20Toronto%2029%20%20%20%20Downtown%20Toronto%2030%20%20%20%20Downtown%20Toronto%2031%20%20%20%20%20%20%20%20West%20Toronto%2032%20%20%20%20%20%20%20%20West%20Toronto%2033%20%20%20%20%20%20%20%20West%20Toronto%2034%20%20%20%20%20%20%20%20West%20Toronto%2035%20%20%20%20%20%20%20%20West%20Toronto%2036%20%20%20%20%20%20%20%20West%20Toronto%2037%20%20%20%20Downtown%20Toronto%2038%20%20%20%20%20%20%20%20East%20Toronto%20Name%3A%20Borough%2C%20dtype%3A%20object%20Cluster%201%3C/div%3E%60%29%5B0%5D%3B%0A%20%20%20%20%20%20%20%20%20%20%20%20popup_9495ef45eb5d4a57bc26d8fbc12d2e7d.setContent%28html_f2616b5221bf4315a36584692bf6f326%29%3B%0A%20%20%20%20%20%20%20%20%0A%0A%20%20%20%20%20%20%20%20circle_marker_8058536dd94342bd81e8dbdb12135793.bindPopup%28popup_9495ef45eb5d4a57bc26d8fbc12d2e7d%29%0A%20%20%20%20%20%20%20%20%3B%0A%0A%20%20%20%20%20%20%20%20%0A%20%20%20%20%0A%20%20%20%20%0A%20%20%20%20%20%20%20%20%20%20%20%20var%20circle_marker_081c96bf68464385b0473b132cfd05b7%20%3D%20L.circleMarker%28%0A%20%20%20%20%20%20%20%20%20%20%20%20%20%20%20%20%5B43.6579524%2C%20-79.3873826%5D%2C%0A%20%20%20%20%20%20%20%20%20%20%20%20%20%20%20%20%7B%22bubblingMouseEvents%22%3A%20true%2C%20%22color%22%3A%20%22%238000ff%22%2C%20%22dashArray%22%3A%20null%2C%20%22dashOffset%22%3A%20null%2C%20%22fill%22%3A%20true%2C%20%22fillColor%22%3A%20%22%238000ff%22%2C%20%22fillOpacity%22%3A%200.7%2C%20%22fillRule%22%3A%20%22evenodd%22%2C%20%22lineCap%22%3A%20%22round%22%2C%20%22lineJoin%22%3A%20%22round%22%2C%20%22opacity%22%3A%201.0%2C%20%22radius%22%3A%204%2C%20%22stroke%22%3A%20true%2C%20%22weight%22%3A%203%7D%0A%20%20%20%20%20%20%20%20%20%20%20%20%29.addTo%28map_4908022add9e4a2bacbd1c81fe60caca%29%3B%0A%20%20%20%20%20%20%20%20%0A%20%20%20%20%0A%20%20%20%20%20%20%20%20var%20popup_29e68e817c4c4efcad0071a83837638e%20%3D%20L.popup%28%7B%22maxWidth%22%3A%20%22100%25%22%7D%29%3B%0A%0A%20%20%20%20%20%20%20%20%0A%20%20%20%20%20%20%20%20%20%20%20%20var%20html_7c45fa0141fd40a281800ba2886fb499%20%3D%20%24%28%60%3Cdiv%20id%3D%22html_7c45fa0141fd40a281800ba2886fb499%22%20style%3D%22width%3A%20100.0%25%3B%20height%3A%20100.0%25%3B%22%3E0%20%20%20%20%20%20%20%20%20East%20Toronto%201%20%20%20%20%20%20%20%20%20East%20Toronto%202%20%20%20%20%20%20%20%20%20East%20Toronto%203%20%20%20%20%20%20%20%20%20East%20Toronto%204%20%20%20%20%20%20Central%20Toronto%205%20%20%20%20%20%20Central%20Toronto%206%20%20%20%20%20%20Central%20Toronto%207%20%20%20%20%20%20Central%20Toronto%208%20%20%20%20%20%20Central%20Toronto%209%20%20%20%20%20%20Central%20Toronto%2010%20%20%20%20Downtown%20Toronto%2011%20%20%20%20Downtown%20Toronto%2012%20%20%20%20Downtown%20Toronto%2013%20%20%20%20Downtown%20Toronto%2014%20%20%20%20Downtown%20Toronto%2015%20%20%20%20Downtown%20Toronto%2016%20%20%20%20Downtown%20Toronto%2017%20%20%20%20Downtown%20Toronto%2018%20%20%20%20Downtown%20Toronto%2019%20%20%20%20Downtown%20Toronto%2020%20%20%20%20Downtown%20Toronto%2021%20%20%20%20Downtown%20Toronto%2022%20%20%20%20%20Central%20Toronto%2023%20%20%20%20%20Central%20Toronto%2024%20%20%20%20%20Central%20Toronto%2025%20%20%20%20Downtown%20Toronto%2026%20%20%20%20Downtown%20Toronto%2027%20%20%20%20Downtown%20Toronto%2028%20%20%20%20Downtown%20Toronto%2029%20%20%20%20Downtown%20Toronto%2030%20%20%20%20Downtown%20Toronto%2031%20%20%20%20%20%20%20%20West%20Toronto%2032%20%20%20%20%20%20%20%20West%20Toronto%2033%20%20%20%20%20%20%20%20West%20Toronto%2034%20%20%20%20%20%20%20%20West%20Toronto%2035%20%20%20%20%20%20%20%20West%20Toronto%2036%20%20%20%20%20%20%20%20West%20Toronto%2037%20%20%20%20Downtown%20Toronto%2038%20%20%20%20%20%20%20%20East%20Toronto%20Name%3A%20Borough%2C%20dtype%3A%20object%20Cluster%201%3C/div%3E%60%29%5B0%5D%3B%0A%20%20%20%20%20%20%20%20%20%20%20%20popup_29e68e817c4c4efcad0071a83837638e.setContent%28html_7c45fa0141fd40a281800ba2886fb499%29%3B%0A%20%20%20%20%20%20%20%20%0A%0A%20%20%20%20%20%20%20%20circle_marker_081c96bf68464385b0473b132cfd05b7.bindPopup%28popup_29e68e817c4c4efcad0071a83837638e%29%0A%20%20%20%20%20%20%20%20%3B%0A%0A%20%20%20%20%20%20%20%20%0A%20%20%20%20%0A%20%20%20%20%0A%20%20%20%20%20%20%20%20%20%20%20%20var%20circle_marker_9a444ebf4c054550afe59993a4b5b478%20%3D%20L.circleMarker%28%0A%20%20%20%20%20%20%20%20%20%20%20%20%20%20%20%20%5B43.65057120000001%2C%20-79.3845675%5D%2C%0A%20%20%20%20%20%20%20%20%20%20%20%20%20%20%20%20%7B%22bubblingMouseEvents%22%3A%20true%2C%20%22color%22%3A%20%22%238000ff%22%2C%20%22dashArray%22%3A%20null%2C%20%22dashOffset%22%3A%20null%2C%20%22fill%22%3A%20true%2C%20%22fillColor%22%3A%20%22%238000ff%22%2C%20%22fillOpacity%22%3A%200.7%2C%20%22fillRule%22%3A%20%22evenodd%22%2C%20%22lineCap%22%3A%20%22round%22%2C%20%22lineJoin%22%3A%20%22round%22%2C%20%22opacity%22%3A%201.0%2C%20%22radius%22%3A%204%2C%20%22stroke%22%3A%20true%2C%20%22weight%22%3A%203%7D%0A%20%20%20%20%20%20%20%20%20%20%20%20%29.addTo%28map_4908022add9e4a2bacbd1c81fe60caca%29%3B%0A%20%20%20%20%20%20%20%20%0A%20%20%20%20%0A%20%20%20%20%20%20%20%20var%20popup_f9ba3c31288e475f8e5eefb6722d9abd%20%3D%20L.popup%28%7B%22maxWidth%22%3A%20%22100%25%22%7D%29%3B%0A%0A%20%20%20%20%20%20%20%20%0A%20%20%20%20%20%20%20%20%20%20%20%20var%20html_cfe3b885917b474ea948dd5b31fb0fca%20%3D%20%24%28%60%3Cdiv%20id%3D%22html_cfe3b885917b474ea948dd5b31fb0fca%22%20style%3D%22width%3A%20100.0%25%3B%20height%3A%20100.0%25%3B%22%3E0%20%20%20%20%20%20%20%20%20East%20Toronto%201%20%20%20%20%20%20%20%20%20East%20Toronto%202%20%20%20%20%20%20%20%20%20East%20Toronto%203%20%20%20%20%20%20%20%20%20East%20Toronto%204%20%20%20%20%20%20Central%20Toronto%205%20%20%20%20%20%20Central%20Toronto%206%20%20%20%20%20%20Central%20Toronto%207%20%20%20%20%20%20Central%20Toronto%208%20%20%20%20%20%20Central%20Toronto%209%20%20%20%20%20%20Central%20Toronto%2010%20%20%20%20Downtown%20Toronto%2011%20%20%20%20Downtown%20Toronto%2012%20%20%20%20Downtown%20Toronto%2013%20%20%20%20Downtown%20Toronto%2014%20%20%20%20Downtown%20Toronto%2015%20%20%20%20Downtown%20Toronto%2016%20%20%20%20Downtown%20Toronto%2017%20%20%20%20Downtown%20Toronto%2018%20%20%20%20Downtown%20Toronto%2019%20%20%20%20Downtown%20Toronto%2020%20%20%20%20Downtown%20Toronto%2021%20%20%20%20Downtown%20Toronto%2022%20%20%20%20%20Central%20Toronto%2023%20%20%20%20%20Central%20Toronto%2024%20%20%20%20%20Central%20Toronto%2025%20%20%20%20Downtown%20Toronto%2026%20%20%20%20Downtown%20Toronto%2027%20%20%20%20Downtown%20Toronto%2028%20%20%20%20Downtown%20Toronto%2029%20%20%20%20Downtown%20Toronto%2030%20%20%20%20Downtown%20Toronto%2031%20%20%20%20%20%20%20%20West%20Toronto%2032%20%20%20%20%20%20%20%20West%20Toronto%2033%20%20%20%20%20%20%20%20West%20Toronto%2034%20%20%20%20%20%20%20%20West%20Toronto%2035%20%20%20%20%20%20%20%20West%20Toronto%2036%20%20%20%20%20%20%20%20West%20Toronto%2037%20%20%20%20Downtown%20Toronto%2038%20%20%20%20%20%20%20%20East%20Toronto%20Name%3A%20Borough%2C%20dtype%3A%20object%20Cluster%201%3C/div%3E%60%29%5B0%5D%3B%0A%20%20%20%20%20%20%20%20%20%20%20%20popup_f9ba3c31288e475f8e5eefb6722d9abd.setContent%28html_cfe3b885917b474ea948dd5b31fb0fca%29%3B%0A%20%20%20%20%20%20%20%20%0A%0A%20%20%20%20%20%20%20%20circle_marker_9a444ebf4c054550afe59993a4b5b478.bindPopup%28popup_f9ba3c31288e475f8e5eefb6722d9abd%29%0A%20%20%20%20%20%20%20%20%3B%0A%0A%20%20%20%20%20%20%20%20%0A%20%20%20%20%0A%20%20%20%20%0A%20%20%20%20%20%20%20%20%20%20%20%20var%20circle_marker_804a514fc7334854ba9691a43179b2a3%20%3D%20L.circleMarker%28%0A%20%20%20%20%20%20%20%20%20%20%20%20%20%20%20%20%5B43.6408157%2C%20-79.38175229999999%5D%2C%0A%20%20%20%20%20%20%20%20%20%20%20%20%20%20%20%20%7B%22bubblingMouseEvents%22%3A%20true%2C%20%22color%22%3A%20%22%238000ff%22%2C%20%22dashArray%22%3A%20null%2C%20%22dashOffset%22%3A%20null%2C%20%22fill%22%3A%20true%2C%20%22fillColor%22%3A%20%22%238000ff%22%2C%20%22fillOpacity%22%3A%200.7%2C%20%22fillRule%22%3A%20%22evenodd%22%2C%20%22lineCap%22%3A%20%22round%22%2C%20%22lineJoin%22%3A%20%22round%22%2C%20%22opacity%22%3A%201.0%2C%20%22radius%22%3A%204%2C%20%22stroke%22%3A%20true%2C%20%22weight%22%3A%203%7D%0A%20%20%20%20%20%20%20%20%20%20%20%20%29.addTo%28map_4908022add9e4a2bacbd1c81fe60caca%29%3B%0A%20%20%20%20%20%20%20%20%0A%20%20%20%20%0A%20%20%20%20%20%20%20%20var%20popup_4973adc7936243ca8b9a70df958e5244%20%3D%20L.popup%28%7B%22maxWidth%22%3A%20%22100%25%22%7D%29%3B%0A%0A%20%20%20%20%20%20%20%20%0A%20%20%20%20%20%20%20%20%20%20%20%20var%20html_210dc4fae578418fb8010f433ed369ec%20%3D%20%24%28%60%3Cdiv%20id%3D%22html_210dc4fae578418fb8010f433ed369ec%22%20style%3D%22width%3A%20100.0%25%3B%20height%3A%20100.0%25%3B%22%3E0%20%20%20%20%20%20%20%20%20East%20Toronto%201%20%20%20%20%20%20%20%20%20East%20Toronto%202%20%20%20%20%20%20%20%20%20East%20Toronto%203%20%20%20%20%20%20%20%20%20East%20Toronto%204%20%20%20%20%20%20Central%20Toronto%205%20%20%20%20%20%20Central%20Toronto%206%20%20%20%20%20%20Central%20Toronto%207%20%20%20%20%20%20Central%20Toronto%208%20%20%20%20%20%20Central%20Toronto%209%20%20%20%20%20%20Central%20Toronto%2010%20%20%20%20Downtown%20Toronto%2011%20%20%20%20Downtown%20Toronto%2012%20%20%20%20Downtown%20Toronto%2013%20%20%20%20Downtown%20Toronto%2014%20%20%20%20Downtown%20Toronto%2015%20%20%20%20Downtown%20Toronto%2016%20%20%20%20Downtown%20Toronto%2017%20%20%20%20Downtown%20Toronto%2018%20%20%20%20Downtown%20Toronto%2019%20%20%20%20Downtown%20Toronto%2020%20%20%20%20Downtown%20Toronto%2021%20%20%20%20Downtown%20Toronto%2022%20%20%20%20%20Central%20Toronto%2023%20%20%20%20%20Central%20Toronto%2024%20%20%20%20%20Central%20Toronto%2025%20%20%20%20Downtown%20Toronto%2026%20%20%20%20Downtown%20Toronto%2027%20%20%20%20Downtown%20Toronto%2028%20%20%20%20Downtown%20Toronto%2029%20%20%20%20Downtown%20Toronto%2030%20%20%20%20Downtown%20Toronto%2031%20%20%20%20%20%20%20%20West%20Toronto%2032%20%20%20%20%20%20%20%20West%20Toronto%2033%20%20%20%20%20%20%20%20West%20Toronto%2034%20%20%20%20%20%20%20%20West%20Toronto%2035%20%20%20%20%20%20%20%20West%20Toronto%2036%20%20%20%20%20%20%20%20West%20Toronto%2037%20%20%20%20Downtown%20Toronto%2038%20%20%20%20%20%20%20%20East%20Toronto%20Name%3A%20Borough%2C%20dtype%3A%20object%20Cluster%201%3C/div%3E%60%29%5B0%5D%3B%0A%20%20%20%20%20%20%20%20%20%20%20%20popup_4973adc7936243ca8b9a70df958e5244.setContent%28html_210dc4fae578418fb8010f433ed369ec%29%3B%0A%20%20%20%20%20%20%20%20%0A%0A%20%20%20%20%20%20%20%20circle_marker_804a514fc7334854ba9691a43179b2a3.bindPopup%28popup_4973adc7936243ca8b9a70df958e5244%29%0A%20%20%20%20%20%20%20%20%3B%0A%0A%20%20%20%20%20%20%20%20%0A%20%20%20%20%0A%20%20%20%20%0A%20%20%20%20%20%20%20%20%20%20%20%20var%20circle_marker_57a975bbafdb4bdfa314f48b8cdf68a9%20%3D%20L.circleMarker%28%0A%20%20%20%20%20%20%20%20%20%20%20%20%20%20%20%20%5B43.6471768%2C%20-79.38157640000001%5D%2C%0A%20%20%20%20%20%20%20%20%20%20%20%20%20%20%20%20%7B%22bubblingMouseEvents%22%3A%20true%2C%20%22color%22%3A%20%22%238000ff%22%2C%20%22dashArray%22%3A%20null%2C%20%22dashOffset%22%3A%20null%2C%20%22fill%22%3A%20true%2C%20%22fillColor%22%3A%20%22%238000ff%22%2C%20%22fillOpacity%22%3A%200.7%2C%20%22fillRule%22%3A%20%22evenodd%22%2C%20%22lineCap%22%3A%20%22round%22%2C%20%22lineJoin%22%3A%20%22round%22%2C%20%22opacity%22%3A%201.0%2C%20%22radius%22%3A%204%2C%20%22stroke%22%3A%20true%2C%20%22weight%22%3A%203%7D%0A%20%20%20%20%20%20%20%20%20%20%20%20%29.addTo%28map_4908022add9e4a2bacbd1c81fe60caca%29%3B%0A%20%20%20%20%20%20%20%20%0A%20%20%20%20%0A%20%20%20%20%20%20%20%20var%20popup_6639fb396ad04e2fb1f7dc1eb7e8658d%20%3D%20L.popup%28%7B%22maxWidth%22%3A%20%22100%25%22%7D%29%3B%0A%0A%20%20%20%20%20%20%20%20%0A%20%20%20%20%20%20%20%20%20%20%20%20var%20html_820a6643bda848f380e527182c90137b%20%3D%20%24%28%60%3Cdiv%20id%3D%22html_820a6643bda848f380e527182c90137b%22%20style%3D%22width%3A%20100.0%25%3B%20height%3A%20100.0%25%3B%22%3E0%20%20%20%20%20%20%20%20%20East%20Toronto%201%20%20%20%20%20%20%20%20%20East%20Toronto%202%20%20%20%20%20%20%20%20%20East%20Toronto%203%20%20%20%20%20%20%20%20%20East%20Toronto%204%20%20%20%20%20%20Central%20Toronto%205%20%20%20%20%20%20Central%20Toronto%206%20%20%20%20%20%20Central%20Toronto%207%20%20%20%20%20%20Central%20Toronto%208%20%20%20%20%20%20Central%20Toronto%209%20%20%20%20%20%20Central%20Toronto%2010%20%20%20%20Downtown%20Toronto%2011%20%20%20%20Downtown%20Toronto%2012%20%20%20%20Downtown%20Toronto%2013%20%20%20%20Downtown%20Toronto%2014%20%20%20%20Downtown%20Toronto%2015%20%20%20%20Downtown%20Toronto%2016%20%20%20%20Downtown%20Toronto%2017%20%20%20%20Downtown%20Toronto%2018%20%20%20%20Downtown%20Toronto%2019%20%20%20%20Downtown%20Toronto%2020%20%20%20%20Downtown%20Toronto%2021%20%20%20%20Downtown%20Toronto%2022%20%20%20%20%20Central%20Toronto%2023%20%20%20%20%20Central%20Toronto%2024%20%20%20%20%20Central%20Toronto%2025%20%20%20%20Downtown%20Toronto%2026%20%20%20%20Downtown%20Toronto%2027%20%20%20%20Downtown%20Toronto%2028%20%20%20%20Downtown%20Toronto%2029%20%20%20%20Downtown%20Toronto%2030%20%20%20%20Downtown%20Toronto%2031%20%20%20%20%20%20%20%20West%20Toronto%2032%20%20%20%20%20%20%20%20West%20Toronto%2033%20%20%20%20%20%20%20%20West%20Toronto%2034%20%20%20%20%20%20%20%20West%20Toronto%2035%20%20%20%20%20%20%20%20West%20Toronto%2036%20%20%20%20%20%20%20%20West%20Toronto%2037%20%20%20%20Downtown%20Toronto%2038%20%20%20%20%20%20%20%20East%20Toronto%20Name%3A%20Borough%2C%20dtype%3A%20object%20Cluster%201%3C/div%3E%60%29%5B0%5D%3B%0A%20%20%20%20%20%20%20%20%20%20%20%20popup_6639fb396ad04e2fb1f7dc1eb7e8658d.setContent%28html_820a6643bda848f380e527182c90137b%29%3B%0A%20%20%20%20%20%20%20%20%0A%0A%20%20%20%20%20%20%20%20circle_marker_57a975bbafdb4bdfa314f48b8cdf68a9.bindPopup%28popup_6639fb396ad04e2fb1f7dc1eb7e8658d%29%0A%20%20%20%20%20%20%20%20%3B%0A%0A%20%20%20%20%20%20%20%20%0A%20%20%20%20%0A%20%20%20%20%0A%20%20%20%20%20%20%20%20%20%20%20%20var%20circle_marker_8b8ede108fe748759cb1beff02d4fe4d%20%3D%20L.circleMarker%28%0A%20%20%20%20%20%20%20%20%20%20%20%20%20%20%20%20%5B43.6481985%2C%20-79.37981690000001%5D%2C%0A%20%20%20%20%20%20%20%20%20%20%20%20%20%20%20%20%7B%22bubblingMouseEvents%22%3A%20true%2C%20%22color%22%3A%20%22%238000ff%22%2C%20%22dashArray%22%3A%20null%2C%20%22dashOffset%22%3A%20null%2C%20%22fill%22%3A%20true%2C%20%22fillColor%22%3A%20%22%238000ff%22%2C%20%22fillOpacity%22%3A%200.7%2C%20%22fillRule%22%3A%20%22evenodd%22%2C%20%22lineCap%22%3A%20%22round%22%2C%20%22lineJoin%22%3A%20%22round%22%2C%20%22opacity%22%3A%201.0%2C%20%22radius%22%3A%204%2C%20%22stroke%22%3A%20true%2C%20%22weight%22%3A%203%7D%0A%20%20%20%20%20%20%20%20%20%20%20%20%29.addTo%28map_4908022add9e4a2bacbd1c81fe60caca%29%3B%0A%20%20%20%20%20%20%20%20%0A%20%20%20%20%0A%20%20%20%20%20%20%20%20var%20popup_467dcae5bf0d48e09a3635272dfd1d99%20%3D%20L.popup%28%7B%22maxWidth%22%3A%20%22100%25%22%7D%29%3B%0A%0A%20%20%20%20%20%20%20%20%0A%20%20%20%20%20%20%20%20%20%20%20%20var%20html_fb45883ad7484d4f807ff8a5b6f30925%20%3D%20%24%28%60%3Cdiv%20id%3D%22html_fb45883ad7484d4f807ff8a5b6f30925%22%20style%3D%22width%3A%20100.0%25%3B%20height%3A%20100.0%25%3B%22%3E0%20%20%20%20%20%20%20%20%20East%20Toronto%201%20%20%20%20%20%20%20%20%20East%20Toronto%202%20%20%20%20%20%20%20%20%20East%20Toronto%203%20%20%20%20%20%20%20%20%20East%20Toronto%204%20%20%20%20%20%20Central%20Toronto%205%20%20%20%20%20%20Central%20Toronto%206%20%20%20%20%20%20Central%20Toronto%207%20%20%20%20%20%20Central%20Toronto%208%20%20%20%20%20%20Central%20Toronto%209%20%20%20%20%20%20Central%20Toronto%2010%20%20%20%20Downtown%20Toronto%2011%20%20%20%20Downtown%20Toronto%2012%20%20%20%20Downtown%20Toronto%2013%20%20%20%20Downtown%20Toronto%2014%20%20%20%20Downtown%20Toronto%2015%20%20%20%20Downtown%20Toronto%2016%20%20%20%20Downtown%20Toronto%2017%20%20%20%20Downtown%20Toronto%2018%20%20%20%20Downtown%20Toronto%2019%20%20%20%20Downtown%20Toronto%2020%20%20%20%20Downtown%20Toronto%2021%20%20%20%20Downtown%20Toronto%2022%20%20%20%20%20Central%20Toronto%2023%20%20%20%20%20Central%20Toronto%2024%20%20%20%20%20Central%20Toronto%2025%20%20%20%20Downtown%20Toronto%2026%20%20%20%20Downtown%20Toronto%2027%20%20%20%20Downtown%20Toronto%2028%20%20%20%20Downtown%20Toronto%2029%20%20%20%20Downtown%20Toronto%2030%20%20%20%20Downtown%20Toronto%2031%20%20%20%20%20%20%20%20West%20Toronto%2032%20%20%20%20%20%20%20%20West%20Toronto%2033%20%20%20%20%20%20%20%20West%20Toronto%2034%20%20%20%20%20%20%20%20West%20Toronto%2035%20%20%20%20%20%20%20%20West%20Toronto%2036%20%20%20%20%20%20%20%20West%20Toronto%2037%20%20%20%20Downtown%20Toronto%2038%20%20%20%20%20%20%20%20East%20Toronto%20Name%3A%20Borough%2C%20dtype%3A%20object%20Cluster%201%3C/div%3E%60%29%5B0%5D%3B%0A%20%20%20%20%20%20%20%20%20%20%20%20popup_467dcae5bf0d48e09a3635272dfd1d99.setContent%28html_fb45883ad7484d4f807ff8a5b6f30925%29%3B%0A%20%20%20%20%20%20%20%20%0A%0A%20%20%20%20%20%20%20%20circle_marker_8b8ede108fe748759cb1beff02d4fe4d.bindPopup%28popup_467dcae5bf0d48e09a3635272dfd1d99%29%0A%20%20%20%20%20%20%20%20%3B%0A%0A%20%20%20%20%20%20%20%20%0A%20%20%20%20%0A%20%20%20%20%0A%20%20%20%20%20%20%20%20%20%20%20%20var%20circle_marker_a6a133527f4a40528d364df57f75de57%20%3D%20L.circleMarker%28%0A%20%20%20%20%20%20%20%20%20%20%20%20%20%20%20%20%5B43.7116948%2C%20-79.41693559999999%5D%2C%0A%20%20%20%20%20%20%20%20%20%20%20%20%20%20%20%20%7B%22bubblingMouseEvents%22%3A%20true%2C%20%22color%22%3A%20%22%232adddd%22%2C%20%22dashArray%22%3A%20null%2C%20%22dashOffset%22%3A%20null%2C%20%22fill%22%3A%20true%2C%20%22fillColor%22%3A%20%22%232adddd%22%2C%20%22fillOpacity%22%3A%200.7%2C%20%22fillRule%22%3A%20%22evenodd%22%2C%20%22lineCap%22%3A%20%22round%22%2C%20%22lineJoin%22%3A%20%22round%22%2C%20%22opacity%22%3A%201.0%2C%20%22radius%22%3A%204%2C%20%22stroke%22%3A%20true%2C%20%22weight%22%3A%203%7D%0A%20%20%20%20%20%20%20%20%20%20%20%20%29.addTo%28map_4908022add9e4a2bacbd1c81fe60caca%29%3B%0A%20%20%20%20%20%20%20%20%0A%20%20%20%20%0A%20%20%20%20%20%20%20%20var%20popup_f14d2dc92d104fb1bfb4fabc3341fef1%20%3D%20L.popup%28%7B%22maxWidth%22%3A%20%22100%25%22%7D%29%3B%0A%0A%20%20%20%20%20%20%20%20%0A%20%20%20%20%20%20%20%20%20%20%20%20var%20html_a4835b48cc96443fbf21660884bac010%20%3D%20%24%28%60%3Cdiv%20id%3D%22html_a4835b48cc96443fbf21660884bac010%22%20style%3D%22width%3A%20100.0%25%3B%20height%3A%20100.0%25%3B%22%3E0%20%20%20%20%20%20%20%20%20East%20Toronto%201%20%20%20%20%20%20%20%20%20East%20Toronto%202%20%20%20%20%20%20%20%20%20East%20Toronto%203%20%20%20%20%20%20%20%20%20East%20Toronto%204%20%20%20%20%20%20Central%20Toronto%205%20%20%20%20%20%20Central%20Toronto%206%20%20%20%20%20%20Central%20Toronto%207%20%20%20%20%20%20Central%20Toronto%208%20%20%20%20%20%20Central%20Toronto%209%20%20%20%20%20%20Central%20Toronto%2010%20%20%20%20Downtown%20Toronto%2011%20%20%20%20Downtown%20Toronto%2012%20%20%20%20Downtown%20Toronto%2013%20%20%20%20Downtown%20Toronto%2014%20%20%20%20Downtown%20Toronto%2015%20%20%20%20Downtown%20Toronto%2016%20%20%20%20Downtown%20Toronto%2017%20%20%20%20Downtown%20Toronto%2018%20%20%20%20Downtown%20Toronto%2019%20%20%20%20Downtown%20Toronto%2020%20%20%20%20Downtown%20Toronto%2021%20%20%20%20Downtown%20Toronto%2022%20%20%20%20%20Central%20Toronto%2023%20%20%20%20%20Central%20Toronto%2024%20%20%20%20%20Central%20Toronto%2025%20%20%20%20Downtown%20Toronto%2026%20%20%20%20Downtown%20Toronto%2027%20%20%20%20Downtown%20Toronto%2028%20%20%20%20Downtown%20Toronto%2029%20%20%20%20Downtown%20Toronto%2030%20%20%20%20Downtown%20Toronto%2031%20%20%20%20%20%20%20%20West%20Toronto%2032%20%20%20%20%20%20%20%20West%20Toronto%2033%20%20%20%20%20%20%20%20West%20Toronto%2034%20%20%20%20%20%20%20%20West%20Toronto%2035%20%20%20%20%20%20%20%20West%20Toronto%2036%20%20%20%20%20%20%20%20West%20Toronto%2037%20%20%20%20Downtown%20Toronto%2038%20%20%20%20%20%20%20%20East%20Toronto%20Name%3A%20Borough%2C%20dtype%3A%20object%20Cluster%202%3C/div%3E%60%29%5B0%5D%3B%0A%20%20%20%20%20%20%20%20%20%20%20%20popup_f14d2dc92d104fb1bfb4fabc3341fef1.setContent%28html_a4835b48cc96443fbf21660884bac010%29%3B%0A%20%20%20%20%20%20%20%20%0A%0A%20%20%20%20%20%20%20%20circle_marker_a6a133527f4a40528d364df57f75de57.bindPopup%28popup_f14d2dc92d104fb1bfb4fabc3341fef1%29%0A%20%20%20%20%20%20%20%20%3B%0A%0A%20%20%20%20%20%20%20%20%0A%20%20%20%20%0A%20%20%20%20%0A%20%20%20%20%20%20%20%20%20%20%20%20var%20circle_marker_107f5f833e7a4715873a43be816ad392%20%3D%20L.circleMarker%28%0A%20%20%20%20%20%20%20%20%20%20%20%20%20%20%20%20%5B43.6969476%2C%20-79.41130720000001%5D%2C%0A%20%20%20%20%20%20%20%20%20%20%20%20%20%20%20%20%7B%22bubblingMouseEvents%22%3A%20true%2C%20%22color%22%3A%20%22%232adddd%22%2C%20%22dashArray%22%3A%20null%2C%20%22dashOffset%22%3A%20null%2C%20%22fill%22%3A%20true%2C%20%22fillColor%22%3A%20%22%232adddd%22%2C%20%22fillOpacity%22%3A%200.7%2C%20%22fillRule%22%3A%20%22evenodd%22%2C%20%22lineCap%22%3A%20%22round%22%2C%20%22lineJoin%22%3A%20%22round%22%2C%20%22opacity%22%3A%201.0%2C%20%22radius%22%3A%204%2C%20%22stroke%22%3A%20true%2C%20%22weight%22%3A%203%7D%0A%20%20%20%20%20%20%20%20%20%20%20%20%29.addTo%28map_4908022add9e4a2bacbd1c81fe60caca%29%3B%0A%20%20%20%20%20%20%20%20%0A%20%20%20%20%0A%20%20%20%20%20%20%20%20var%20popup_e836188cc548440e83a98c49a5a1501c%20%3D%20L.popup%28%7B%22maxWidth%22%3A%20%22100%25%22%7D%29%3B%0A%0A%20%20%20%20%20%20%20%20%0A%20%20%20%20%20%20%20%20%20%20%20%20var%20html_7662831b6b404252ab68ffd78c14f0f3%20%3D%20%24%28%60%3Cdiv%20id%3D%22html_7662831b6b404252ab68ffd78c14f0f3%22%20style%3D%22width%3A%20100.0%25%3B%20height%3A%20100.0%25%3B%22%3E0%20%20%20%20%20%20%20%20%20East%20Toronto%201%20%20%20%20%20%20%20%20%20East%20Toronto%202%20%20%20%20%20%20%20%20%20East%20Toronto%203%20%20%20%20%20%20%20%20%20East%20Toronto%204%20%20%20%20%20%20Central%20Toronto%205%20%20%20%20%20%20Central%20Toronto%206%20%20%20%20%20%20Central%20Toronto%207%20%20%20%20%20%20Central%20Toronto%208%20%20%20%20%20%20Central%20Toronto%209%20%20%20%20%20%20Central%20Toronto%2010%20%20%20%20Downtown%20Toronto%2011%20%20%20%20Downtown%20Toronto%2012%20%20%20%20Downtown%20Toronto%2013%20%20%20%20Downtown%20Toronto%2014%20%20%20%20Downtown%20Toronto%2015%20%20%20%20Downtown%20Toronto%2016%20%20%20%20Downtown%20Toronto%2017%20%20%20%20Downtown%20Toronto%2018%20%20%20%20Downtown%20Toronto%2019%20%20%20%20Downtown%20Toronto%2020%20%20%20%20Downtown%20Toronto%2021%20%20%20%20Downtown%20Toronto%2022%20%20%20%20%20Central%20Toronto%2023%20%20%20%20%20Central%20Toronto%2024%20%20%20%20%20Central%20Toronto%2025%20%20%20%20Downtown%20Toronto%2026%20%20%20%20Downtown%20Toronto%2027%20%20%20%20Downtown%20Toronto%2028%20%20%20%20Downtown%20Toronto%2029%20%20%20%20Downtown%20Toronto%2030%20%20%20%20Downtown%20Toronto%2031%20%20%20%20%20%20%20%20West%20Toronto%2032%20%20%20%20%20%20%20%20West%20Toronto%2033%20%20%20%20%20%20%20%20West%20Toronto%2034%20%20%20%20%20%20%20%20West%20Toronto%2035%20%20%20%20%20%20%20%20West%20Toronto%2036%20%20%20%20%20%20%20%20West%20Toronto%2037%20%20%20%20Downtown%20Toronto%2038%20%20%20%20%20%20%20%20East%20Toronto%20Name%3A%20Borough%2C%20dtype%3A%20object%20Cluster%202%3C/div%3E%60%29%5B0%5D%3B%0A%20%20%20%20%20%20%20%20%20%20%20%20popup_e836188cc548440e83a98c49a5a1501c.setContent%28html_7662831b6b404252ab68ffd78c14f0f3%29%3B%0A%20%20%20%20%20%20%20%20%0A%0A%20%20%20%20%20%20%20%20circle_marker_107f5f833e7a4715873a43be816ad392.bindPopup%28popup_e836188cc548440e83a98c49a5a1501c%29%0A%20%20%20%20%20%20%20%20%3B%0A%0A%20%20%20%20%20%20%20%20%0A%20%20%20%20%0A%20%20%20%20%0A%20%20%20%20%20%20%20%20%20%20%20%20var%20circle_marker_b0202d7d11bc4a64b34eb0940eb32e77%20%3D%20L.circleMarker%28%0A%20%20%20%20%20%20%20%20%20%20%20%20%20%20%20%20%5B43.6727097%2C%20-79.40567840000001%5D%2C%0A%20%20%20%20%20%20%20%20%20%20%20%20%20%20%20%20%7B%22bubblingMouseEvents%22%3A%20true%2C%20%22color%22%3A%20%22%232adddd%22%2C%20%22dashArray%22%3A%20null%2C%20%22dashOffset%22%3A%20null%2C%20%22fill%22%3A%20true%2C%20%22fillColor%22%3A%20%22%232adddd%22%2C%20%22fillOpacity%22%3A%200.7%2C%20%22fillRule%22%3A%20%22evenodd%22%2C%20%22lineCap%22%3A%20%22round%22%2C%20%22lineJoin%22%3A%20%22round%22%2C%20%22opacity%22%3A%201.0%2C%20%22radius%22%3A%204%2C%20%22stroke%22%3A%20true%2C%20%22weight%22%3A%203%7D%0A%20%20%20%20%20%20%20%20%20%20%20%20%29.addTo%28map_4908022add9e4a2bacbd1c81fe60caca%29%3B%0A%20%20%20%20%20%20%20%20%0A%20%20%20%20%0A%20%20%20%20%20%20%20%20var%20popup_1e11e993ee6c466eb65e78e753ac467a%20%3D%20L.popup%28%7B%22maxWidth%22%3A%20%22100%25%22%7D%29%3B%0A%0A%20%20%20%20%20%20%20%20%0A%20%20%20%20%20%20%20%20%20%20%20%20var%20html_07a9bba7a6e7475d9cfb716e897805ff%20%3D%20%24%28%60%3Cdiv%20id%3D%22html_07a9bba7a6e7475d9cfb716e897805ff%22%20style%3D%22width%3A%20100.0%25%3B%20height%3A%20100.0%25%3B%22%3E0%20%20%20%20%20%20%20%20%20East%20Toronto%201%20%20%20%20%20%20%20%20%20East%20Toronto%202%20%20%20%20%20%20%20%20%20East%20Toronto%203%20%20%20%20%20%20%20%20%20East%20Toronto%204%20%20%20%20%20%20Central%20Toronto%205%20%20%20%20%20%20Central%20Toronto%206%20%20%20%20%20%20Central%20Toronto%207%20%20%20%20%20%20Central%20Toronto%208%20%20%20%20%20%20Central%20Toronto%209%20%20%20%20%20%20Central%20Toronto%2010%20%20%20%20Downtown%20Toronto%2011%20%20%20%20Downtown%20Toronto%2012%20%20%20%20Downtown%20Toronto%2013%20%20%20%20Downtown%20Toronto%2014%20%20%20%20Downtown%20Toronto%2015%20%20%20%20Downtown%20Toronto%2016%20%20%20%20Downtown%20Toronto%2017%20%20%20%20Downtown%20Toronto%2018%20%20%20%20Downtown%20Toronto%2019%20%20%20%20Downtown%20Toronto%2020%20%20%20%20Downtown%20Toronto%2021%20%20%20%20Downtown%20Toronto%2022%20%20%20%20%20Central%20Toronto%2023%20%20%20%20%20Central%20Toronto%2024%20%20%20%20%20Central%20Toronto%2025%20%20%20%20Downtown%20Toronto%2026%20%20%20%20Downtown%20Toronto%2027%20%20%20%20Downtown%20Toronto%2028%20%20%20%20Downtown%20Toronto%2029%20%20%20%20Downtown%20Toronto%2030%20%20%20%20Downtown%20Toronto%2031%20%20%20%20%20%20%20%20West%20Toronto%2032%20%20%20%20%20%20%20%20West%20Toronto%2033%20%20%20%20%20%20%20%20West%20Toronto%2034%20%20%20%20%20%20%20%20West%20Toronto%2035%20%20%20%20%20%20%20%20West%20Toronto%2036%20%20%20%20%20%20%20%20West%20Toronto%2037%20%20%20%20Downtown%20Toronto%2038%20%20%20%20%20%20%20%20East%20Toronto%20Name%3A%20Borough%2C%20dtype%3A%20object%20Cluster%202%3C/div%3E%60%29%5B0%5D%3B%0A%20%20%20%20%20%20%20%20%20%20%20%20popup_1e11e993ee6c466eb65e78e753ac467a.setContent%28html_07a9bba7a6e7475d9cfb716e897805ff%29%3B%0A%20%20%20%20%20%20%20%20%0A%0A%20%20%20%20%20%20%20%20circle_marker_b0202d7d11bc4a64b34eb0940eb32e77.bindPopup%28popup_1e11e993ee6c466eb65e78e753ac467a%29%0A%20%20%20%20%20%20%20%20%3B%0A%0A%20%20%20%20%20%20%20%20%0A%20%20%20%20%0A%20%20%20%20%0A%20%20%20%20%20%20%20%20%20%20%20%20var%20circle_marker_4631c4c013184ab2b79d0ae39f0c512c%20%3D%20L.circleMarker%28%0A%20%20%20%20%20%20%20%20%20%20%20%20%20%20%20%20%5B43.6626956%2C%20-79.4000493%5D%2C%0A%20%20%20%20%20%20%20%20%20%20%20%20%20%20%20%20%7B%22bubblingMouseEvents%22%3A%20true%2C%20%22color%22%3A%20%22%238000ff%22%2C%20%22dashArray%22%3A%20null%2C%20%22dashOffset%22%3A%20null%2C%20%22fill%22%3A%20true%2C%20%22fillColor%22%3A%20%22%238000ff%22%2C%20%22fillOpacity%22%3A%200.7%2C%20%22fillRule%22%3A%20%22evenodd%22%2C%20%22lineCap%22%3A%20%22round%22%2C%20%22lineJoin%22%3A%20%22round%22%2C%20%22opacity%22%3A%201.0%2C%20%22radius%22%3A%204%2C%20%22stroke%22%3A%20true%2C%20%22weight%22%3A%203%7D%0A%20%20%20%20%20%20%20%20%20%20%20%20%29.addTo%28map_4908022add9e4a2bacbd1c81fe60caca%29%3B%0A%20%20%20%20%20%20%20%20%0A%20%20%20%20%0A%20%20%20%20%20%20%20%20var%20popup_ee7e3fed2b974351a3431f071a5ee776%20%3D%20L.popup%28%7B%22maxWidth%22%3A%20%22100%25%22%7D%29%3B%0A%0A%20%20%20%20%20%20%20%20%0A%20%20%20%20%20%20%20%20%20%20%20%20var%20html_dbc9412f92bc4abb8fedc25663d57925%20%3D%20%24%28%60%3Cdiv%20id%3D%22html_dbc9412f92bc4abb8fedc25663d57925%22%20style%3D%22width%3A%20100.0%25%3B%20height%3A%20100.0%25%3B%22%3E0%20%20%20%20%20%20%20%20%20East%20Toronto%201%20%20%20%20%20%20%20%20%20East%20Toronto%202%20%20%20%20%20%20%20%20%20East%20Toronto%203%20%20%20%20%20%20%20%20%20East%20Toronto%204%20%20%20%20%20%20Central%20Toronto%205%20%20%20%20%20%20Central%20Toronto%206%20%20%20%20%20%20Central%20Toronto%207%20%20%20%20%20%20Central%20Toronto%208%20%20%20%20%20%20Central%20Toronto%209%20%20%20%20%20%20Central%20Toronto%2010%20%20%20%20Downtown%20Toronto%2011%20%20%20%20Downtown%20Toronto%2012%20%20%20%20Downtown%20Toronto%2013%20%20%20%20Downtown%20Toronto%2014%20%20%20%20Downtown%20Toronto%2015%20%20%20%20Downtown%20Toronto%2016%20%20%20%20Downtown%20Toronto%2017%20%20%20%20Downtown%20Toronto%2018%20%20%20%20Downtown%20Toronto%2019%20%20%20%20Downtown%20Toronto%2020%20%20%20%20Downtown%20Toronto%2021%20%20%20%20Downtown%20Toronto%2022%20%20%20%20%20Central%20Toronto%2023%20%20%20%20%20Central%20Toronto%2024%20%20%20%20%20Central%20Toronto%2025%20%20%20%20Downtown%20Toronto%2026%20%20%20%20Downtown%20Toronto%2027%20%20%20%20Downtown%20Toronto%2028%20%20%20%20Downtown%20Toronto%2029%20%20%20%20Downtown%20Toronto%2030%20%20%20%20Downtown%20Toronto%2031%20%20%20%20%20%20%20%20West%20Toronto%2032%20%20%20%20%20%20%20%20West%20Toronto%2033%20%20%20%20%20%20%20%20West%20Toronto%2034%20%20%20%20%20%20%20%20West%20Toronto%2035%20%20%20%20%20%20%20%20West%20Toronto%2036%20%20%20%20%20%20%20%20West%20Toronto%2037%20%20%20%20Downtown%20Toronto%2038%20%20%20%20%20%20%20%20East%20Toronto%20Name%3A%20Borough%2C%20dtype%3A%20object%20Cluster%201%3C/div%3E%60%29%5B0%5D%3B%0A%20%20%20%20%20%20%20%20%20%20%20%20popup_ee7e3fed2b974351a3431f071a5ee776.setContent%28html_dbc9412f92bc4abb8fedc25663d57925%29%3B%0A%20%20%20%20%20%20%20%20%0A%0A%20%20%20%20%20%20%20%20circle_marker_4631c4c013184ab2b79d0ae39f0c512c.bindPopup%28popup_ee7e3fed2b974351a3431f071a5ee776%29%0A%20%20%20%20%20%20%20%20%3B%0A%0A%20%20%20%20%20%20%20%20%0A%20%20%20%20%0A%20%20%20%20%0A%20%20%20%20%20%20%20%20%20%20%20%20var%20circle_marker_12bf579725854ebfa41609d1e46ba181%20%3D%20L.circleMarker%28%0A%20%20%20%20%20%20%20%20%20%20%20%20%20%20%20%20%5B43.6532057%2C%20-79.4000493%5D%2C%0A%20%20%20%20%20%20%20%20%20%20%20%20%20%20%20%20%7B%22bubblingMouseEvents%22%3A%20true%2C%20%22color%22%3A%20%22%238000ff%22%2C%20%22dashArray%22%3A%20null%2C%20%22dashOffset%22%3A%20null%2C%20%22fill%22%3A%20true%2C%20%22fillColor%22%3A%20%22%238000ff%22%2C%20%22fillOpacity%22%3A%200.7%2C%20%22fillRule%22%3A%20%22evenodd%22%2C%20%22lineCap%22%3A%20%22round%22%2C%20%22lineJoin%22%3A%20%22round%22%2C%20%22opacity%22%3A%201.0%2C%20%22radius%22%3A%204%2C%20%22stroke%22%3A%20true%2C%20%22weight%22%3A%203%7D%0A%20%20%20%20%20%20%20%20%20%20%20%20%29.addTo%28map_4908022add9e4a2bacbd1c81fe60caca%29%3B%0A%20%20%20%20%20%20%20%20%0A%20%20%20%20%0A%20%20%20%20%20%20%20%20var%20popup_5de7fc97205d4eccb99883575d6a5688%20%3D%20L.popup%28%7B%22maxWidth%22%3A%20%22100%25%22%7D%29%3B%0A%0A%20%20%20%20%20%20%20%20%0A%20%20%20%20%20%20%20%20%20%20%20%20var%20html_ab34a8e6a39c47ca8b20420803dc7be4%20%3D%20%24%28%60%3Cdiv%20id%3D%22html_ab34a8e6a39c47ca8b20420803dc7be4%22%20style%3D%22width%3A%20100.0%25%3B%20height%3A%20100.0%25%3B%22%3E0%20%20%20%20%20%20%20%20%20East%20Toronto%201%20%20%20%20%20%20%20%20%20East%20Toronto%202%20%20%20%20%20%20%20%20%20East%20Toronto%203%20%20%20%20%20%20%20%20%20East%20Toronto%204%20%20%20%20%20%20Central%20Toronto%205%20%20%20%20%20%20Central%20Toronto%206%20%20%20%20%20%20Central%20Toronto%207%20%20%20%20%20%20Central%20Toronto%208%20%20%20%20%20%20Central%20Toronto%209%20%20%20%20%20%20Central%20Toronto%2010%20%20%20%20Downtown%20Toronto%2011%20%20%20%20Downtown%20Toronto%2012%20%20%20%20Downtown%20Toronto%2013%20%20%20%20Downtown%20Toronto%2014%20%20%20%20Downtown%20Toronto%2015%20%20%20%20Downtown%20Toronto%2016%20%20%20%20Downtown%20Toronto%2017%20%20%20%20Downtown%20Toronto%2018%20%20%20%20Downtown%20Toronto%2019%20%20%20%20Downtown%20Toronto%2020%20%20%20%20Downtown%20Toronto%2021%20%20%20%20Downtown%20Toronto%2022%20%20%20%20%20Central%20Toronto%2023%20%20%20%20%20Central%20Toronto%2024%20%20%20%20%20Central%20Toronto%2025%20%20%20%20Downtown%20Toronto%2026%20%20%20%20Downtown%20Toronto%2027%20%20%20%20Downtown%20Toronto%2028%20%20%20%20Downtown%20Toronto%2029%20%20%20%20Downtown%20Toronto%2030%20%20%20%20Downtown%20Toronto%2031%20%20%20%20%20%20%20%20West%20Toronto%2032%20%20%20%20%20%20%20%20West%20Toronto%2033%20%20%20%20%20%20%20%20West%20Toronto%2034%20%20%20%20%20%20%20%20West%20Toronto%2035%20%20%20%20%20%20%20%20West%20Toronto%2036%20%20%20%20%20%20%20%20West%20Toronto%2037%20%20%20%20Downtown%20Toronto%2038%20%20%20%20%20%20%20%20East%20Toronto%20Name%3A%20Borough%2C%20dtype%3A%20object%20Cluster%201%3C/div%3E%60%29%5B0%5D%3B%0A%20%20%20%20%20%20%20%20%20%20%20%20popup_5de7fc97205d4eccb99883575d6a5688.setContent%28html_ab34a8e6a39c47ca8b20420803dc7be4%29%3B%0A%20%20%20%20%20%20%20%20%0A%0A%20%20%20%20%20%20%20%20circle_marker_12bf579725854ebfa41609d1e46ba181.bindPopup%28popup_5de7fc97205d4eccb99883575d6a5688%29%0A%20%20%20%20%20%20%20%20%3B%0A%0A%20%20%20%20%20%20%20%20%0A%20%20%20%20%0A%20%20%20%20%0A%20%20%20%20%20%20%20%20%20%20%20%20var%20circle_marker_d901d44604c2443a9d819fe310fe5886%20%3D%20L.circleMarker%28%0A%20%20%20%20%20%20%20%20%20%20%20%20%20%20%20%20%5B43.6289467%2C%20-79.3944199%5D%2C%0A%20%20%20%20%20%20%20%20%20%20%20%20%20%20%20%20%7B%22bubblingMouseEvents%22%3A%20true%2C%20%22color%22%3A%20%22%238000ff%22%2C%20%22dashArray%22%3A%20null%2C%20%22dashOffset%22%3A%20null%2C%20%22fill%22%3A%20true%2C%20%22fillColor%22%3A%20%22%238000ff%22%2C%20%22fillOpacity%22%3A%200.7%2C%20%22fillRule%22%3A%20%22evenodd%22%2C%20%22lineCap%22%3A%20%22round%22%2C%20%22lineJoin%22%3A%20%22round%22%2C%20%22opacity%22%3A%201.0%2C%20%22radius%22%3A%204%2C%20%22stroke%22%3A%20true%2C%20%22weight%22%3A%203%7D%0A%20%20%20%20%20%20%20%20%20%20%20%20%29.addTo%28map_4908022add9e4a2bacbd1c81fe60caca%29%3B%0A%20%20%20%20%20%20%20%20%0A%20%20%20%20%0A%20%20%20%20%20%20%20%20var%20popup_268f0a1958a54527bc97f8f36d056a9c%20%3D%20L.popup%28%7B%22maxWidth%22%3A%20%22100%25%22%7D%29%3B%0A%0A%20%20%20%20%20%20%20%20%0A%20%20%20%20%20%20%20%20%20%20%20%20var%20html_288a7172c1e849e1ab4e2b343b977d3b%20%3D%20%24%28%60%3Cdiv%20id%3D%22html_288a7172c1e849e1ab4e2b343b977d3b%22%20style%3D%22width%3A%20100.0%25%3B%20height%3A%20100.0%25%3B%22%3E0%20%20%20%20%20%20%20%20%20East%20Toronto%201%20%20%20%20%20%20%20%20%20East%20Toronto%202%20%20%20%20%20%20%20%20%20East%20Toronto%203%20%20%20%20%20%20%20%20%20East%20Toronto%204%20%20%20%20%20%20Central%20Toronto%205%20%20%20%20%20%20Central%20Toronto%206%20%20%20%20%20%20Central%20Toronto%207%20%20%20%20%20%20Central%20Toronto%208%20%20%20%20%20%20Central%20Toronto%209%20%20%20%20%20%20Central%20Toronto%2010%20%20%20%20Downtown%20Toronto%2011%20%20%20%20Downtown%20Toronto%2012%20%20%20%20Downtown%20Toronto%2013%20%20%20%20Downtown%20Toronto%2014%20%20%20%20Downtown%20Toronto%2015%20%20%20%20Downtown%20Toronto%2016%20%20%20%20Downtown%20Toronto%2017%20%20%20%20Downtown%20Toronto%2018%20%20%20%20Downtown%20Toronto%2019%20%20%20%20Downtown%20Toronto%2020%20%20%20%20Downtown%20Toronto%2021%20%20%20%20Downtown%20Toronto%2022%20%20%20%20%20Central%20Toronto%2023%20%20%20%20%20Central%20Toronto%2024%20%20%20%20%20Central%20Toronto%2025%20%20%20%20Downtown%20Toronto%2026%20%20%20%20Downtown%20Toronto%2027%20%20%20%20Downtown%20Toronto%2028%20%20%20%20Downtown%20Toronto%2029%20%20%20%20Downtown%20Toronto%2030%20%20%20%20Downtown%20Toronto%2031%20%20%20%20%20%20%20%20West%20Toronto%2032%20%20%20%20%20%20%20%20West%20Toronto%2033%20%20%20%20%20%20%20%20West%20Toronto%2034%20%20%20%20%20%20%20%20West%20Toronto%2035%20%20%20%20%20%20%20%20West%20Toronto%2036%20%20%20%20%20%20%20%20West%20Toronto%2037%20%20%20%20Downtown%20Toronto%2038%20%20%20%20%20%20%20%20East%20Toronto%20Name%3A%20Borough%2C%20dtype%3A%20object%20Cluster%201%3C/div%3E%60%29%5B0%5D%3B%0A%20%20%20%20%20%20%20%20%20%20%20%20popup_268f0a1958a54527bc97f8f36d056a9c.setContent%28html_288a7172c1e849e1ab4e2b343b977d3b%29%3B%0A%20%20%20%20%20%20%20%20%0A%0A%20%20%20%20%20%20%20%20circle_marker_d901d44604c2443a9d819fe310fe5886.bindPopup%28popup_268f0a1958a54527bc97f8f36d056a9c%29%0A%20%20%20%20%20%20%20%20%3B%0A%0A%20%20%20%20%20%20%20%20%0A%20%20%20%20%0A%20%20%20%20%0A%20%20%20%20%20%20%20%20%20%20%20%20var%20circle_marker_309b59aacf3b4e889213104ba4a4861a%20%3D%20L.circleMarker%28%0A%20%20%20%20%20%20%20%20%20%20%20%20%20%20%20%20%5B43.6464352%2C%20-79.37484599999999%5D%2C%0A%20%20%20%20%20%20%20%20%20%20%20%20%20%20%20%20%7B%22bubblingMouseEvents%22%3A%20true%2C%20%22color%22%3A%20%22%238000ff%22%2C%20%22dashArray%22%3A%20null%2C%20%22dashOffset%22%3A%20null%2C%20%22fill%22%3A%20true%2C%20%22fillColor%22%3A%20%22%238000ff%22%2C%20%22fillOpacity%22%3A%200.7%2C%20%22fillRule%22%3A%20%22evenodd%22%2C%20%22lineCap%22%3A%20%22round%22%2C%20%22lineJoin%22%3A%20%22round%22%2C%20%22opacity%22%3A%201.0%2C%20%22radius%22%3A%204%2C%20%22stroke%22%3A%20true%2C%20%22weight%22%3A%203%7D%0A%20%20%20%20%20%20%20%20%20%20%20%20%29.addTo%28map_4908022add9e4a2bacbd1c81fe60caca%29%3B%0A%20%20%20%20%20%20%20%20%0A%20%20%20%20%0A%20%20%20%20%20%20%20%20var%20popup_a92c1f129bcd4a7f9b89aea222b03f9a%20%3D%20L.popup%28%7B%22maxWidth%22%3A%20%22100%25%22%7D%29%3B%0A%0A%20%20%20%20%20%20%20%20%0A%20%20%20%20%20%20%20%20%20%20%20%20var%20html_d55016d092a5400ea9ba525bf738cbfe%20%3D%20%24%28%60%3Cdiv%20id%3D%22html_d55016d092a5400ea9ba525bf738cbfe%22%20style%3D%22width%3A%20100.0%25%3B%20height%3A%20100.0%25%3B%22%3E0%20%20%20%20%20%20%20%20%20East%20Toronto%201%20%20%20%20%20%20%20%20%20East%20Toronto%202%20%20%20%20%20%20%20%20%20East%20Toronto%203%20%20%20%20%20%20%20%20%20East%20Toronto%204%20%20%20%20%20%20Central%20Toronto%205%20%20%20%20%20%20Central%20Toronto%206%20%20%20%20%20%20Central%20Toronto%207%20%20%20%20%20%20Central%20Toronto%208%20%20%20%20%20%20Central%20Toronto%209%20%20%20%20%20%20Central%20Toronto%2010%20%20%20%20Downtown%20Toronto%2011%20%20%20%20Downtown%20Toronto%2012%20%20%20%20Downtown%20Toronto%2013%20%20%20%20Downtown%20Toronto%2014%20%20%20%20Downtown%20Toronto%2015%20%20%20%20Downtown%20Toronto%2016%20%20%20%20Downtown%20Toronto%2017%20%20%20%20Downtown%20Toronto%2018%20%20%20%20Downtown%20Toronto%2019%20%20%20%20Downtown%20Toronto%2020%20%20%20%20Downtown%20Toronto%2021%20%20%20%20Downtown%20Toronto%2022%20%20%20%20%20Central%20Toronto%2023%20%20%20%20%20Central%20Toronto%2024%20%20%20%20%20Central%20Toronto%2025%20%20%20%20Downtown%20Toronto%2026%20%20%20%20Downtown%20Toronto%2027%20%20%20%20Downtown%20Toronto%2028%20%20%20%20Downtown%20Toronto%2029%20%20%20%20Downtown%20Toronto%2030%20%20%20%20Downtown%20Toronto%2031%20%20%20%20%20%20%20%20West%20Toronto%2032%20%20%20%20%20%20%20%20West%20Toronto%2033%20%20%20%20%20%20%20%20West%20Toronto%2034%20%20%20%20%20%20%20%20West%20Toronto%2035%20%20%20%20%20%20%20%20West%20Toronto%2036%20%20%20%20%20%20%20%20West%20Toronto%2037%20%20%20%20Downtown%20Toronto%2038%20%20%20%20%20%20%20%20East%20Toronto%20Name%3A%20Borough%2C%20dtype%3A%20object%20Cluster%201%3C/div%3E%60%29%5B0%5D%3B%0A%20%20%20%20%20%20%20%20%20%20%20%20popup_a92c1f129bcd4a7f9b89aea222b03f9a.setContent%28html_d55016d092a5400ea9ba525bf738cbfe%29%3B%0A%20%20%20%20%20%20%20%20%0A%0A%20%20%20%20%20%20%20%20circle_marker_309b59aacf3b4e889213104ba4a4861a.bindPopup%28popup_a92c1f129bcd4a7f9b89aea222b03f9a%29%0A%20%20%20%20%20%20%20%20%3B%0A%0A%20%20%20%20%20%20%20%20%0A%20%20%20%20%0A%20%20%20%20%0A%20%20%20%20%20%20%20%20%20%20%20%20var%20circle_marker_d890c32f70eb44519842f7ad23670d9e%20%3D%20L.circleMarker%28%0A%20%20%20%20%20%20%20%20%20%20%20%20%20%20%20%20%5B43.6484292%2C%20-79.3822802%5D%2C%0A%20%20%20%20%20%20%20%20%20%20%20%20%20%20%20%20%7B%22bubblingMouseEvents%22%3A%20true%2C%20%22color%22%3A%20%22%238000ff%22%2C%20%22dashArray%22%3A%20null%2C%20%22dashOffset%22%3A%20null%2C%20%22fill%22%3A%20true%2C%20%22fillColor%22%3A%20%22%238000ff%22%2C%20%22fillOpacity%22%3A%200.7%2C%20%22fillRule%22%3A%20%22evenodd%22%2C%20%22lineCap%22%3A%20%22round%22%2C%20%22lineJoin%22%3A%20%22round%22%2C%20%22opacity%22%3A%201.0%2C%20%22radius%22%3A%204%2C%20%22stroke%22%3A%20true%2C%20%22weight%22%3A%203%7D%0A%20%20%20%20%20%20%20%20%20%20%20%20%29.addTo%28map_4908022add9e4a2bacbd1c81fe60caca%29%3B%0A%20%20%20%20%20%20%20%20%0A%20%20%20%20%0A%20%20%20%20%20%20%20%20var%20popup_91de3c708dc64161b5f68b852224792d%20%3D%20L.popup%28%7B%22maxWidth%22%3A%20%22100%25%22%7D%29%3B%0A%0A%20%20%20%20%20%20%20%20%0A%20%20%20%20%20%20%20%20%20%20%20%20var%20html_f45bbe16a8764b1783d431f9a822189b%20%3D%20%24%28%60%3Cdiv%20id%3D%22html_f45bbe16a8764b1783d431f9a822189b%22%20style%3D%22width%3A%20100.0%25%3B%20height%3A%20100.0%25%3B%22%3E0%20%20%20%20%20%20%20%20%20East%20Toronto%201%20%20%20%20%20%20%20%20%20East%20Toronto%202%20%20%20%20%20%20%20%20%20East%20Toronto%203%20%20%20%20%20%20%20%20%20East%20Toronto%204%20%20%20%20%20%20Central%20Toronto%205%20%20%20%20%20%20Central%20Toronto%206%20%20%20%20%20%20Central%20Toronto%207%20%20%20%20%20%20Central%20Toronto%208%20%20%20%20%20%20Central%20Toronto%209%20%20%20%20%20%20Central%20Toronto%2010%20%20%20%20Downtown%20Toronto%2011%20%20%20%20Downtown%20Toronto%2012%20%20%20%20Downtown%20Toronto%2013%20%20%20%20Downtown%20Toronto%2014%20%20%20%20Downtown%20Toronto%2015%20%20%20%20Downtown%20Toronto%2016%20%20%20%20Downtown%20Toronto%2017%20%20%20%20Downtown%20Toronto%2018%20%20%20%20Downtown%20Toronto%2019%20%20%20%20Downtown%20Toronto%2020%20%20%20%20Downtown%20Toronto%2021%20%20%20%20Downtown%20Toronto%2022%20%20%20%20%20Central%20Toronto%2023%20%20%20%20%20Central%20Toronto%2024%20%20%20%20%20Central%20Toronto%2025%20%20%20%20Downtown%20Toronto%2026%20%20%20%20Downtown%20Toronto%2027%20%20%20%20Downtown%20Toronto%2028%20%20%20%20Downtown%20Toronto%2029%20%20%20%20Downtown%20Toronto%2030%20%20%20%20Downtown%20Toronto%2031%20%20%20%20%20%20%20%20West%20Toronto%2032%20%20%20%20%20%20%20%20West%20Toronto%2033%20%20%20%20%20%20%20%20West%20Toronto%2034%20%20%20%20%20%20%20%20West%20Toronto%2035%20%20%20%20%20%20%20%20West%20Toronto%2036%20%20%20%20%20%20%20%20West%20Toronto%2037%20%20%20%20Downtown%20Toronto%2038%20%20%20%20%20%20%20%20East%20Toronto%20Name%3A%20Borough%2C%20dtype%3A%20object%20Cluster%201%3C/div%3E%60%29%5B0%5D%3B%0A%20%20%20%20%20%20%20%20%20%20%20%20popup_91de3c708dc64161b5f68b852224792d.setContent%28html_f45bbe16a8764b1783d431f9a822189b%29%3B%0A%20%20%20%20%20%20%20%20%0A%0A%20%20%20%20%20%20%20%20circle_marker_d890c32f70eb44519842f7ad23670d9e.bindPopup%28popup_91de3c708dc64161b5f68b852224792d%29%0A%20%20%20%20%20%20%20%20%3B%0A%0A%20%20%20%20%20%20%20%20%0A%20%20%20%20%0A%20%20%20%20%0A%20%20%20%20%20%20%20%20%20%20%20%20var%20circle_marker_fad83d7aa25142459e67607d0209fe8b%20%3D%20L.circleMarker%28%0A%20%20%20%20%20%20%20%20%20%20%20%20%20%20%20%20%5B43.669542%2C%20-79.4225637%5D%2C%0A%20%20%20%20%20%20%20%20%20%20%20%20%20%20%20%20%7B%22bubblingMouseEvents%22%3A%20true%2C%20%22color%22%3A%20%22%238000ff%22%2C%20%22dashArray%22%3A%20null%2C%20%22dashOffset%22%3A%20null%2C%20%22fill%22%3A%20true%2C%20%22fillColor%22%3A%20%22%238000ff%22%2C%20%22fillOpacity%22%3A%200.7%2C%20%22fillRule%22%3A%20%22evenodd%22%2C%20%22lineCap%22%3A%20%22round%22%2C%20%22lineJoin%22%3A%20%22round%22%2C%20%22opacity%22%3A%201.0%2C%20%22radius%22%3A%204%2C%20%22stroke%22%3A%20true%2C%20%22weight%22%3A%203%7D%0A%20%20%20%20%20%20%20%20%20%20%20%20%29.addTo%28map_4908022add9e4a2bacbd1c81fe60caca%29%3B%0A%20%20%20%20%20%20%20%20%0A%20%20%20%20%0A%20%20%20%20%20%20%20%20var%20popup_7a14c3ba7ddd4dae9a703cf3b533bb74%20%3D%20L.popup%28%7B%22maxWidth%22%3A%20%22100%25%22%7D%29%3B%0A%0A%20%20%20%20%20%20%20%20%0A%20%20%20%20%20%20%20%20%20%20%20%20var%20html_42b15eb014384773aca866d39638a8bb%20%3D%20%24%28%60%3Cdiv%20id%3D%22html_42b15eb014384773aca866d39638a8bb%22%20style%3D%22width%3A%20100.0%25%3B%20height%3A%20100.0%25%3B%22%3E0%20%20%20%20%20%20%20%20%20East%20Toronto%201%20%20%20%20%20%20%20%20%20East%20Toronto%202%20%20%20%20%20%20%20%20%20East%20Toronto%203%20%20%20%20%20%20%20%20%20East%20Toronto%204%20%20%20%20%20%20Central%20Toronto%205%20%20%20%20%20%20Central%20Toronto%206%20%20%20%20%20%20Central%20Toronto%207%20%20%20%20%20%20Central%20Toronto%208%20%20%20%20%20%20Central%20Toronto%209%20%20%20%20%20%20Central%20Toronto%2010%20%20%20%20Downtown%20Toronto%2011%20%20%20%20Downtown%20Toronto%2012%20%20%20%20Downtown%20Toronto%2013%20%20%20%20Downtown%20Toronto%2014%20%20%20%20Downtown%20Toronto%2015%20%20%20%20Downtown%20Toronto%2016%20%20%20%20Downtown%20Toronto%2017%20%20%20%20Downtown%20Toronto%2018%20%20%20%20Downtown%20Toronto%2019%20%20%20%20Downtown%20Toronto%2020%20%20%20%20Downtown%20Toronto%2021%20%20%20%20Downtown%20Toronto%2022%20%20%20%20%20Central%20Toronto%2023%20%20%20%20%20Central%20Toronto%2024%20%20%20%20%20Central%20Toronto%2025%20%20%20%20Downtown%20Toronto%2026%20%20%20%20Downtown%20Toronto%2027%20%20%20%20Downtown%20Toronto%2028%20%20%20%20Downtown%20Toronto%2029%20%20%20%20Downtown%20Toronto%2030%20%20%20%20Downtown%20Toronto%2031%20%20%20%20%20%20%20%20West%20Toronto%2032%20%20%20%20%20%20%20%20West%20Toronto%2033%20%20%20%20%20%20%20%20West%20Toronto%2034%20%20%20%20%20%20%20%20West%20Toronto%2035%20%20%20%20%20%20%20%20West%20Toronto%2036%20%20%20%20%20%20%20%20West%20Toronto%2037%20%20%20%20Downtown%20Toronto%2038%20%20%20%20%20%20%20%20East%20Toronto%20Name%3A%20Borough%2C%20dtype%3A%20object%20Cluster%201%3C/div%3E%60%29%5B0%5D%3B%0A%20%20%20%20%20%20%20%20%20%20%20%20popup_7a14c3ba7ddd4dae9a703cf3b533bb74.setContent%28html_42b15eb014384773aca866d39638a8bb%29%3B%0A%20%20%20%20%20%20%20%20%0A%0A%20%20%20%20%20%20%20%20circle_marker_fad83d7aa25142459e67607d0209fe8b.bindPopup%28popup_7a14c3ba7ddd4dae9a703cf3b533bb74%29%0A%20%20%20%20%20%20%20%20%3B%0A%0A%20%20%20%20%20%20%20%20%0A%20%20%20%20%0A%20%20%20%20%0A%20%20%20%20%20%20%20%20%20%20%20%20var%20circle_marker_f64402bdc5d64b058a87cad16947929b%20%3D%20L.circleMarker%28%0A%20%20%20%20%20%20%20%20%20%20%20%20%20%20%20%20%5B43.66900510000001%2C%20-79.4422593%5D%2C%0A%20%20%20%20%20%20%20%20%20%20%20%20%20%20%20%20%7B%22bubblingMouseEvents%22%3A%20true%2C%20%22color%22%3A%20%22%23d4dd80%22%2C%20%22dashArray%22%3A%20null%2C%20%22dashOffset%22%3A%20null%2C%20%22fill%22%3A%20true%2C%20%22fillColor%22%3A%20%22%23d4dd80%22%2C%20%22fillOpacity%22%3A%200.7%2C%20%22fillRule%22%3A%20%22evenodd%22%2C%20%22lineCap%22%3A%20%22round%22%2C%20%22lineJoin%22%3A%20%22round%22%2C%20%22opacity%22%3A%201.0%2C%20%22radius%22%3A%204%2C%20%22stroke%22%3A%20true%2C%20%22weight%22%3A%203%7D%0A%20%20%20%20%20%20%20%20%20%20%20%20%29.addTo%28map_4908022add9e4a2bacbd1c81fe60caca%29%3B%0A%20%20%20%20%20%20%20%20%0A%20%20%20%20%0A%20%20%20%20%20%20%20%20var%20popup_e228d1f2243443bebfc0f95e41cdfb4f%20%3D%20L.popup%28%7B%22maxWidth%22%3A%20%22100%25%22%7D%29%3B%0A%0A%20%20%20%20%20%20%20%20%0A%20%20%20%20%20%20%20%20%20%20%20%20var%20html_5379930395bc40fa8c0b5215cae9c004%20%3D%20%24%28%60%3Cdiv%20id%3D%22html_5379930395bc40fa8c0b5215cae9c004%22%20style%3D%22width%3A%20100.0%25%3B%20height%3A%20100.0%25%3B%22%3E0%20%20%20%20%20%20%20%20%20East%20Toronto%201%20%20%20%20%20%20%20%20%20East%20Toronto%202%20%20%20%20%20%20%20%20%20East%20Toronto%203%20%20%20%20%20%20%20%20%20East%20Toronto%204%20%20%20%20%20%20Central%20Toronto%205%20%20%20%20%20%20Central%20Toronto%206%20%20%20%20%20%20Central%20Toronto%207%20%20%20%20%20%20Central%20Toronto%208%20%20%20%20%20%20Central%20Toronto%209%20%20%20%20%20%20Central%20Toronto%2010%20%20%20%20Downtown%20Toronto%2011%20%20%20%20Downtown%20Toronto%2012%20%20%20%20Downtown%20Toronto%2013%20%20%20%20Downtown%20Toronto%2014%20%20%20%20Downtown%20Toronto%2015%20%20%20%20Downtown%20Toronto%2016%20%20%20%20Downtown%20Toronto%2017%20%20%20%20Downtown%20Toronto%2018%20%20%20%20Downtown%20Toronto%2019%20%20%20%20Downtown%20Toronto%2020%20%20%20%20Downtown%20Toronto%2021%20%20%20%20Downtown%20Toronto%2022%20%20%20%20%20Central%20Toronto%2023%20%20%20%20%20Central%20Toronto%2024%20%20%20%20%20Central%20Toronto%2025%20%20%20%20Downtown%20Toronto%2026%20%20%20%20Downtown%20Toronto%2027%20%20%20%20Downtown%20Toronto%2028%20%20%20%20Downtown%20Toronto%2029%20%20%20%20Downtown%20Toronto%2030%20%20%20%20Downtown%20Toronto%2031%20%20%20%20%20%20%20%20West%20Toronto%2032%20%20%20%20%20%20%20%20West%20Toronto%2033%20%20%20%20%20%20%20%20West%20Toronto%2034%20%20%20%20%20%20%20%20West%20Toronto%2035%20%20%20%20%20%20%20%20West%20Toronto%2036%20%20%20%20%20%20%20%20West%20Toronto%2037%20%20%20%20Downtown%20Toronto%2038%20%20%20%20%20%20%20%20East%20Toronto%20Name%3A%20Borough%2C%20dtype%3A%20object%20Cluster%203%3C/div%3E%60%29%5B0%5D%3B%0A%20%20%20%20%20%20%20%20%20%20%20%20popup_e228d1f2243443bebfc0f95e41cdfb4f.setContent%28html_5379930395bc40fa8c0b5215cae9c004%29%3B%0A%20%20%20%20%20%20%20%20%0A%0A%20%20%20%20%20%20%20%20circle_marker_f64402bdc5d64b058a87cad16947929b.bindPopup%28popup_e228d1f2243443bebfc0f95e41cdfb4f%29%0A%20%20%20%20%20%20%20%20%3B%0A%0A%20%20%20%20%20%20%20%20%0A%20%20%20%20%0A%20%20%20%20%0A%20%20%20%20%20%20%20%20%20%20%20%20var%20circle_marker_c05404f0d096495dab781ce2f05da6fd%20%3D%20L.circleMarker%28%0A%20%20%20%20%20%20%20%20%20%20%20%20%20%20%20%20%5B43.647926700000006%2C%20-79.4197497%5D%2C%0A%20%20%20%20%20%20%20%20%20%20%20%20%20%20%20%20%7B%22bubblingMouseEvents%22%3A%20true%2C%20%22color%22%3A%20%22%23d4dd80%22%2C%20%22dashArray%22%3A%20null%2C%20%22dashOffset%22%3A%20null%2C%20%22fill%22%3A%20true%2C%20%22fillColor%22%3A%20%22%23d4dd80%22%2C%20%22fillOpacity%22%3A%200.7%2C%20%22fillRule%22%3A%20%22evenodd%22%2C%20%22lineCap%22%3A%20%22round%22%2C%20%22lineJoin%22%3A%20%22round%22%2C%20%22opacity%22%3A%201.0%2C%20%22radius%22%3A%204%2C%20%22stroke%22%3A%20true%2C%20%22weight%22%3A%203%7D%0A%20%20%20%20%20%20%20%20%20%20%20%20%29.addTo%28map_4908022add9e4a2bacbd1c81fe60caca%29%3B%0A%20%20%20%20%20%20%20%20%0A%20%20%20%20%0A%20%20%20%20%20%20%20%20var%20popup_5015faa1ced84197ab06c1441a68b529%20%3D%20L.popup%28%7B%22maxWidth%22%3A%20%22100%25%22%7D%29%3B%0A%0A%20%20%20%20%20%20%20%20%0A%20%20%20%20%20%20%20%20%20%20%20%20var%20html_a7f97e161c6543998ab181a2a2f81fb9%20%3D%20%24%28%60%3Cdiv%20id%3D%22html_a7f97e161c6543998ab181a2a2f81fb9%22%20style%3D%22width%3A%20100.0%25%3B%20height%3A%20100.0%25%3B%22%3E0%20%20%20%20%20%20%20%20%20East%20Toronto%201%20%20%20%20%20%20%20%20%20East%20Toronto%202%20%20%20%20%20%20%20%20%20East%20Toronto%203%20%20%20%20%20%20%20%20%20East%20Toronto%204%20%20%20%20%20%20Central%20Toronto%205%20%20%20%20%20%20Central%20Toronto%206%20%20%20%20%20%20Central%20Toronto%207%20%20%20%20%20%20Central%20Toronto%208%20%20%20%20%20%20Central%20Toronto%209%20%20%20%20%20%20Central%20Toronto%2010%20%20%20%20Downtown%20Toronto%2011%20%20%20%20Downtown%20Toronto%2012%20%20%20%20Downtown%20Toronto%2013%20%20%20%20Downtown%20Toronto%2014%20%20%20%20Downtown%20Toronto%2015%20%20%20%20Downtown%20Toronto%2016%20%20%20%20Downtown%20Toronto%2017%20%20%20%20Downtown%20Toronto%2018%20%20%20%20Downtown%20Toronto%2019%20%20%20%20Downtown%20Toronto%2020%20%20%20%20Downtown%20Toronto%2021%20%20%20%20Downtown%20Toronto%2022%20%20%20%20%20Central%20Toronto%2023%20%20%20%20%20Central%20Toronto%2024%20%20%20%20%20Central%20Toronto%2025%20%20%20%20Downtown%20Toronto%2026%20%20%20%20Downtown%20Toronto%2027%20%20%20%20Downtown%20Toronto%2028%20%20%20%20Downtown%20Toronto%2029%20%20%20%20Downtown%20Toronto%2030%20%20%20%20Downtown%20Toronto%2031%20%20%20%20%20%20%20%20West%20Toronto%2032%20%20%20%20%20%20%20%20West%20Toronto%2033%20%20%20%20%20%20%20%20West%20Toronto%2034%20%20%20%20%20%20%20%20West%20Toronto%2035%20%20%20%20%20%20%20%20West%20Toronto%2036%20%20%20%20%20%20%20%20West%20Toronto%2037%20%20%20%20Downtown%20Toronto%2038%20%20%20%20%20%20%20%20East%20Toronto%20Name%3A%20Borough%2C%20dtype%3A%20object%20Cluster%203%3C/div%3E%60%29%5B0%5D%3B%0A%20%20%20%20%20%20%20%20%20%20%20%20popup_5015faa1ced84197ab06c1441a68b529.setContent%28html_a7f97e161c6543998ab181a2a2f81fb9%29%3B%0A%20%20%20%20%20%20%20%20%0A%0A%20%20%20%20%20%20%20%20circle_marker_c05404f0d096495dab781ce2f05da6fd.bindPopup%28popup_5015faa1ced84197ab06c1441a68b529%29%0A%20%20%20%20%20%20%20%20%3B%0A%0A%20%20%20%20%20%20%20%20%0A%20%20%20%20%0A%20%20%20%20%0A%20%20%20%20%20%20%20%20%20%20%20%20var%20circle_marker_c4d04ea765b44f5181c37b6c3f481487%20%3D%20L.circleMarker%28%0A%20%20%20%20%20%20%20%20%20%20%20%20%20%20%20%20%5B43.6368472%2C%20-79.42819140000002%5D%2C%0A%20%20%20%20%20%20%20%20%20%20%20%20%20%20%20%20%7B%22bubblingMouseEvents%22%3A%20true%2C%20%22color%22%3A%20%22%23d4dd80%22%2C%20%22dashArray%22%3A%20null%2C%20%22dashOffset%22%3A%20null%2C%20%22fill%22%3A%20true%2C%20%22fillColor%22%3A%20%22%23d4dd80%22%2C%20%22fillOpacity%22%3A%200.7%2C%20%22fillRule%22%3A%20%22evenodd%22%2C%20%22lineCap%22%3A%20%22round%22%2C%20%22lineJoin%22%3A%20%22round%22%2C%20%22opacity%22%3A%201.0%2C%20%22radius%22%3A%204%2C%20%22stroke%22%3A%20true%2C%20%22weight%22%3A%203%7D%0A%20%20%20%20%20%20%20%20%20%20%20%20%29.addTo%28map_4908022add9e4a2bacbd1c81fe60caca%29%3B%0A%20%20%20%20%20%20%20%20%0A%20%20%20%20%0A%20%20%20%20%20%20%20%20var%20popup_af8e39fba462496f9b52e283284a0ee4%20%3D%20L.popup%28%7B%22maxWidth%22%3A%20%22100%25%22%7D%29%3B%0A%0A%20%20%20%20%20%20%20%20%0A%20%20%20%20%20%20%20%20%20%20%20%20var%20html_93a13250e0e24a2d9b8a90f80485147c%20%3D%20%24%28%60%3Cdiv%20id%3D%22html_93a13250e0e24a2d9b8a90f80485147c%22%20style%3D%22width%3A%20100.0%25%3B%20height%3A%20100.0%25%3B%22%3E0%20%20%20%20%20%20%20%20%20East%20Toronto%201%20%20%20%20%20%20%20%20%20East%20Toronto%202%20%20%20%20%20%20%20%20%20East%20Toronto%203%20%20%20%20%20%20%20%20%20East%20Toronto%204%20%20%20%20%20%20Central%20Toronto%205%20%20%20%20%20%20Central%20Toronto%206%20%20%20%20%20%20Central%20Toronto%207%20%20%20%20%20%20Central%20Toronto%208%20%20%20%20%20%20Central%20Toronto%209%20%20%20%20%20%20Central%20Toronto%2010%20%20%20%20Downtown%20Toronto%2011%20%20%20%20Downtown%20Toronto%2012%20%20%20%20Downtown%20Toronto%2013%20%20%20%20Downtown%20Toronto%2014%20%20%20%20Downtown%20Toronto%2015%20%20%20%20Downtown%20Toronto%2016%20%20%20%20Downtown%20Toronto%2017%20%20%20%20Downtown%20Toronto%2018%20%20%20%20Downtown%20Toronto%2019%20%20%20%20Downtown%20Toronto%2020%20%20%20%20Downtown%20Toronto%2021%20%20%20%20Downtown%20Toronto%2022%20%20%20%20%20Central%20Toronto%2023%20%20%20%20%20Central%20Toronto%2024%20%20%20%20%20Central%20Toronto%2025%20%20%20%20Downtown%20Toronto%2026%20%20%20%20Downtown%20Toronto%2027%20%20%20%20Downtown%20Toronto%2028%20%20%20%20Downtown%20Toronto%2029%20%20%20%20Downtown%20Toronto%2030%20%20%20%20Downtown%20Toronto%2031%20%20%20%20%20%20%20%20West%20Toronto%2032%20%20%20%20%20%20%20%20West%20Toronto%2033%20%20%20%20%20%20%20%20West%20Toronto%2034%20%20%20%20%20%20%20%20West%20Toronto%2035%20%20%20%20%20%20%20%20West%20Toronto%2036%20%20%20%20%20%20%20%20West%20Toronto%2037%20%20%20%20Downtown%20Toronto%2038%20%20%20%20%20%20%20%20East%20Toronto%20Name%3A%20Borough%2C%20dtype%3A%20object%20Cluster%203%3C/div%3E%60%29%5B0%5D%3B%0A%20%20%20%20%20%20%20%20%20%20%20%20popup_af8e39fba462496f9b52e283284a0ee4.setContent%28html_93a13250e0e24a2d9b8a90f80485147c%29%3B%0A%20%20%20%20%20%20%20%20%0A%0A%20%20%20%20%20%20%20%20circle_marker_c4d04ea765b44f5181c37b6c3f481487.bindPopup%28popup_af8e39fba462496f9b52e283284a0ee4%29%0A%20%20%20%20%20%20%20%20%3B%0A%0A%20%20%20%20%20%20%20%20%0A%20%20%20%20%0A%20%20%20%20%0A%20%20%20%20%20%20%20%20%20%20%20%20var%20circle_marker_0c9703c3ac944562a31a1a4ef328c114%20%3D%20L.circleMarker%28%0A%20%20%20%20%20%20%20%20%20%20%20%20%20%20%20%20%5B43.6616083%2C%20-79.46476329999999%5D%2C%0A%20%20%20%20%20%20%20%20%20%20%20%20%20%20%20%20%7B%22bubblingMouseEvents%22%3A%20true%2C%20%22color%22%3A%20%22%23d4dd80%22%2C%20%22dashArray%22%3A%20null%2C%20%22dashOffset%22%3A%20null%2C%20%22fill%22%3A%20true%2C%20%22fillColor%22%3A%20%22%23d4dd80%22%2C%20%22fillOpacity%22%3A%200.7%2C%20%22fillRule%22%3A%20%22evenodd%22%2C%20%22lineCap%22%3A%20%22round%22%2C%20%22lineJoin%22%3A%20%22round%22%2C%20%22opacity%22%3A%201.0%2C%20%22radius%22%3A%204%2C%20%22stroke%22%3A%20true%2C%20%22weight%22%3A%203%7D%0A%20%20%20%20%20%20%20%20%20%20%20%20%29.addTo%28map_4908022add9e4a2bacbd1c81fe60caca%29%3B%0A%20%20%20%20%20%20%20%20%0A%20%20%20%20%0A%20%20%20%20%20%20%20%20var%20popup_263b0aa0ae654250bdd71172de743ee2%20%3D%20L.popup%28%7B%22maxWidth%22%3A%20%22100%25%22%7D%29%3B%0A%0A%20%20%20%20%20%20%20%20%0A%20%20%20%20%20%20%20%20%20%20%20%20var%20html_81a1ed8ae4f446629842bc8d616d46e5%20%3D%20%24%28%60%3Cdiv%20id%3D%22html_81a1ed8ae4f446629842bc8d616d46e5%22%20style%3D%22width%3A%20100.0%25%3B%20height%3A%20100.0%25%3B%22%3E0%20%20%20%20%20%20%20%20%20East%20Toronto%201%20%20%20%20%20%20%20%20%20East%20Toronto%202%20%20%20%20%20%20%20%20%20East%20Toronto%203%20%20%20%20%20%20%20%20%20East%20Toronto%204%20%20%20%20%20%20Central%20Toronto%205%20%20%20%20%20%20Central%20Toronto%206%20%20%20%20%20%20Central%20Toronto%207%20%20%20%20%20%20Central%20Toronto%208%20%20%20%20%20%20Central%20Toronto%209%20%20%20%20%20%20Central%20Toronto%2010%20%20%20%20Downtown%20Toronto%2011%20%20%20%20Downtown%20Toronto%2012%20%20%20%20Downtown%20Toronto%2013%20%20%20%20Downtown%20Toronto%2014%20%20%20%20Downtown%20Toronto%2015%20%20%20%20Downtown%20Toronto%2016%20%20%20%20Downtown%20Toronto%2017%20%20%20%20Downtown%20Toronto%2018%20%20%20%20Downtown%20Toronto%2019%20%20%20%20Downtown%20Toronto%2020%20%20%20%20Downtown%20Toronto%2021%20%20%20%20Downtown%20Toronto%2022%20%20%20%20%20Central%20Toronto%2023%20%20%20%20%20Central%20Toronto%2024%20%20%20%20%20Central%20Toronto%2025%20%20%20%20Downtown%20Toronto%2026%20%20%20%20Downtown%20Toronto%2027%20%20%20%20Downtown%20Toronto%2028%20%20%20%20Downtown%20Toronto%2029%20%20%20%20Downtown%20Toronto%2030%20%20%20%20Downtown%20Toronto%2031%20%20%20%20%20%20%20%20West%20Toronto%2032%20%20%20%20%20%20%20%20West%20Toronto%2033%20%20%20%20%20%20%20%20West%20Toronto%2034%20%20%20%20%20%20%20%20West%20Toronto%2035%20%20%20%20%20%20%20%20West%20Toronto%2036%20%20%20%20%20%20%20%20West%20Toronto%2037%20%20%20%20Downtown%20Toronto%2038%20%20%20%20%20%20%20%20East%20Toronto%20Name%3A%20Borough%2C%20dtype%3A%20object%20Cluster%203%3C/div%3E%60%29%5B0%5D%3B%0A%20%20%20%20%20%20%20%20%20%20%20%20popup_263b0aa0ae654250bdd71172de743ee2.setContent%28html_81a1ed8ae4f446629842bc8d616d46e5%29%3B%0A%20%20%20%20%20%20%20%20%0A%0A%20%20%20%20%20%20%20%20circle_marker_0c9703c3ac944562a31a1a4ef328c114.bindPopup%28popup_263b0aa0ae654250bdd71172de743ee2%29%0A%20%20%20%20%20%20%20%20%3B%0A%0A%20%20%20%20%20%20%20%20%0A%20%20%20%20%0A%20%20%20%20%0A%20%20%20%20%20%20%20%20%20%20%20%20var%20circle_marker_a089fdbdbc744ce4af5bdd1164630d56%20%3D%20L.circleMarker%28%0A%20%20%20%20%20%20%20%20%20%20%20%20%20%20%20%20%5B43.6489597%2C%20-79.456325%5D%2C%0A%20%20%20%20%20%20%20%20%20%20%20%20%20%20%20%20%7B%22bubblingMouseEvents%22%3A%20true%2C%20%22color%22%3A%20%22%23d4dd80%22%2C%20%22dashArray%22%3A%20null%2C%20%22dashOffset%22%3A%20null%2C%20%22fill%22%3A%20true%2C%20%22fillColor%22%3A%20%22%23d4dd80%22%2C%20%22fillOpacity%22%3A%200.7%2C%20%22fillRule%22%3A%20%22evenodd%22%2C%20%22lineCap%22%3A%20%22round%22%2C%20%22lineJoin%22%3A%20%22round%22%2C%20%22opacity%22%3A%201.0%2C%20%22radius%22%3A%204%2C%20%22stroke%22%3A%20true%2C%20%22weight%22%3A%203%7D%0A%20%20%20%20%20%20%20%20%20%20%20%20%29.addTo%28map_4908022add9e4a2bacbd1c81fe60caca%29%3B%0A%20%20%20%20%20%20%20%20%0A%20%20%20%20%0A%20%20%20%20%20%20%20%20var%20popup_e66a977b0cfe4a86bfc5d0784f51747d%20%3D%20L.popup%28%7B%22maxWidth%22%3A%20%22100%25%22%7D%29%3B%0A%0A%20%20%20%20%20%20%20%20%0A%20%20%20%20%20%20%20%20%20%20%20%20var%20html_ac16d414973447be9dfaee749a52fed6%20%3D%20%24%28%60%3Cdiv%20id%3D%22html_ac16d414973447be9dfaee749a52fed6%22%20style%3D%22width%3A%20100.0%25%3B%20height%3A%20100.0%25%3B%22%3E0%20%20%20%20%20%20%20%20%20East%20Toronto%201%20%20%20%20%20%20%20%20%20East%20Toronto%202%20%20%20%20%20%20%20%20%20East%20Toronto%203%20%20%20%20%20%20%20%20%20East%20Toronto%204%20%20%20%20%20%20Central%20Toronto%205%20%20%20%20%20%20Central%20Toronto%206%20%20%20%20%20%20Central%20Toronto%207%20%20%20%20%20%20Central%20Toronto%208%20%20%20%20%20%20Central%20Toronto%209%20%20%20%20%20%20Central%20Toronto%2010%20%20%20%20Downtown%20Toronto%2011%20%20%20%20Downtown%20Toronto%2012%20%20%20%20Downtown%20Toronto%2013%20%20%20%20Downtown%20Toronto%2014%20%20%20%20Downtown%20Toronto%2015%20%20%20%20Downtown%20Toronto%2016%20%20%20%20Downtown%20Toronto%2017%20%20%20%20Downtown%20Toronto%2018%20%20%20%20Downtown%20Toronto%2019%20%20%20%20Downtown%20Toronto%2020%20%20%20%20Downtown%20Toronto%2021%20%20%20%20Downtown%20Toronto%2022%20%20%20%20%20Central%20Toronto%2023%20%20%20%20%20Central%20Toronto%2024%20%20%20%20%20Central%20Toronto%2025%20%20%20%20Downtown%20Toronto%2026%20%20%20%20Downtown%20Toronto%2027%20%20%20%20Downtown%20Toronto%2028%20%20%20%20Downtown%20Toronto%2029%20%20%20%20Downtown%20Toronto%2030%20%20%20%20Downtown%20Toronto%2031%20%20%20%20%20%20%20%20West%20Toronto%2032%20%20%20%20%20%20%20%20West%20Toronto%2033%20%20%20%20%20%20%20%20West%20Toronto%2034%20%20%20%20%20%20%20%20West%20Toronto%2035%20%20%20%20%20%20%20%20West%20Toronto%2036%20%20%20%20%20%20%20%20West%20Toronto%2037%20%20%20%20Downtown%20Toronto%2038%20%20%20%20%20%20%20%20East%20Toronto%20Name%3A%20Borough%2C%20dtype%3A%20object%20Cluster%203%3C/div%3E%60%29%5B0%5D%3B%0A%20%20%20%20%20%20%20%20%20%20%20%20popup_e66a977b0cfe4a86bfc5d0784f51747d.setContent%28html_ac16d414973447be9dfaee749a52fed6%29%3B%0A%20%20%20%20%20%20%20%20%0A%0A%20%20%20%20%20%20%20%20circle_marker_a089fdbdbc744ce4af5bdd1164630d56.bindPopup%28popup_e66a977b0cfe4a86bfc5d0784f51747d%29%0A%20%20%20%20%20%20%20%20%3B%0A%0A%20%20%20%20%20%20%20%20%0A%20%20%20%20%0A%20%20%20%20%0A%20%20%20%20%20%20%20%20%20%20%20%20var%20circle_marker_167162ef6c9341768155a09a313ffd4b%20%3D%20L.circleMarker%28%0A%20%20%20%20%20%20%20%20%20%20%20%20%20%20%20%20%5B43.6515706%2C%20-79.4844499%5D%2C%0A%20%20%20%20%20%20%20%20%20%20%20%20%20%20%20%20%7B%22bubblingMouseEvents%22%3A%20true%2C%20%22color%22%3A%20%22%23d4dd80%22%2C%20%22dashArray%22%3A%20null%2C%20%22dashOffset%22%3A%20null%2C%20%22fill%22%3A%20true%2C%20%22fillColor%22%3A%20%22%23d4dd80%22%2C%20%22fillOpacity%22%3A%200.7%2C%20%22fillRule%22%3A%20%22evenodd%22%2C%20%22lineCap%22%3A%20%22round%22%2C%20%22lineJoin%22%3A%20%22round%22%2C%20%22opacity%22%3A%201.0%2C%20%22radius%22%3A%204%2C%20%22stroke%22%3A%20true%2C%20%22weight%22%3A%203%7D%0A%20%20%20%20%20%20%20%20%20%20%20%20%29.addTo%28map_4908022add9e4a2bacbd1c81fe60caca%29%3B%0A%20%20%20%20%20%20%20%20%0A%20%20%20%20%0A%20%20%20%20%20%20%20%20var%20popup_f95b5cbda6654b36a65285ecba43853a%20%3D%20L.popup%28%7B%22maxWidth%22%3A%20%22100%25%22%7D%29%3B%0A%0A%20%20%20%20%20%20%20%20%0A%20%20%20%20%20%20%20%20%20%20%20%20var%20html_38a3549ac5d74463b2fcb7230b26c8e5%20%3D%20%24%28%60%3Cdiv%20id%3D%22html_38a3549ac5d74463b2fcb7230b26c8e5%22%20style%3D%22width%3A%20100.0%25%3B%20height%3A%20100.0%25%3B%22%3E0%20%20%20%20%20%20%20%20%20East%20Toronto%201%20%20%20%20%20%20%20%20%20East%20Toronto%202%20%20%20%20%20%20%20%20%20East%20Toronto%203%20%20%20%20%20%20%20%20%20East%20Toronto%204%20%20%20%20%20%20Central%20Toronto%205%20%20%20%20%20%20Central%20Toronto%206%20%20%20%20%20%20Central%20Toronto%207%20%20%20%20%20%20Central%20Toronto%208%20%20%20%20%20%20Central%20Toronto%209%20%20%20%20%20%20Central%20Toronto%2010%20%20%20%20Downtown%20Toronto%2011%20%20%20%20Downtown%20Toronto%2012%20%20%20%20Downtown%20Toronto%2013%20%20%20%20Downtown%20Toronto%2014%20%20%20%20Downtown%20Toronto%2015%20%20%20%20Downtown%20Toronto%2016%20%20%20%20Downtown%20Toronto%2017%20%20%20%20Downtown%20Toronto%2018%20%20%20%20Downtown%20Toronto%2019%20%20%20%20Downtown%20Toronto%2020%20%20%20%20Downtown%20Toronto%2021%20%20%20%20Downtown%20Toronto%2022%20%20%20%20%20Central%20Toronto%2023%20%20%20%20%20Central%20Toronto%2024%20%20%20%20%20Central%20Toronto%2025%20%20%20%20Downtown%20Toronto%2026%20%20%20%20Downtown%20Toronto%2027%20%20%20%20Downtown%20Toronto%2028%20%20%20%20Downtown%20Toronto%2029%20%20%20%20Downtown%20Toronto%2030%20%20%20%20Downtown%20Toronto%2031%20%20%20%20%20%20%20%20West%20Toronto%2032%20%20%20%20%20%20%20%20West%20Toronto%2033%20%20%20%20%20%20%20%20West%20Toronto%2034%20%20%20%20%20%20%20%20West%20Toronto%2035%20%20%20%20%20%20%20%20West%20Toronto%2036%20%20%20%20%20%20%20%20West%20Toronto%2037%20%20%20%20Downtown%20Toronto%2038%20%20%20%20%20%20%20%20East%20Toronto%20Name%3A%20Borough%2C%20dtype%3A%20object%20Cluster%203%3C/div%3E%60%29%5B0%5D%3B%0A%20%20%20%20%20%20%20%20%20%20%20%20popup_f95b5cbda6654b36a65285ecba43853a.setContent%28html_38a3549ac5d74463b2fcb7230b26c8e5%29%3B%0A%20%20%20%20%20%20%20%20%0A%0A%20%20%20%20%20%20%20%20circle_marker_167162ef6c9341768155a09a313ffd4b.bindPopup%28popup_f95b5cbda6654b36a65285ecba43853a%29%0A%20%20%20%20%20%20%20%20%3B%0A%0A%20%20%20%20%20%20%20%20%0A%20%20%20%20%0A%20%20%20%20%0A%20%20%20%20%20%20%20%20%20%20%20%20var%20circle_marker_735c2f5398f34881b423847a81f255fd%20%3D%20L.circleMarker%28%0A%20%20%20%20%20%20%20%20%20%20%20%20%20%20%20%20%5B43.6623015%2C%20-79.3894938%5D%2C%0A%20%20%20%20%20%20%20%20%20%20%20%20%20%20%20%20%7B%22bubblingMouseEvents%22%3A%20true%2C%20%22color%22%3A%20%22%238000ff%22%2C%20%22dashArray%22%3A%20null%2C%20%22dashOffset%22%3A%20null%2C%20%22fill%22%3A%20true%2C%20%22fillColor%22%3A%20%22%238000ff%22%2C%20%22fillOpacity%22%3A%200.7%2C%20%22fillRule%22%3A%20%22evenodd%22%2C%20%22lineCap%22%3A%20%22round%22%2C%20%22lineJoin%22%3A%20%22round%22%2C%20%22opacity%22%3A%201.0%2C%20%22radius%22%3A%204%2C%20%22stroke%22%3A%20true%2C%20%22weight%22%3A%203%7D%0A%20%20%20%20%20%20%20%20%20%20%20%20%29.addTo%28map_4908022add9e4a2bacbd1c81fe60caca%29%3B%0A%20%20%20%20%20%20%20%20%0A%20%20%20%20%0A%20%20%20%20%20%20%20%20var%20popup_8734798cb6ef4d1c88b980efc087fff5%20%3D%20L.popup%28%7B%22maxWidth%22%3A%20%22100%25%22%7D%29%3B%0A%0A%20%20%20%20%20%20%20%20%0A%20%20%20%20%20%20%20%20%20%20%20%20var%20html_7ee808817b81432cb46e31490ab9d4f9%20%3D%20%24%28%60%3Cdiv%20id%3D%22html_7ee808817b81432cb46e31490ab9d4f9%22%20style%3D%22width%3A%20100.0%25%3B%20height%3A%20100.0%25%3B%22%3E0%20%20%20%20%20%20%20%20%20East%20Toronto%201%20%20%20%20%20%20%20%20%20East%20Toronto%202%20%20%20%20%20%20%20%20%20East%20Toronto%203%20%20%20%20%20%20%20%20%20East%20Toronto%204%20%20%20%20%20%20Central%20Toronto%205%20%20%20%20%20%20Central%20Toronto%206%20%20%20%20%20%20Central%20Toronto%207%20%20%20%20%20%20Central%20Toronto%208%20%20%20%20%20%20Central%20Toronto%209%20%20%20%20%20%20Central%20Toronto%2010%20%20%20%20Downtown%20Toronto%2011%20%20%20%20Downtown%20Toronto%2012%20%20%20%20Downtown%20Toronto%2013%20%20%20%20Downtown%20Toronto%2014%20%20%20%20Downtown%20Toronto%2015%20%20%20%20Downtown%20Toronto%2016%20%20%20%20Downtown%20Toronto%2017%20%20%20%20Downtown%20Toronto%2018%20%20%20%20Downtown%20Toronto%2019%20%20%20%20Downtown%20Toronto%2020%20%20%20%20Downtown%20Toronto%2021%20%20%20%20Downtown%20Toronto%2022%20%20%20%20%20Central%20Toronto%2023%20%20%20%20%20Central%20Toronto%2024%20%20%20%20%20Central%20Toronto%2025%20%20%20%20Downtown%20Toronto%2026%20%20%20%20Downtown%20Toronto%2027%20%20%20%20Downtown%20Toronto%2028%20%20%20%20Downtown%20Toronto%2029%20%20%20%20Downtown%20Toronto%2030%20%20%20%20Downtown%20Toronto%2031%20%20%20%20%20%20%20%20West%20Toronto%2032%20%20%20%20%20%20%20%20West%20Toronto%2033%20%20%20%20%20%20%20%20West%20Toronto%2034%20%20%20%20%20%20%20%20West%20Toronto%2035%20%20%20%20%20%20%20%20West%20Toronto%2036%20%20%20%20%20%20%20%20West%20Toronto%2037%20%20%20%20Downtown%20Toronto%2038%20%20%20%20%20%20%20%20East%20Toronto%20Name%3A%20Borough%2C%20dtype%3A%20object%20Cluster%201%3C/div%3E%60%29%5B0%5D%3B%0A%20%20%20%20%20%20%20%20%20%20%20%20popup_8734798cb6ef4d1c88b980efc087fff5.setContent%28html_7ee808817b81432cb46e31490ab9d4f9%29%3B%0A%20%20%20%20%20%20%20%20%0A%0A%20%20%20%20%20%20%20%20circle_marker_735c2f5398f34881b423847a81f255fd.bindPopup%28popup_8734798cb6ef4d1c88b980efc087fff5%29%0A%20%20%20%20%20%20%20%20%3B%0A%0A%20%20%20%20%20%20%20%20%0A%20%20%20%20%0A%20%20%20%20%0A%20%20%20%20%20%20%20%20%20%20%20%20var%20circle_marker_87965097abbb4e33a6a4131a3ad9b45d%20%3D%20L.circleMarker%28%0A%20%20%20%20%20%20%20%20%20%20%20%20%20%20%20%20%5B43.6627439%2C%20-79.321558%5D%2C%0A%20%20%20%20%20%20%20%20%20%20%20%20%20%20%20%20%7B%22bubblingMouseEvents%22%3A%20true%2C%20%22color%22%3A%20%22%23ff0000%22%2C%20%22dashArray%22%3A%20null%2C%20%22dashOffset%22%3A%20null%2C%20%22fill%22%3A%20true%2C%20%22fillColor%22%3A%20%22%23ff0000%22%2C%20%22fillOpacity%22%3A%200.7%2C%20%22fillRule%22%3A%20%22evenodd%22%2C%20%22lineCap%22%3A%20%22round%22%2C%20%22lineJoin%22%3A%20%22round%22%2C%20%22opacity%22%3A%201.0%2C%20%22radius%22%3A%204%2C%20%22stroke%22%3A%20true%2C%20%22weight%22%3A%203%7D%0A%20%20%20%20%20%20%20%20%20%20%20%20%29.addTo%28map_4908022add9e4a2bacbd1c81fe60caca%29%3B%0A%20%20%20%20%20%20%20%20%0A%20%20%20%20%0A%20%20%20%20%20%20%20%20var%20popup_94268d835457478282495b650215de25%20%3D%20L.popup%28%7B%22maxWidth%22%3A%20%22100%25%22%7D%29%3B%0A%0A%20%20%20%20%20%20%20%20%0A%20%20%20%20%20%20%20%20%20%20%20%20var%20html_269c9e7758034b4ba2f60b8ae5181f91%20%3D%20%24%28%60%3Cdiv%20id%3D%22html_269c9e7758034b4ba2f60b8ae5181f91%22%20style%3D%22width%3A%20100.0%25%3B%20height%3A%20100.0%25%3B%22%3E0%20%20%20%20%20%20%20%20%20East%20Toronto%201%20%20%20%20%20%20%20%20%20East%20Toronto%202%20%20%20%20%20%20%20%20%20East%20Toronto%203%20%20%20%20%20%20%20%20%20East%20Toronto%204%20%20%20%20%20%20Central%20Toronto%205%20%20%20%20%20%20Central%20Toronto%206%20%20%20%20%20%20Central%20Toronto%207%20%20%20%20%20%20Central%20Toronto%208%20%20%20%20%20%20Central%20Toronto%209%20%20%20%20%20%20Central%20Toronto%2010%20%20%20%20Downtown%20Toronto%2011%20%20%20%20Downtown%20Toronto%2012%20%20%20%20Downtown%20Toronto%2013%20%20%20%20Downtown%20Toronto%2014%20%20%20%20Downtown%20Toronto%2015%20%20%20%20Downtown%20Toronto%2016%20%20%20%20Downtown%20Toronto%2017%20%20%20%20Downtown%20Toronto%2018%20%20%20%20Downtown%20Toronto%2019%20%20%20%20Downtown%20Toronto%2020%20%20%20%20Downtown%20Toronto%2021%20%20%20%20Downtown%20Toronto%2022%20%20%20%20%20Central%20Toronto%2023%20%20%20%20%20Central%20Toronto%2024%20%20%20%20%20Central%20Toronto%2025%20%20%20%20Downtown%20Toronto%2026%20%20%20%20Downtown%20Toronto%2027%20%20%20%20Downtown%20Toronto%2028%20%20%20%20Downtown%20Toronto%2029%20%20%20%20Downtown%20Toronto%2030%20%20%20%20Downtown%20Toronto%2031%20%20%20%20%20%20%20%20West%20Toronto%2032%20%20%20%20%20%20%20%20West%20Toronto%2033%20%20%20%20%20%20%20%20West%20Toronto%2034%20%20%20%20%20%20%20%20West%20Toronto%2035%20%20%20%20%20%20%20%20West%20Toronto%2036%20%20%20%20%20%20%20%20West%20Toronto%2037%20%20%20%20Downtown%20Toronto%2038%20%20%20%20%20%20%20%20East%20Toronto%20Name%3A%20Borough%2C%20dtype%3A%20object%20Cluster%204%3C/div%3E%60%29%5B0%5D%3B%0A%20%20%20%20%20%20%20%20%20%20%20%20popup_94268d835457478282495b650215de25.setContent%28html_269c9e7758034b4ba2f60b8ae5181f91%29%3B%0A%20%20%20%20%20%20%20%20%0A%0A%20%20%20%20%20%20%20%20circle_marker_87965097abbb4e33a6a4131a3ad9b45d.bindPopup%28popup_94268d835457478282495b650215de25%29%0A%20%20%20%20%20%20%20%20%3B%0A%0A%20%20%20%20%20%20%20%20%0A%20%20%20%20%0A%3C/script%3E onload=\"this.contentDocument.open();this.contentDocument.write(    decodeURIComponent(this.getAttribute('data-html')));this.contentDocument.close();\" allowfullscreen webkitallowfullscreen mozallowfullscreen></iframe></div></div>"
      ],
      "text/plain": [
       "<folium.folium.Map at 0x258bcaa0a48>"
      ]
     },
     "execution_count": 62,
     "metadata": {},
     "output_type": "execute_result"
    }
   ],
   "source": [
    "MapOfToronto"
   ]
  },
  {
   "cell_type": "markdown",
   "metadata": {},
   "source": [
    "All done.  Pretty cool vis."
   ]
  },
  {
   "cell_type": "code",
   "execution_count": null,
   "metadata": {},
   "outputs": [],
   "source": []
  }
 ],
 "metadata": {
  "kernelspec": {
   "display_name": "Python 3",
   "language": "python",
   "name": "python3"
  },
  "language_info": {
   "codemirror_mode": {
    "name": "ipython",
    "version": 3
   },
   "file_extension": ".py",
   "mimetype": "text/x-python",
   "name": "python",
   "nbconvert_exporter": "python",
   "pygments_lexer": "ipython3",
   "version": "3.7.9"
  }
 },
 "nbformat": 4,
 "nbformat_minor": 4
}
